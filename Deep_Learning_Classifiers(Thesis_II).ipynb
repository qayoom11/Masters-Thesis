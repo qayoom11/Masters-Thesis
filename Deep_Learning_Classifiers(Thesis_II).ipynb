{
  "nbformat": 4,
  "nbformat_minor": 0,
  "metadata": {
    "accelerator": "GPU",
    "colab": {
      "name": "Deep Learning Classifiers(Thesis II).ipynb",
      "provenance": [],
      "collapsed_sections": []
    },
    "kernelspec": {
      "display_name": "Python 3",
      "language": "python",
      "name": "python3"
    },
    "language_info": {
      "codemirror_mode": {
        "name": "ipython",
        "version": 3
      },
      "file_extension": ".py",
      "mimetype": "text/x-python",
      "name": "python",
      "nbconvert_exporter": "python",
      "pygments_lexer": "ipython3",
      "version": "3.6.4"
    }
  },
  "cells": [
    {
      "cell_type": "markdown",
      "metadata": {
        "collapsed": true,
        "id": "TMRqH9312Nsu"
      },
      "source": [
        "# Import the necessary libraries"
      ]
    },
    {
      "cell_type": "code",
      "metadata": {
        "id": "60KxN2HK2Nsv"
      },
      "source": [
        "import pandas as pd\n",
        "import numpy as np\n",
        "import matplotlib.pyplot as plt\n",
        "import seaborn as sns\n",
        "from sklearn.model_selection import train_test_split\n",
        "from sklearn.preprocessing import LabelEncoder\n",
        "from keras.models import Model, Sequential\n",
        "from keras.layers import LSTM, Activation, Dense, Dropout, Input, Embedding,Bidirectional, TimeDistributed,GlobalMaxPool1D,Masking\n",
        "from keras.optimizers import RMSprop\n",
        "from keras.preprocessing.text import Tokenizer\n",
        "from keras.preprocessing import sequence\n",
        "from keras.utils import to_categorical\n",
        "from keras.callbacks import EarlyStopping\n",
        "import json\n",
        "from sklearn.model_selection import KFold\n",
        "%matplotlib inline"
      ],
      "execution_count": null,
      "outputs": []
    },
    {
      "cell_type": "markdown",
      "metadata": {
        "id": "R5EAoCvo2Nsy"
      },
      "source": [
        "### Load the data into Pandas dataframe"
      ]
    },
    {
      "cell_type": "code",
      "metadata": {
        "colab": {
          "base_uri": "https://localhost:8080/"
        },
        "id": "2jaPk0st2Nsz",
        "outputId": "f2f3f2ff-52d3-44bf-8a1e-8deb8b3f3e7a"
      },
      "source": [
        "from google.colab import drive\n",
        "drive.mount('/content/drive')"
      ],
      "execution_count": null,
      "outputs": [
        {
          "output_type": "stream",
          "text": [
            "Mounted at /content/drive\n"
          ],
          "name": "stdout"
        }
      ]
    },
    {
      "cell_type": "markdown",
      "metadata": {
        "id": "NuB13uAG2Ns1"
      },
      "source": [
        "Drop the columns that are not required for the neural network."
      ]
    },
    {
      "cell_type": "code",
      "metadata": {
        "id": "4eGOrydG2Ns2",
        "scrolled": true
      },
      "source": [
        "with open('/content/drive/My Drive/max-labels-intense-selection.json', 'r', encoding='utf-8') as file:\n",
        "    data = json.load(file)"
      ],
      "execution_count": null,
      "outputs": []
    },
    {
      "cell_type": "code",
      "metadata": {
        "id": "PWfeI5fi2rvw"
      },
      "source": [
        "X = ([x[0] for x in data])\n",
        "\n",
        "y = np.array([x[1] for x in data])\n"
      ],
      "execution_count": null,
      "outputs": []
    },
    {
      "cell_type": "markdown",
      "metadata": {
        "id": "5cTY0OWB2Ns4"
      },
      "source": [
        "Understand the distribution better."
      ]
    },
    {
      "cell_type": "markdown",
      "metadata": {
        "id": "iNuGw_142Ns7"
      },
      "source": [
        "* Create input and output vectors.\n",
        "* Process the labels."
      ]
    },
    {
      "cell_type": "code",
      "metadata": {
        "id": "Uzcz7q6C2Ns8"
      },
      "source": [
        "X = X\n",
        "Y = y\n",
        "le = LabelEncoder()\n",
        "Y = le.fit_transform(Y)\n",
        "Y = Y.reshape(-1,1)"
      ],
      "execution_count": null,
      "outputs": []
    },
    {
      "cell_type": "markdown",
      "metadata": {
        "id": "QfcONUYG2Ns-"
      },
      "source": [
        "Split into training and test data."
      ]
    },
    {
      "cell_type": "markdown",
      "metadata": {
        "id": "HEggC-lE2NtB"
      },
      "source": [
        "### Process the data\n",
        "* Tokenize the data and convert the text to sequences.\n",
        "* Add padding to ensure that all the sequences have the same shape.\n",
        "* There are many ways of taking the *max_len* and here an arbitrary length of 150 is chosen."
      ]
    },
    {
      "cell_type": "code",
      "metadata": {
        "id": "LP4oJCqe2NtC"
      },
      "source": [
        "max_words = 10000\n",
        "max_len = 150\n",
        "tok = Tokenizer(num_words=max_words)\n",
        "tok.fit_on_texts(X)\n",
        "sequences = tok.texts_to_sequences(X)\n",
        "sequences_matrix = sequence.pad_sequences(sequences,maxlen=max_len)"
      ],
      "execution_count": null,
      "outputs": []
    },
    {
      "cell_type": "markdown",
      "metadata": {
        "id": "t96Ro0dXvBE_"
      },
      "source": [
        "RNN with GRU"
      ]
    },
    {
      "cell_type": "code",
      "metadata": {
        "id": "vdZ8aS1woxQX"
      },
      "source": [
        "from keras import layers, models, optimizers\n",
        "embedding_matrix = np.zeros((len(tok.word_index) + 1, 256))\n",
        "def rnn_gru():\n",
        "  input_layer = layers.Input((max_len, ))\n",
        "  # Add the word embedding Layer\n",
        "  embedding_layer = layers.Embedding(len(tok.word_index) + 1, 256, weights=[embedding_matrix], trainable=False)(input_layer)\n",
        "  embedding_layer = layers.SpatialDropout1D(0.2)(embedding_layer)\n",
        "  # Add the GRU Layer\n",
        "  lstm_layer = layers.GRU(256)(embedding_layer) \n",
        "  \n",
        "  #embedding_layer = layers.SpatialDropout1D(0.2)(lstm_layer)\n",
        "\n",
        "  lstm_layer = layers.GRU(256)(embedding_layer) \n",
        "  # Add the output Layers\n",
        "  output_layer1 = layers.Dense(1, activation=\"relu\")(lstm_layer)\n",
        "  output_layer1 = layers.Dropout(0.2)(output_layer1)\n",
        "  output_layer2 = layers.Dense(1, activation=\"sigmoid\")(output_layer1)\n",
        "  # Compile the model\n",
        "  model = models.Model(inputs=input_layer, outputs=output_layer2)\n",
        "  model.compile(optimizer=optimizers.Adam(), loss='binary_crossentropy',metrics=['accuracy'])\n",
        "  return model"
      ],
      "execution_count": null,
      "outputs": []
    },
    {
      "cell_type": "code",
      "metadata": {
        "colab": {
          "base_uri": "https://localhost:8080/"
        },
        "id": "f5KHh0URsDI7",
        "outputId": "ace8c61b-047e-408a-8b8f-7a1ff252eb7b"
      },
      "source": [
        "mod = rnn_gru()\n",
        "history = mod.fit(sequences_matrix, Y,validation_split=0.2, batch_size=128, epochs=10)"
      ],
      "execution_count": null,
      "outputs": [
        {
          "output_type": "stream",
          "text": [
            "Epoch 1/10\n",
            "125/125 [==============================] - 4s 30ms/step - loss: 0.6931 - accuracy: 0.5003 - val_loss: 0.6933 - val_accuracy: 0.4843\n",
            "Epoch 2/10\n",
            "125/125 [==============================] - 3s 27ms/step - loss: 0.6931 - accuracy: 0.5039 - val_loss: 0.6933 - val_accuracy: 0.4843\n",
            "Epoch 3/10\n",
            "125/125 [==============================] - 3s 26ms/step - loss: 0.6931 - accuracy: 0.5039 - val_loss: 0.6934 - val_accuracy: 0.4843\n",
            "Epoch 4/10\n",
            "125/125 [==============================] - 3s 26ms/step - loss: 0.6931 - accuracy: 0.5039 - val_loss: 0.6934 - val_accuracy: 0.4843\n",
            "Epoch 5/10\n",
            "125/125 [==============================] - 3s 26ms/step - loss: 0.6931 - accuracy: 0.5039 - val_loss: 0.6933 - val_accuracy: 0.4843\n",
            "Epoch 6/10\n",
            "125/125 [==============================] - 3s 26ms/step - loss: 0.6931 - accuracy: 0.5039 - val_loss: 0.6934 - val_accuracy: 0.4843\n",
            "Epoch 7/10\n",
            "125/125 [==============================] - 3s 27ms/step - loss: 0.6931 - accuracy: 0.5039 - val_loss: 0.6935 - val_accuracy: 0.4843\n",
            "Epoch 8/10\n",
            "125/125 [==============================] - 3s 27ms/step - loss: 0.6931 - accuracy: 0.5039 - val_loss: 0.6934 - val_accuracy: 0.4843\n",
            "Epoch 9/10\n",
            "125/125 [==============================] - 3s 26ms/step - loss: 0.6931 - accuracy: 0.5039 - val_loss: 0.6934 - val_accuracy: 0.4843\n",
            "Epoch 10/10\n",
            "125/125 [==============================] - 3s 26ms/step - loss: 0.6931 - accuracy: 0.5039 - val_loss: 0.6934 - val_accuracy: 0.4843\n"
          ],
          "name": "stdout"
        }
      ]
    },
    {
      "cell_type": "code",
      "metadata": {
        "colab": {
          "base_uri": "https://localhost:8080/"
        },
        "id": "XMlzHmfsBIxe",
        "outputId": "892728ed-f56f-487c-fa21-625d309c2549"
      },
      "source": [
        "loss, accuracy = mod.evaluate(sequences_matrix, Y)\n",
        "print('Accuracy: %f' % (accuracy*100))"
      ],
      "execution_count": null,
      "outputs": [
        {
          "output_type": "stream",
          "text": [
            "625/625 [==============================] - 4s 7ms/step - loss: 0.6932 - accuracy: 0.5000\n",
            "Accuracy: 50.000000\n"
          ],
          "name": "stdout"
        }
      ]
    },
    {
      "cell_type": "markdown",
      "metadata": {
        "id": "7wdRITTd3qg-"
      },
      "source": [
        "rnn with cnn layer"
      ]
    },
    {
      "cell_type": "code",
      "metadata": {
        "id": "AKaewTOh1p1R"
      },
      "source": [
        "from keras.layers import Convolution1D\n",
        "embedding_matrix = np.zeros((len(tok.word_index) + 1, 300))\n",
        "\n",
        "def rnn_cnn():\n",
        "  # Add an Input Layer\n",
        "  input_layer = layers.Input((max_len, ))\n",
        "  \n",
        "  # Add the word embedding Layer\n",
        "  embedding_layer = layers.Embedding(len(tok.word_index) + 1, 300, weights=[embedding_matrix], trainable=False)(input_layer)\n",
        "  embedding_layer = layers.SpatialDropout1D(0.3)(embedding_layer)\n",
        "  \n",
        "  # Add the recurrent layer\n",
        "  rnn_layer = layers.Bidirectional(layers.GRU(50, return_sequences=True))(embedding_layer)\n",
        "    \n",
        "  # Add the convolutional Layer\n",
        "  conv_layer = layers.Convolution1D(100, 3, activation=\"relu\")(embedding_layer)\n",
        "  \n",
        "  # Add the pooling Layer\n",
        "  pooling_layer = layers.GlobalMaxPool1D()(conv_layer)\n",
        "  \n",
        "  # Add the output Layers\n",
        "  output_layer1 = layers.Dense(50, activation=\"relu\")(pooling_layer)\n",
        "  output_layer1 = layers.Dropout(0.2)(output_layer1)\n",
        "  output_layer2 = layers.Dense(1, activation=\"sigmoid\")(output_layer1)\n",
        "\n",
        "  # Compile the model\n",
        "  model = models.Model(inputs=input_layer, outputs=output_layer2)\n",
        "  model.compile(optimizer=optimizers.Adam(), loss='binary_crossentropy',metrics=['accuracy'])\n",
        "    \n",
        "  return model\n"
      ],
      "execution_count": null,
      "outputs": []
    },
    {
      "cell_type": "code",
      "metadata": {
        "colab": {
          "base_uri": "https://localhost:8080/"
        },
        "id": "d_5omvO92cAj",
        "outputId": "e95136e9-927b-4eac-8b03-72bea17fd124"
      },
      "source": [
        "mod = rnn_cnn()\n",
        "history = mod.fit(sequences_matrix, Y,validation_split=0.2, batch_size=128, epochs=10)"
      ],
      "execution_count": null,
      "outputs": [
        {
          "output_type": "stream",
          "text": [
            "Epoch 1/10\n",
            "125/125 [==============================] - 2s 12ms/step - loss: 0.6931 - accuracy: 0.4992 - val_loss: 0.6933 - val_accuracy: 0.4843\n",
            "Epoch 2/10\n",
            "125/125 [==============================] - 1s 11ms/step - loss: 0.6931 - accuracy: 0.5039 - val_loss: 0.6934 - val_accuracy: 0.4843\n",
            "Epoch 3/10\n",
            "125/125 [==============================] - 1s 12ms/step - loss: 0.6931 - accuracy: 0.5039 - val_loss: 0.6934 - val_accuracy: 0.4843\n",
            "Epoch 4/10\n",
            "125/125 [==============================] - 1s 11ms/step - loss: 0.6931 - accuracy: 0.5039 - val_loss: 0.6934 - val_accuracy: 0.4843\n",
            "Epoch 5/10\n",
            "125/125 [==============================] - 1s 11ms/step - loss: 0.6931 - accuracy: 0.5039 - val_loss: 0.6934 - val_accuracy: 0.4843\n",
            "Epoch 6/10\n",
            "125/125 [==============================] - 1s 11ms/step - loss: 0.6931 - accuracy: 0.5039 - val_loss: 0.6935 - val_accuracy: 0.4843\n",
            "Epoch 7/10\n",
            "125/125 [==============================] - 1s 11ms/step - loss: 0.6931 - accuracy: 0.5039 - val_loss: 0.6935 - val_accuracy: 0.4843\n",
            "Epoch 8/10\n",
            "125/125 [==============================] - 1s 11ms/step - loss: 0.6931 - accuracy: 0.5039 - val_loss: 0.6934 - val_accuracy: 0.4843\n",
            "Epoch 9/10\n",
            "125/125 [==============================] - 1s 11ms/step - loss: 0.6931 - accuracy: 0.5039 - val_loss: 0.6934 - val_accuracy: 0.4843\n",
            "Epoch 10/10\n",
            "125/125 [==============================] - 1s 11ms/step - loss: 0.6931 - accuracy: 0.5039 - val_loss: 0.6934 - val_accuracy: 0.4843\n"
          ],
          "name": "stdout"
        }
      ]
    },
    {
      "cell_type": "code",
      "metadata": {
        "colab": {
          "base_uri": "https://localhost:8080/",
          "height": 265
        },
        "id": "I01oL0Nt4JyB",
        "outputId": "a36e5593-7996-4bfd-8246-ad6ba2def076"
      },
      "source": [
        "plt.plot(history.history['accuracy'], label='MAE (training data)')\n",
        "plt.plot(history.history['val_accuracy'], label='MAE (validation data)')\n",
        "plt.show()"
      ],
      "execution_count": null,
      "outputs": [
        {
          "output_type": "display_data",
          "data": {
            "image/png": "[encoded data removed]",
            "text/plain": [
              "<Figure size 432x288 with 1 Axes>"
            ]
          },
          "metadata": {
            "tags": []
          }
        }
      ]
    },
    {
      "cell_type": "code",
      "metadata": {
        "colab": {
          "base_uri": "https://localhost:8080/"
        },
        "id": "skXTQGRpB0Y2",
        "outputId": "dcd019f5-a49d-4539-a771-856b326551a6"
      },
      "source": [
        "loss, accuracy = mod.evaluate(sequences_matrix, Y)\n",
        "print('Accuracy: %f' % (accuracy*100))"
      ],
      "execution_count": null,
      "outputs": [
        {
          "output_type": "stream",
          "text": [
            "625/625 [==============================] - 2s 4ms/step - loss: 0.6932 - accuracy: 0.5000\n",
            "Accuracy: 50.000000\n"
          ],
          "name": "stdout"
        }
      ]
    },
    {
      "cell_type": "markdown",
      "metadata": {
        "id": "n9-J3rX42NtE"
      },
      "source": [
        "### RNN\n",
        "Define the RNN structure."
      ]
    },
    {
      "cell_type": "code",
      "metadata": {
        "id": "MS9YF6Km2NtE"
      },
      "source": [
        "def RNN():\n",
        "    inputs = Input(name='inputs',shape=[max_len])\n",
        "    layer = Embedding(max_words,50,input_length=max_len)(inputs)\n",
        "    layer = LSTM(64)(layer)\n",
        "    layer = Dense(256,name='FC1')(layer)\n",
        "    layer = Activation('relu')(layer)\n",
        "    layer = Dropout(0.5)(layer)\n",
        "    layer = Dense(1,name='out_layer')(layer)\n",
        "    layer = Activation('sigmoid')(layer)\n",
        "    model = Model(inputs=inputs,outputs=layer)\n",
        "    return model"
      ],
      "execution_count": null,
      "outputs": []
    },
    {
      "cell_type": "markdown",
      "metadata": {
        "id": "z0_7quOa2NtG"
      },
      "source": [
        "Call the function and compile the model."
      ]
    },
    {
      "cell_type": "code",
      "metadata": {
        "colab": {
          "base_uri": "https://localhost:8080/"
        },
        "id": "AUmBVyIu2NtH",
        "outputId": "c627ab33-5338-4c25-fda7-0c872f8d25d7"
      },
      "source": [
        "model = RNN()\n",
        "model.summary()\n",
        "model.compile(loss='binary_crossentropy',optimizer=RMSprop(),metrics=['accuracy'])"
      ],
      "execution_count": null,
      "outputs": [
        {
          "output_type": "stream",
          "text": [
            "Model: \"functional_5\"\n",
            "_________________________________________________________________\n",
            "Layer (type)                 Output Shape              Param #   \n",
            "=================================================================\n",
            "inputs (InputLayer)          [(None, 150)]             0         \n",
            "_________________________________________________________________\n",
            "embedding_2 (Embedding)      (None, 150, 50)           500000    \n",
            "_________________________________________________________________\n",
            "lstm (LSTM)                  (None, 64)                29440     \n",
            "_________________________________________________________________\n",
            "FC1 (Dense)                  (None, 256)               16640     \n",
            "_________________________________________________________________\n",
            "activation (Activation)      (None, 256)               0         \n",
            "_________________________________________________________________\n",
            "dropout_2 (Dropout)          (None, 256)               0         \n",
            "_________________________________________________________________\n",
            "out_layer (Dense)            (None, 1)                 257       \n",
            "_________________________________________________________________\n",
            "activation_1 (Activation)    (None, 1)                 0         \n",
            "=================================================================\n",
            "Total params: 546,337\n",
            "Trainable params: 546,337\n",
            "Non-trainable params: 0\n",
            "_________________________________________________________________\n"
          ],
          "name": "stdout"
        }
      ]
    },
    {
      "cell_type": "markdown",
      "metadata": {
        "id": "RPktGLby2NtJ"
      },
      "source": [
        "Fit on the training data."
      ]
    },
    {
      "cell_type": "code",
      "metadata": {
        "colab": {
          "base_uri": "https://localhost:8080/"
        },
        "id": "326SJwgm2NtJ",
        "outputId": "c928793c-cffb-485a-ab51-2efffae2f515"
      },
      "source": [
        "history = model.fit(sequences_matrix, Y,validation_split=0.2, batch_size=128, epochs=10)"
      ],
      "execution_count": null,
      "outputs": [
        {
          "output_type": "stream",
          "text": [
            "Epoch 1/10\n",
            "125/125 [==============================] - 2s 20ms/step - loss: 0.5492 - accuracy: 0.7328 - val_loss: 0.5116 - val_accuracy: 0.7655\n",
            "Epoch 2/10\n",
            "125/125 [==============================] - 2s 17ms/step - loss: 0.4692 - accuracy: 0.7849 - val_loss: 0.5412 - val_accuracy: 0.7385\n",
            "Epoch 3/10\n",
            "125/125 [==============================] - 2s 16ms/step - loss: 0.4056 - accuracy: 0.8207 - val_loss: 0.5308 - val_accuracy: 0.7660\n",
            "Epoch 4/10\n",
            "125/125 [==============================] - 2s 16ms/step - loss: 0.3637 - accuracy: 0.8440 - val_loss: 0.5356 - val_accuracy: 0.7580\n",
            "Epoch 5/10\n",
            "125/125 [==============================] - 2s 16ms/step - loss: 0.3332 - accuracy: 0.8554 - val_loss: 0.5516 - val_accuracy: 0.7523\n",
            "Epoch 6/10\n",
            "125/125 [==============================] - 2s 16ms/step - loss: 0.3047 - accuracy: 0.8723 - val_loss: 0.5456 - val_accuracy: 0.7508\n",
            "Epoch 7/10\n",
            "125/125 [==============================] - 2s 16ms/step - loss: 0.2730 - accuracy: 0.8864 - val_loss: 0.6447 - val_accuracy: 0.7303\n",
            "Epoch 8/10\n",
            "125/125 [==============================] - 2s 16ms/step - loss: 0.2456 - accuracy: 0.8991 - val_loss: 0.6858 - val_accuracy: 0.7330\n",
            "Epoch 9/10\n",
            "125/125 [==============================] - 2s 16ms/step - loss: 0.2159 - accuracy: 0.9147 - val_loss: 0.7600 - val_accuracy: 0.7480\n",
            "Epoch 10/10\n",
            "125/125 [==============================] - 2s 16ms/step - loss: 0.1891 - accuracy: 0.9258 - val_loss: 0.8025 - val_accuracy: 0.7247\n"
          ],
          "name": "stdout"
        }
      ]
    },
    {
      "cell_type": "markdown",
      "metadata": {
        "id": "UqZzJ1dy2NtL"
      },
      "source": [
        "The model performs well on the validation set and this configuration is chosen as the final model."
      ]
    },
    {
      "cell_type": "markdown",
      "metadata": {
        "id": "Za2GcyXd2NtM"
      },
      "source": [
        "Process the test set data."
      ]
    },
    {
      "cell_type": "markdown",
      "metadata": {
        "id": "pHhq4XXG2NtQ"
      },
      "source": [
        "Evaluate the model on the test set."
      ]
    },
    {
      "cell_type": "code",
      "metadata": {
        "colab": {
          "base_uri": "https://localhost:8080/",
          "height": 265
        },
        "id": "eBtIyJr62NtQ",
        "outputId": "46664034-a9a6-409d-c2cc-6a5f7beac302"
      },
      "source": [
        "plt.plot(history.history['loss'], label='MAE (training data)')\n",
        "plt.plot(history.history['val_loss'], label='MAE (validation data)')\n",
        "plt.show()"
      ],
      "execution_count": null,
      "outputs": [
        {
          "output_type": "display_data",
          "data": {
            "image/png": "[encoded data removed]",
            "text/plain": [
              "<Figure size 432x288 with 1 Axes>"
            ]
          },
          "metadata": {
            "tags": []
          }
        }
      ]
    },
    {
      "cell_type": "code",
      "metadata": {
        "colab": {
          "base_uri": "https://localhost:8080/"
        },
        "id": "w2_qIEHdCIj6",
        "outputId": "58ee8a3d-e809-4b32-f9c9-1a8542f6828d"
      },
      "source": [
        "loss, accuracy = model.evaluate(sequences_matrix, Y)\n",
        "print('Accuracy: %f' % (accuracy*100))"
      ],
      "execution_count": null,
      "outputs": [
        {
          "output_type": "stream",
          "text": [
            "625/625 [==============================] - 4s 6ms/step - loss: 0.2746 - accuracy: 0.9026\n",
            "Accuracy: 90.259999\n"
          ],
          "name": "stdout"
        }
      ]
    },
    {
      "cell_type": "code",
      "metadata": {
        "id": "lOmhbt5BsEGD"
      },
      "source": [
        "def BiDir():\n",
        "  inp = Input(shape=[max_len])\n",
        "  x = Embedding(max_words,50,input_length=max_len)(inp)\n",
        "  x = Bidirectional(LSTM(256, return_sequences=True, dropout=0.25, recurrent_dropout=0))(x)\n",
        "  x = Bidirectional(LSTM(256, return_sequences=True, dropout=0.25, recurrent_dropout=0))(x)\n",
        " # x = GlobalMaxPool1D()(x)\n",
        "  x = Dense(256, activation=\"relu\")(x)\n",
        "  x = Dropout(0.2)(x)\n",
        "  x = Dense(1, activation=\"sigmoid\")(x)\n",
        "  model = Model(inputs=inp, outputs=x)\n",
        "  return model"
      ],
      "execution_count": null,
      "outputs": []
    },
    {
      "cell_type": "code",
      "metadata": {
        "colab": {
          "base_uri": "https://localhost:8080/"
        },
        "id": "4HW_u2RjxNHo",
        "outputId": "3b2a2c7c-f0d8-40ce-f6bf-e61d43c21279"
      },
      "source": [
        "model1 = BiDir()\n",
        "model1.summary()\n",
        "model1.compile(loss='binary_crossentropy',optimizer=RMSprop(),metrics=['accuracy'])"
      ],
      "execution_count": null,
      "outputs": [
        {
          "output_type": "stream",
          "text": [
            "Model: \"functional_7\"\n",
            "_________________________________________________________________\n",
            "Layer (type)                 Output Shape              Param #   \n",
            "=================================================================\n",
            "input_3 (InputLayer)         [(None, 150)]             0         \n",
            "_________________________________________________________________\n",
            "embedding_3 (Embedding)      (None, 150, 50)           500000    \n",
            "_________________________________________________________________\n",
            "bidirectional_1 (Bidirection (None, 150, 512)          628736    \n",
            "_________________________________________________________________\n",
            "bidirectional_2 (Bidirection (None, 150, 512)          1574912   \n",
            "_________________________________________________________________\n",
            "dense_4 (Dense)              (None, 150, 256)          131328    \n",
            "_________________________________________________________________\n",
            "dropout_3 (Dropout)          (None, 150, 256)          0         \n",
            "_________________________________________________________________\n",
            "dense_5 (Dense)              (None, 150, 1)            257       \n",
            "=================================================================\n",
            "Total params: 2,835,233\n",
            "Trainable params: 2,835,233\n",
            "Non-trainable params: 0\n",
            "_________________________________________________________________\n"
          ],
          "name": "stdout"
        }
      ]
    },
    {
      "cell_type": "code",
      "metadata": {
        "colab": {
          "base_uri": "https://localhost:8080/"
        },
        "id": "mCGAYiHFxVEi",
        "outputId": "49539fdc-7eae-43cb-e33e-3a9439662dec"
      },
      "source": [
        "history = model1.fit(sequences_matrix, Y,validation_split=0.2, batch_size=128, epochs=100)"
      ],
      "execution_count": null,
      "outputs": [
        {
          "output_type": "stream",
          "text": [
            "Epoch 1/100\n",
            "125/125 [==============================] - 16s 131ms/step - loss: 0.6686 - accuracy: 0.6236 - val_loss: 0.5566 - val_accuracy: 0.7347\n",
            "Epoch 2/100\n",
            "125/125 [==============================] - 15s 117ms/step - loss: 0.5267 - accuracy: 0.7509 - val_loss: 0.5066 - val_accuracy: 0.7680\n",
            "Epoch 3/100\n",
            "125/125 [==============================] - 15s 119ms/step - loss: 0.4532 - accuracy: 0.8021 - val_loss: 0.5286 - val_accuracy: 0.7606\n",
            "Epoch 4/100\n",
            "125/125 [==============================] - 15s 118ms/step - loss: 0.4060 - accuracy: 0.8284 - val_loss: 0.5561 - val_accuracy: 0.7366\n",
            "Epoch 5/100\n",
            "125/125 [==============================] - 15s 118ms/step - loss: 0.3763 - accuracy: 0.8434 - val_loss: 0.5452 - val_accuracy: 0.7559\n",
            "Epoch 6/100\n",
            "125/125 [==============================] - 15s 118ms/step - loss: 0.3510 - accuracy: 0.8591 - val_loss: 0.5859 - val_accuracy: 0.7548\n",
            "Epoch 7/100\n",
            "125/125 [==============================] - 15s 118ms/step - loss: 0.3302 - accuracy: 0.8672 - val_loss: 0.5726 - val_accuracy: 0.7496\n",
            "Epoch 8/100\n",
            "125/125 [==============================] - 15s 118ms/step - loss: 0.3063 - accuracy: 0.8793 - val_loss: 0.6059 - val_accuracy: 0.7550\n",
            "Epoch 9/100\n",
            "125/125 [==============================] - 15s 118ms/step - loss: 0.2908 - accuracy: 0.8857 - val_loss: 0.6085 - val_accuracy: 0.7379\n",
            "Epoch 10/100\n",
            "125/125 [==============================] - 15s 118ms/step - loss: 0.2713 - accuracy: 0.8968 - val_loss: 0.6495 - val_accuracy: 0.7309\n",
            "Epoch 11/100\n",
            "125/125 [==============================] - 15s 118ms/step - loss: 0.2507 - accuracy: 0.9061 - val_loss: 0.6059 - val_accuracy: 0.7385\n",
            "Epoch 12/100\n",
            "125/125 [==============================] - 15s 118ms/step - loss: 0.2345 - accuracy: 0.9124 - val_loss: 0.7053 - val_accuracy: 0.7421\n",
            "Epoch 13/100\n",
            "125/125 [==============================] - 15s 118ms/step - loss: 0.2173 - accuracy: 0.9200 - val_loss: 0.7945 - val_accuracy: 0.7372\n",
            "Epoch 14/100\n",
            "125/125 [==============================] - 15s 119ms/step - loss: 0.1998 - accuracy: 0.9267 - val_loss: 0.7292 - val_accuracy: 0.7288\n",
            "Epoch 15/100\n",
            "125/125 [==============================] - 15s 118ms/step - loss: 0.1828 - accuracy: 0.9349 - val_loss: 0.7222 - val_accuracy: 0.7370\n",
            "Epoch 16/100\n",
            "125/125 [==============================] - 15s 118ms/step - loss: 0.1694 - accuracy: 0.9379 - val_loss: 0.8238 - val_accuracy: 0.7258\n",
            "Epoch 17/100\n",
            "125/125 [==============================] - 15s 118ms/step - loss: 0.1467 - accuracy: 0.9468 - val_loss: 0.7588 - val_accuracy: 0.7299\n",
            "Epoch 18/100\n",
            "125/125 [==============================] - 15s 119ms/step - loss: 0.1361 - accuracy: 0.9500 - val_loss: 0.8866 - val_accuracy: 0.7283\n",
            "Epoch 19/100\n",
            "125/125 [==============================] - 15s 119ms/step - loss: 0.1290 - accuracy: 0.9540 - val_loss: 0.9212 - val_accuracy: 0.7263\n",
            "Epoch 20/100\n",
            "125/125 [==============================] - 15s 118ms/step - loss: 0.1157 - accuracy: 0.9610 - val_loss: 0.9192 - val_accuracy: 0.7291\n",
            "Epoch 21/100\n",
            "125/125 [==============================] - 15s 118ms/step - loss: 0.0982 - accuracy: 0.9653 - val_loss: 1.0143 - val_accuracy: 0.7276\n",
            "Epoch 22/100\n",
            "125/125 [==============================] - 15s 118ms/step - loss: 0.0904 - accuracy: 0.9672 - val_loss: 1.0508 - val_accuracy: 0.7264\n",
            "Epoch 23/100\n",
            "125/125 [==============================] - 15s 119ms/step - loss: 0.0805 - accuracy: 0.9710 - val_loss: 1.1823 - val_accuracy: 0.7301\n",
            "Epoch 24/100\n",
            "125/125 [==============================] - 15s 119ms/step - loss: 0.0753 - accuracy: 0.9739 - val_loss: 1.0664 - val_accuracy: 0.7275\n",
            "Epoch 25/100\n",
            "125/125 [==============================] - 15s 120ms/step - loss: 0.0664 - accuracy: 0.9757 - val_loss: 1.3553 - val_accuracy: 0.6979\n",
            "Epoch 26/100\n",
            "125/125 [==============================] - 15s 117ms/step - loss: 0.0597 - accuracy: 0.9796 - val_loss: 1.2101 - val_accuracy: 0.7283\n",
            "Epoch 27/100\n",
            "125/125 [==============================] - 15s 119ms/step - loss: 0.0512 - accuracy: 0.9817 - val_loss: 1.1480 - val_accuracy: 0.7312\n",
            "Epoch 28/100\n",
            "125/125 [==============================] - 15s 118ms/step - loss: 0.0539 - accuracy: 0.9813 - val_loss: 1.0671 - val_accuracy: 0.7130\n",
            "Epoch 29/100\n",
            "125/125 [==============================] - 15s 119ms/step - loss: 0.0510 - accuracy: 0.9834 - val_loss: 1.4073 - val_accuracy: 0.7129\n",
            "Epoch 30/100\n",
            "125/125 [==============================] - 15s 119ms/step - loss: 0.0403 - accuracy: 0.9855 - val_loss: 1.4716 - val_accuracy: 0.7147\n",
            "Epoch 31/100\n",
            "125/125 [==============================] - 15s 118ms/step - loss: 0.0397 - accuracy: 0.9867 - val_loss: 1.5146 - val_accuracy: 0.7227\n",
            "Epoch 32/100\n",
            "125/125 [==============================] - 15s 119ms/step - loss: 0.0374 - accuracy: 0.9862 - val_loss: 1.5230 - val_accuracy: 0.6951\n",
            "Epoch 33/100\n",
            "125/125 [==============================] - 15s 119ms/step - loss: 0.0335 - accuracy: 0.9886 - val_loss: 1.4888 - val_accuracy: 0.7138\n",
            "Epoch 34/100\n",
            "125/125 [==============================] - 15s 118ms/step - loss: 0.0315 - accuracy: 0.9893 - val_loss: 1.6204 - val_accuracy: 0.7154\n",
            "Epoch 35/100\n",
            "125/125 [==============================] - 15s 119ms/step - loss: 0.0267 - accuracy: 0.9905 - val_loss: 1.7654 - val_accuracy: 0.7267\n",
            "Epoch 36/100\n",
            "125/125 [==============================] - 15s 119ms/step - loss: 0.0257 - accuracy: 0.9907 - val_loss: 2.2293 - val_accuracy: 0.7097\n",
            "Epoch 37/100\n",
            "125/125 [==============================] - 15s 119ms/step - loss: 0.0232 - accuracy: 0.9918 - val_loss: 1.6677 - val_accuracy: 0.7156\n",
            "Epoch 38/100\n",
            "125/125 [==============================] - 15s 118ms/step - loss: 0.0222 - accuracy: 0.9926 - val_loss: 1.8533 - val_accuracy: 0.7079\n",
            "Epoch 39/100\n",
            "125/125 [==============================] - 15s 119ms/step - loss: 0.0210 - accuracy: 0.9927 - val_loss: 1.5545 - val_accuracy: 0.7079\n",
            "Epoch 40/100\n",
            "125/125 [==============================] - 15s 119ms/step - loss: 0.0177 - accuracy: 0.9938 - val_loss: 1.6639 - val_accuracy: 0.7172\n",
            "Epoch 41/100\n",
            "125/125 [==============================] - 15s 119ms/step - loss: 0.0175 - accuracy: 0.9941 - val_loss: 1.6422 - val_accuracy: 0.7117\n",
            "Epoch 42/100\n",
            "125/125 [==============================] - 15s 119ms/step - loss: 0.0149 - accuracy: 0.9948 - val_loss: 1.9617 - val_accuracy: 0.7088\n",
            "Epoch 43/100\n",
            "125/125 [==============================] - 15s 119ms/step - loss: 0.0163 - accuracy: 0.9948 - val_loss: 2.1148 - val_accuracy: 0.7136\n",
            "Epoch 44/100\n",
            "125/125 [==============================] - 15s 119ms/step - loss: 0.0148 - accuracy: 0.9953 - val_loss: 1.9039 - val_accuracy: 0.7133\n",
            "Epoch 45/100\n",
            "125/125 [==============================] - 15s 119ms/step - loss: 0.0133 - accuracy: 0.9956 - val_loss: 1.9698 - val_accuracy: 0.7168\n",
            "Epoch 46/100\n",
            "125/125 [==============================] - 15s 119ms/step - loss: 0.0165 - accuracy: 0.9944 - val_loss: 1.9017 - val_accuracy: 0.7221\n",
            "Epoch 47/100\n",
            "125/125 [==============================] - 15s 119ms/step - loss: 0.0145 - accuracy: 0.9953 - val_loss: 1.8195 - val_accuracy: 0.7054\n",
            "Epoch 48/100\n",
            "125/125 [==============================] - 15s 120ms/step - loss: 0.0114 - accuracy: 0.9964 - val_loss: 2.1866 - val_accuracy: 0.7105\n",
            "Epoch 49/100\n",
            "125/125 [==============================] - 15s 119ms/step - loss: 0.0106 - accuracy: 0.9969 - val_loss: 1.8386 - val_accuracy: 0.7006\n",
            "Epoch 50/100\n",
            "125/125 [==============================] - 15s 119ms/step - loss: 0.0114 - accuracy: 0.9967 - val_loss: 2.0439 - val_accuracy: 0.7097\n",
            "Epoch 51/100\n",
            "125/125 [==============================] - 15s 119ms/step - loss: 0.0077 - accuracy: 0.9979 - val_loss: 2.2149 - val_accuracy: 0.7116\n",
            "Epoch 52/100\n",
            "125/125 [==============================] - 15s 118ms/step - loss: 0.0117 - accuracy: 0.9967 - val_loss: 1.9211 - val_accuracy: 0.7038\n",
            "Epoch 53/100\n",
            "125/125 [==============================] - 15s 119ms/step - loss: 0.0091 - accuracy: 0.9971 - val_loss: 1.9409 - val_accuracy: 0.7096\n",
            "Epoch 54/100\n",
            "125/125 [==============================] - 15s 119ms/step - loss: 0.0094 - accuracy: 0.9965 - val_loss: 2.3207 - val_accuracy: 0.7017\n",
            "Epoch 55/100\n",
            "125/125 [==============================] - 15s 118ms/step - loss: 0.0088 - accuracy: 0.9973 - val_loss: 2.3661 - val_accuracy: 0.7180\n",
            "Epoch 56/100\n",
            "125/125 [==============================] - 15s 119ms/step - loss: 0.0097 - accuracy: 0.9975 - val_loss: 1.7221 - val_accuracy: 0.7183\n",
            "Epoch 57/100\n",
            "125/125 [==============================] - 15s 119ms/step - loss: 0.0074 - accuracy: 0.9978 - val_loss: 2.5534 - val_accuracy: 0.7042\n",
            "Epoch 58/100\n",
            "125/125 [==============================] - 15s 119ms/step - loss: 0.0075 - accuracy: 0.9973 - val_loss: 2.2912 - val_accuracy: 0.7151\n",
            "Epoch 59/100\n",
            "125/125 [==============================] - 15s 120ms/step - loss: 0.0063 - accuracy: 0.9984 - val_loss: 2.8711 - val_accuracy: 0.7075\n",
            "Epoch 60/100\n",
            "125/125 [==============================] - 15s 118ms/step - loss: 0.0049 - accuracy: 0.9985 - val_loss: 2.8890 - val_accuracy: 0.7097\n",
            "Epoch 61/100\n",
            "125/125 [==============================] - 15s 119ms/step - loss: 0.0100 - accuracy: 0.9973 - val_loss: 1.7670 - val_accuracy: 0.7201\n",
            "Epoch 62/100\n",
            "125/125 [==============================] - 15s 119ms/step - loss: 0.0072 - accuracy: 0.9983 - val_loss: 2.4136 - val_accuracy: 0.7169\n",
            "Epoch 63/100\n",
            "125/125 [==============================] - 15s 119ms/step - loss: 0.0071 - accuracy: 0.9978 - val_loss: 2.4174 - val_accuracy: 0.7022\n",
            "Epoch 64/100\n",
            "125/125 [==============================] - 15s 119ms/step - loss: 0.0058 - accuracy: 0.9983 - val_loss: 2.2221 - val_accuracy: 0.7113\n",
            "Epoch 65/100\n",
            "125/125 [==============================] - 15s 119ms/step - loss: 0.0070 - accuracy: 0.9979 - val_loss: 2.2218 - val_accuracy: 0.7128\n",
            "Epoch 66/100\n",
            "125/125 [==============================] - 15s 119ms/step - loss: 0.0066 - accuracy: 0.9984 - val_loss: 2.2131 - val_accuracy: 0.7128\n",
            "Epoch 67/100\n",
            "125/125 [==============================] - 15s 119ms/step - loss: 0.0062 - accuracy: 0.9982 - val_loss: 2.1541 - val_accuracy: 0.7045\n",
            "Epoch 68/100\n",
            "125/125 [==============================] - 15s 119ms/step - loss: 0.0056 - accuracy: 0.9989 - val_loss: 2.1420 - val_accuracy: 0.7101\n",
            "Epoch 69/100\n",
            "125/125 [==============================] - 15s 119ms/step - loss: 0.0055 - accuracy: 0.9986 - val_loss: 2.2226 - val_accuracy: 0.7118\n",
            "Epoch 70/100\n",
            "125/125 [==============================] - 15s 119ms/step - loss: 0.0050 - accuracy: 0.9986 - val_loss: 2.6142 - val_accuracy: 0.7105\n",
            "Epoch 71/100\n",
            "125/125 [==============================] - 15s 120ms/step - loss: 0.0058 - accuracy: 0.9987 - val_loss: 2.3720 - val_accuracy: 0.7117\n",
            "Epoch 72/100\n",
            "125/125 [==============================] - 15s 119ms/step - loss: 0.0053 - accuracy: 0.9985 - val_loss: 3.3745 - val_accuracy: 0.7073\n",
            "Epoch 73/100\n",
            "125/125 [==============================] - 15s 119ms/step - loss: 0.0082 - accuracy: 0.9976 - val_loss: 2.0630 - val_accuracy: 0.7019\n",
            "Epoch 74/100\n",
            "125/125 [==============================] - 15s 119ms/step - loss: 0.0049 - accuracy: 0.9987 - val_loss: 2.3099 - val_accuracy: 0.7124\n",
            "Epoch 75/100\n",
            "125/125 [==============================] - 15s 119ms/step - loss: 0.0067 - accuracy: 0.9983 - val_loss: 2.3943 - val_accuracy: 0.7014\n",
            "Epoch 76/100\n",
            "125/125 [==============================] - 15s 119ms/step - loss: 0.0055 - accuracy: 0.9987 - val_loss: 3.2537 - val_accuracy: 0.6972\n",
            "Epoch 77/100\n",
            "125/125 [==============================] - 15s 120ms/step - loss: 0.0072 - accuracy: 0.9980 - val_loss: 2.3015 - val_accuracy: 0.7203\n",
            "Epoch 78/100\n",
            "125/125 [==============================] - 15s 119ms/step - loss: 0.0051 - accuracy: 0.9984 - val_loss: 2.1455 - val_accuracy: 0.7098\n",
            "Epoch 79/100\n",
            "125/125 [==============================] - 15s 119ms/step - loss: 0.0051 - accuracy: 0.9992 - val_loss: 1.9282 - val_accuracy: 0.7230\n",
            "Epoch 80/100\n",
            "125/125 [==============================] - 15s 120ms/step - loss: 0.0042 - accuracy: 0.9987 - val_loss: 2.4085 - val_accuracy: 0.7109\n",
            "Epoch 81/100\n",
            "125/125 [==============================] - 15s 119ms/step - loss: 0.0069 - accuracy: 0.9982 - val_loss: 2.5543 - val_accuracy: 0.7110\n",
            "Epoch 82/100\n",
            "125/125 [==============================] - 15s 120ms/step - loss: 0.0059 - accuracy: 0.9981 - val_loss: 2.4813 - val_accuracy: 0.7185\n",
            "Epoch 83/100\n",
            "125/125 [==============================] - 15s 119ms/step - loss: 0.0047 - accuracy: 0.9987 - val_loss: 2.9586 - val_accuracy: 0.7220\n",
            "Epoch 84/100\n",
            "125/125 [==============================] - 15s 119ms/step - loss: 0.0040 - accuracy: 0.9987 - val_loss: 2.8066 - val_accuracy: 0.7191\n",
            "Epoch 85/100\n",
            "125/125 [==============================] - 15s 119ms/step - loss: 0.0037 - accuracy: 0.9991 - val_loss: 3.1431 - val_accuracy: 0.7093\n",
            "Epoch 86/100\n",
            "125/125 [==============================] - 15s 120ms/step - loss: 0.0051 - accuracy: 0.9986 - val_loss: 2.4375 - val_accuracy: 0.7091\n",
            "Epoch 87/100\n",
            "125/125 [==============================] - 15s 119ms/step - loss: 0.0049 - accuracy: 0.9985 - val_loss: 2.5606 - val_accuracy: 0.7139\n",
            "Epoch 88/100\n",
            "125/125 [==============================] - 15s 120ms/step - loss: 0.0046 - accuracy: 0.9988 - val_loss: 2.0996 - val_accuracy: 0.7142\n",
            "Epoch 89/100\n",
            "125/125 [==============================] - 15s 120ms/step - loss: 0.0041 - accuracy: 0.9990 - val_loss: 2.6281 - val_accuracy: 0.7134\n",
            "Epoch 90/100\n",
            "125/125 [==============================] - 15s 120ms/step - loss: 0.0046 - accuracy: 0.9990 - val_loss: 2.7642 - val_accuracy: 0.7082\n",
            "Epoch 91/100\n",
            "125/125 [==============================] - 15s 120ms/step - loss: 0.0048 - accuracy: 0.9986 - val_loss: 2.6475 - val_accuracy: 0.7152\n",
            "Epoch 92/100\n",
            "125/125 [==============================] - 15s 120ms/step - loss: 0.0047 - accuracy: 0.9987 - val_loss: 2.5800 - val_accuracy: 0.7180\n",
            "Epoch 93/100\n",
            "125/125 [==============================] - 15s 120ms/step - loss: 0.0048 - accuracy: 0.9986 - val_loss: 2.7946 - val_accuracy: 0.7206\n",
            "Epoch 94/100\n",
            "125/125 [==============================] - 15s 119ms/step - loss: 0.0035 - accuracy: 0.9991 - val_loss: 3.1128 - val_accuracy: 0.7054\n",
            "Epoch 95/100\n",
            "125/125 [==============================] - 15s 119ms/step - loss: 0.0062 - accuracy: 0.9988 - val_loss: 2.2236 - val_accuracy: 0.7096\n",
            "Epoch 96/100\n",
            "125/125 [==============================] - 15s 119ms/step - loss: 0.0044 - accuracy: 0.9991 - val_loss: 2.3223 - val_accuracy: 0.7129\n",
            "Epoch 97/100\n",
            "125/125 [==============================] - 15s 120ms/step - loss: 0.0037 - accuracy: 0.9989 - val_loss: 2.9404 - val_accuracy: 0.7142\n",
            "Epoch 98/100\n",
            "125/125 [==============================] - 15s 119ms/step - loss: 0.0059 - accuracy: 0.9988 - val_loss: 1.9055 - val_accuracy: 0.7085\n",
            "Epoch 99/100\n",
            "125/125 [==============================] - 15s 119ms/step - loss: 0.0038 - accuracy: 0.9991 - val_loss: 3.1332 - val_accuracy: 0.6896\n",
            "Epoch 100/100\n",
            "125/125 [==============================] - 15s 119ms/step - loss: 0.0045 - accuracy: 0.9988 - val_loss: 2.3922 - val_accuracy: 0.7153\n"
          ],
          "name": "stdout"
        }
      ]
    },
    {
      "cell_type": "code",
      "metadata": {
        "colab": {
          "base_uri": "https://localhost:8080/",
          "height": 265
        },
        "id": "2_ShAW-vbVXq",
        "outputId": "22387fd1-22bc-40f2-83f3-a21ab5b6f524"
      },
      "source": [
        "plt.plot(history.history['accuracy'], label='Training accuracy')\n",
        "plt.plot(history.history['val_accuracy'], label='Validation Accuracy')\n",
        "plt.show()"
      ],
      "execution_count": null,
      "outputs": [
        {
          "output_type": "display_data",
          "data": {
            "image/png": "[encoded data removed]",
            "text/plain": [
              "<Figure size 432x288 with 1 Axes>"
            ]
          },
          "metadata": {
            "tags": []
          }
        }
      ]
    },
    {
      "cell_type": "code",
      "metadata": {
        "colab": {
          "base_uri": "https://localhost:8080/"
        },
        "id": "Tme_3KmcIaMT",
        "outputId": "1fc8be19-a013-4408-af59-8d622ff06e56"
      },
      "source": [
        "loss, accuracy = model1.evaluate(sequences_matrix, Y)\n",
        "print('Accuracy: %f' % (accuracy*100))"
      ],
      "execution_count": null,
      "outputs": [
        {
          "output_type": "stream",
          "text": [
            "625/625 [==============================] - 14s 22ms/step - loss: 0.4786 - accuracy: 0.9430\n",
            "Accuracy: 94.296396\n"
          ],
          "name": "stdout"
        }
      ]
    },
    {
      "cell_type": "code",
      "metadata": {
        "colab": {
          "base_uri": "https://localhost:8080/",
          "height": 267
        },
        "id": "66WSSvQrwyND",
        "outputId": "9d434245-8744-41ba-8a17-983dce7d70af"
      },
      "source": [
        "plt.plot(history.history['loss'], label='MAE (training data)')\n",
        "plt.plot(history.history['val_loss'], label='MAE (validation data)')\n",
        "plt.show()"
      ],
      "execution_count": null,
      "outputs": [
        {
          "output_type": "display_data",
          "data": {
            "image/png": "[encoded data removed]",
            "text/plain": [
              "<Figure size 432x288 with 1 Axes>"
            ]
          },
          "metadata": {
            "tags": []
          }
        }
      ]
    },
    {
      "cell_type": "code",
      "metadata": {
        "id": "IlXN9uM7dafC"
      },
      "source": [
        ""
      ],
      "execution_count": null,
      "outputs": []
    },
    {
      "cell_type": "code",
      "metadata": {
        "id": "xr_G6y1UdbOo"
      },
      "source": [
        "def BiDir1():\n",
        "  inp = Input(shape=[max_len])\n",
        "  x = Embedding(max_words,50,input_length=max_len)(inp)\n",
        "  x = Bidirectional(LSTM(256, return_sequences=True, dropout=0.25, recurrent_dropout=0))(x)\n",
        "  x = Bidirectional(LSTM(256, return_sequences=True, dropout=0.25, recurrent_dropout=0))(x)\n",
        "  x = Dense(256, activation=\"relu\")(x)\n",
        "  x = Dropout(0.2)(x)\n",
        "  x = Dense(1, activation=\"sigmoid\")(x)\n",
        "  model = Model(inputs=inp, outputs=x)\n",
        "  return model"
      ],
      "execution_count": null,
      "outputs": []
    },
    {
      "cell_type": "code",
      "metadata": {
        "colab": {
          "base_uri": "https://localhost:8080/"
        },
        "id": "lNnjEKzAd29T",
        "outputId": "57655cc9-a505-444c-dc72-bb0103608263"
      },
      "source": [
        "model1 = BiDir1()\n",
        "model1.summary()\n",
        "model1.compile(loss='binary_crossentropy',optimizer=RMSprop(),metrics=['accuracy'])"
      ],
      "execution_count": null,
      "outputs": [
        {
          "output_type": "stream",
          "text": [
            "Model: \"functional_9\"\n",
            "_________________________________________________________________\n",
            "Layer (type)                 Output Shape              Param #   \n",
            "=================================================================\n",
            "input_4 (InputLayer)         [(None, 150)]             0         \n",
            "_________________________________________________________________\n",
            "embedding_4 (Embedding)      (None, 150, 50)           500000    \n",
            "_________________________________________________________________\n",
            "bidirectional_3 (Bidirection (None, 150, 512)          628736    \n",
            "_________________________________________________________________\n",
            "bidirectional_4 (Bidirection (None, 150, 512)          1574912   \n",
            "_________________________________________________________________\n",
            "dense_6 (Dense)              (None, 150, 256)          131328    \n",
            "_________________________________________________________________\n",
            "dropout_4 (Dropout)          (None, 150, 256)          0         \n",
            "_________________________________________________________________\n",
            "dense_7 (Dense)              (None, 150, 1)            257       \n",
            "=================================================================\n",
            "Total params: 2,835,233\n",
            "Trainable params: 2,835,233\n",
            "Non-trainable params: 0\n",
            "_________________________________________________________________\n"
          ],
          "name": "stdout"
        }
      ]
    },
    {
      "cell_type": "code",
      "metadata": {
        "colab": {
          "base_uri": "https://localhost:8080/"
        },
        "id": "8UpfOah9d7Mg",
        "outputId": "d5c1c714-ad0a-4baf-c334-f7c905bf99a1"
      },
      "source": [
        "history = model1.fit(sequences_matrix, Y,validation_split=0.2, batch_size=128, epochs=100)"
      ],
      "execution_count": null,
      "outputs": [
        {
          "output_type": "stream",
          "text": [
            "Epoch 1/100\n",
            "125/125 [==============================] - 16s 131ms/step - loss: 0.6909 - accuracy: 0.6073 - val_loss: 0.5835 - val_accuracy: 0.7209\n",
            "Epoch 2/100\n",
            "125/125 [==============================] - 15s 118ms/step - loss: 0.5208 - accuracy: 0.7591 - val_loss: 0.5161 - val_accuracy: 0.7596\n",
            "Epoch 3/100\n",
            "125/125 [==============================] - 15s 118ms/step - loss: 0.4651 - accuracy: 0.7977 - val_loss: 0.5173 - val_accuracy: 0.7634\n",
            "Epoch 4/100\n",
            "125/125 [==============================] - 15s 118ms/step - loss: 0.4119 - accuracy: 0.8278 - val_loss: 0.5714 - val_accuracy: 0.7631\n",
            "Epoch 5/100\n",
            "125/125 [==============================] - 15s 119ms/step - loss: 0.3826 - accuracy: 0.8415 - val_loss: 0.5410 - val_accuracy: 0.7535\n",
            "Epoch 6/100\n",
            "125/125 [==============================] - 15s 119ms/step - loss: 0.3572 - accuracy: 0.8544 - val_loss: 0.5635 - val_accuracy: 0.7536\n",
            "Epoch 7/100\n",
            "125/125 [==============================] - 15s 119ms/step - loss: 0.3297 - accuracy: 0.8703 - val_loss: 0.6265 - val_accuracy: 0.7458\n",
            "Epoch 8/100\n",
            "125/125 [==============================] - 15s 118ms/step - loss: 0.3073 - accuracy: 0.8802 - val_loss: 0.6072 - val_accuracy: 0.7473\n",
            "Epoch 9/100\n",
            "125/125 [==============================] - 15s 118ms/step - loss: 0.2836 - accuracy: 0.8922 - val_loss: 0.6123 - val_accuracy: 0.7506\n",
            "Epoch 10/100\n",
            "125/125 [==============================] - 15s 118ms/step - loss: 0.2643 - accuracy: 0.8991 - val_loss: 0.7242 - val_accuracy: 0.7457\n",
            "Epoch 11/100\n",
            "125/125 [==============================] - 15s 118ms/step - loss: 0.2423 - accuracy: 0.9092 - val_loss: 0.6898 - val_accuracy: 0.7304\n",
            "Epoch 12/100\n",
            "125/125 [==============================] - 15s 118ms/step - loss: 0.2229 - accuracy: 0.9163 - val_loss: 0.6930 - val_accuracy: 0.7418\n",
            "Epoch 13/100\n",
            "125/125 [==============================] - 15s 118ms/step - loss: 0.2036 - accuracy: 0.9237 - val_loss: 0.7551 - val_accuracy: 0.7272\n",
            "Epoch 14/100\n",
            "125/125 [==============================] - 15s 119ms/step - loss: 0.1833 - accuracy: 0.9347 - val_loss: 0.9277 - val_accuracy: 0.7161\n",
            "Epoch 15/100\n",
            "125/125 [==============================] - 15s 119ms/step - loss: 0.1686 - accuracy: 0.9393 - val_loss: 0.7564 - val_accuracy: 0.7285\n",
            "Epoch 16/100\n",
            "125/125 [==============================] - 15s 118ms/step - loss: 0.1483 - accuracy: 0.9490 - val_loss: 0.7898 - val_accuracy: 0.7269\n",
            "Epoch 17/100\n",
            "125/125 [==============================] - 15s 118ms/step - loss: 0.1341 - accuracy: 0.9524 - val_loss: 1.0085 - val_accuracy: 0.7291\n",
            "Epoch 18/100\n",
            "125/125 [==============================] - 15s 119ms/step - loss: 0.1188 - accuracy: 0.9572 - val_loss: 1.0306 - val_accuracy: 0.7159\n",
            "Epoch 19/100\n",
            "125/125 [==============================] - 15s 118ms/step - loss: 0.1081 - accuracy: 0.9622 - val_loss: 0.9485 - val_accuracy: 0.7339\n",
            "Epoch 20/100\n",
            "125/125 [==============================] - 15s 118ms/step - loss: 0.0948 - accuracy: 0.9669 - val_loss: 1.0812 - val_accuracy: 0.7177\n",
            "Epoch 21/100\n",
            "125/125 [==============================] - 15s 118ms/step - loss: 0.0857 - accuracy: 0.9694 - val_loss: 1.1355 - val_accuracy: 0.7241\n",
            "Epoch 22/100\n",
            "125/125 [==============================] - 15s 118ms/step - loss: 0.0796 - accuracy: 0.9704 - val_loss: 1.1827 - val_accuracy: 0.7179\n",
            "Epoch 23/100\n",
            "125/125 [==============================] - 15s 118ms/step - loss: 0.0711 - accuracy: 0.9738 - val_loss: 1.2131 - val_accuracy: 0.7138\n",
            "Epoch 24/100\n",
            "125/125 [==============================] - 15s 118ms/step - loss: 0.0637 - accuracy: 0.9755 - val_loss: 1.4271 - val_accuracy: 0.7114\n",
            "Epoch 25/100\n",
            "125/125 [==============================] - 15s 118ms/step - loss: 0.0591 - accuracy: 0.9787 - val_loss: 1.4929 - val_accuracy: 0.7165\n",
            "Epoch 26/100\n",
            "125/125 [==============================] - 15s 119ms/step - loss: 0.0539 - accuracy: 0.9808 - val_loss: 1.3442 - val_accuracy: 0.7221\n",
            "Epoch 27/100\n",
            "125/125 [==============================] - 15s 119ms/step - loss: 0.0580 - accuracy: 0.9809 - val_loss: 1.3611 - val_accuracy: 0.7197\n",
            "Epoch 28/100\n",
            "125/125 [==============================] - 15s 119ms/step - loss: 0.0448 - accuracy: 0.9847 - val_loss: 1.4045 - val_accuracy: 0.7106\n",
            "Epoch 29/100\n",
            "125/125 [==============================] - 15s 118ms/step - loss: 0.0395 - accuracy: 0.9863 - val_loss: 1.5637 - val_accuracy: 0.7100\n",
            "Epoch 30/100\n",
            "125/125 [==============================] - 15s 119ms/step - loss: 0.0370 - accuracy: 0.9872 - val_loss: 1.4683 - val_accuracy: 0.7084\n",
            "Epoch 31/100\n",
            "125/125 [==============================] - 15s 119ms/step - loss: 0.0350 - accuracy: 0.9880 - val_loss: 1.5386 - val_accuracy: 0.7021\n",
            "Epoch 32/100\n",
            "125/125 [==============================] - 15s 119ms/step - loss: 0.0306 - accuracy: 0.9884 - val_loss: 1.4852 - val_accuracy: 0.7190\n",
            "Epoch 33/100\n",
            "125/125 [==============================] - 15s 119ms/step - loss: 0.0304 - accuracy: 0.9891 - val_loss: 1.7799 - val_accuracy: 0.7095\n",
            "Epoch 34/100\n",
            "125/125 [==============================] - 15s 119ms/step - loss: 0.0254 - accuracy: 0.9917 - val_loss: 1.6078 - val_accuracy: 0.7106\n",
            "Epoch 35/100\n",
            "125/125 [==============================] - 15s 119ms/step - loss: 0.0257 - accuracy: 0.9913 - val_loss: 1.6673 - val_accuracy: 0.7108\n",
            "Epoch 36/100\n",
            "125/125 [==============================] - 15s 119ms/step - loss: 0.0226 - accuracy: 0.9912 - val_loss: 1.8639 - val_accuracy: 0.7124\n",
            "Epoch 37/100\n",
            "125/125 [==============================] - 15s 119ms/step - loss: 0.0194 - accuracy: 0.9928 - val_loss: 1.8565 - val_accuracy: 0.7059\n",
            "Epoch 38/100\n",
            "125/125 [==============================] - 15s 119ms/step - loss: 0.0206 - accuracy: 0.9922 - val_loss: 1.8843 - val_accuracy: 0.7107\n",
            "Epoch 39/100\n",
            "125/125 [==============================] - 15s 119ms/step - loss: 0.0158 - accuracy: 0.9940 - val_loss: 2.0310 - val_accuracy: 0.6986\n",
            "Epoch 40/100\n",
            "125/125 [==============================] - 15s 119ms/step - loss: 0.0186 - accuracy: 0.9930 - val_loss: 1.8367 - val_accuracy: 0.7175\n",
            "Epoch 41/100\n",
            "125/125 [==============================] - 15s 120ms/step - loss: 0.0158 - accuracy: 0.9947 - val_loss: 1.7414 - val_accuracy: 0.7141\n",
            "Epoch 42/100\n",
            "125/125 [==============================] - 15s 119ms/step - loss: 0.0170 - accuracy: 0.9943 - val_loss: 1.8996 - val_accuracy: 0.7148\n",
            "Epoch 43/100\n",
            "125/125 [==============================] - 15s 119ms/step - loss: 0.0141 - accuracy: 0.9953 - val_loss: 1.9546 - val_accuracy: 0.7185\n",
            "Epoch 44/100\n",
            "125/125 [==============================] - 15s 119ms/step - loss: 0.0145 - accuracy: 0.9950 - val_loss: 1.7482 - val_accuracy: 0.7152\n",
            "Epoch 45/100\n",
            "125/125 [==============================] - 15s 119ms/step - loss: 0.0115 - accuracy: 0.9964 - val_loss: 1.8836 - val_accuracy: 0.7044\n",
            "Epoch 46/100\n",
            "125/125 [==============================] - 15s 119ms/step - loss: 0.0164 - accuracy: 0.9955 - val_loss: 1.5496 - val_accuracy: 0.7224\n",
            "Epoch 47/100\n",
            "125/125 [==============================] - 15s 119ms/step - loss: 0.0104 - accuracy: 0.9963 - val_loss: 2.1339 - val_accuracy: 0.7044\n",
            "Epoch 48/100\n",
            "125/125 [==============================] - 15s 119ms/step - loss: 0.0106 - accuracy: 0.9963 - val_loss: 2.6149 - val_accuracy: 0.6837\n",
            "Epoch 49/100\n",
            "125/125 [==============================] - 15s 119ms/step - loss: 0.0108 - accuracy: 0.9967 - val_loss: 2.2749 - val_accuracy: 0.7111\n",
            "Epoch 50/100\n",
            "125/125 [==============================] - 15s 119ms/step - loss: 0.0123 - accuracy: 0.9965 - val_loss: 1.9496 - val_accuracy: 0.7073\n",
            "Epoch 51/100\n",
            "125/125 [==============================] - 15s 119ms/step - loss: 0.0107 - accuracy: 0.9968 - val_loss: 2.0612 - val_accuracy: 0.7163\n",
            "Epoch 52/100\n",
            "125/125 [==============================] - 15s 120ms/step - loss: 0.0097 - accuracy: 0.9969 - val_loss: 2.4402 - val_accuracy: 0.6965\n",
            "Epoch 53/100\n",
            "125/125 [==============================] - 15s 119ms/step - loss: 0.0109 - accuracy: 0.9961 - val_loss: 2.0220 - val_accuracy: 0.7142\n",
            "Epoch 54/100\n",
            "125/125 [==============================] - 15s 120ms/step - loss: 0.0086 - accuracy: 0.9976 - val_loss: 2.3802 - val_accuracy: 0.7092\n",
            "Epoch 55/100\n",
            "125/125 [==============================] - 15s 119ms/step - loss: 0.0104 - accuracy: 0.9972 - val_loss: 1.9444 - val_accuracy: 0.6967\n",
            "Epoch 56/100\n",
            "125/125 [==============================] - 15s 120ms/step - loss: 0.0095 - accuracy: 0.9975 - val_loss: 1.9165 - val_accuracy: 0.7058\n",
            "Epoch 57/100\n",
            "125/125 [==============================] - 15s 120ms/step - loss: 0.0090 - accuracy: 0.9970 - val_loss: 2.1060 - val_accuracy: 0.6862\n",
            "Epoch 58/100\n",
            "125/125 [==============================] - 15s 120ms/step - loss: 0.0100 - accuracy: 0.9966 - val_loss: 2.0214 - val_accuracy: 0.6991\n",
            "Epoch 59/100\n",
            "125/125 [==============================] - 15s 120ms/step - loss: 0.0090 - accuracy: 0.9972 - val_loss: 2.1476 - val_accuracy: 0.6905\n",
            "Epoch 60/100\n",
            "125/125 [==============================] - 15s 120ms/step - loss: 0.0053 - accuracy: 0.9978 - val_loss: 2.7206 - val_accuracy: 0.6934\n",
            "Epoch 61/100\n",
            "125/125 [==============================] - 15s 120ms/step - loss: 0.0439 - accuracy: 0.9894 - val_loss: 2.0341 - val_accuracy: 0.7134\n",
            "Epoch 62/100\n",
            "125/125 [==============================] - 15s 120ms/step - loss: 0.0090 - accuracy: 0.9973 - val_loss: 2.1773 - val_accuracy: 0.7107\n",
            "Epoch 63/100\n",
            "125/125 [==============================] - 15s 120ms/step - loss: 0.0088 - accuracy: 0.9977 - val_loss: 2.0685 - val_accuracy: 0.7114\n",
            "Epoch 64/100\n",
            "125/125 [==============================] - 15s 120ms/step - loss: 0.0084 - accuracy: 0.9975 - val_loss: 1.9851 - val_accuracy: 0.6972\n",
            "Epoch 65/100\n",
            "125/125 [==============================] - 15s 120ms/step - loss: 0.0071 - accuracy: 0.9981 - val_loss: 2.2941 - val_accuracy: 0.7101\n",
            "Epoch 66/100\n",
            "125/125 [==============================] - 15s 120ms/step - loss: 0.0064 - accuracy: 0.9979 - val_loss: 3.0331 - val_accuracy: 0.6954\n",
            "Epoch 67/100\n",
            "125/125 [==============================] - 15s 120ms/step - loss: 0.0085 - accuracy: 0.9975 - val_loss: 2.3345 - val_accuracy: 0.7088\n",
            "Epoch 68/100\n",
            "125/125 [==============================] - 15s 119ms/step - loss: 0.0060 - accuracy: 0.9983 - val_loss: 2.5613 - val_accuracy: 0.7078\n",
            "Epoch 69/100\n",
            "125/125 [==============================] - 15s 120ms/step - loss: 0.0055 - accuracy: 0.9984 - val_loss: 2.3364 - val_accuracy: 0.7159\n",
            "Epoch 70/100\n",
            "125/125 [==============================] - 15s 120ms/step - loss: 0.0088 - accuracy: 0.9977 - val_loss: 2.1539 - val_accuracy: 0.6974\n",
            "Epoch 71/100\n",
            "125/125 [==============================] - 15s 120ms/step - loss: 0.0091 - accuracy: 0.9977 - val_loss: 1.8599 - val_accuracy: 0.7072\n",
            "Epoch 72/100\n",
            "125/125 [==============================] - 15s 120ms/step - loss: 0.0075 - accuracy: 0.9979 - val_loss: 1.8027 - val_accuracy: 0.7071\n",
            "Epoch 73/100\n",
            "125/125 [==============================] - 15s 120ms/step - loss: 0.0066 - accuracy: 0.9982 - val_loss: 1.9955 - val_accuracy: 0.6927\n",
            "Epoch 74/100\n",
            "125/125 [==============================] - 15s 119ms/step - loss: 0.0067 - accuracy: 0.9982 - val_loss: 1.7937 - val_accuracy: 0.7191\n",
            "Epoch 75/100\n",
            "125/125 [==============================] - 15s 121ms/step - loss: 0.0065 - accuracy: 0.9982 - val_loss: 2.7167 - val_accuracy: 0.7158\n",
            "Epoch 76/100\n",
            "125/125 [==============================] - 15s 120ms/step - loss: 0.0074 - accuracy: 0.9981 - val_loss: 2.5433 - val_accuracy: 0.7173\n",
            "Epoch 77/100\n",
            "125/125 [==============================] - 15s 120ms/step - loss: 0.0063 - accuracy: 0.9985 - val_loss: 2.8385 - val_accuracy: 0.6988\n",
            "Epoch 78/100\n",
            "125/125 [==============================] - 15s 120ms/step - loss: 0.0095 - accuracy: 0.9984 - val_loss: 2.9464 - val_accuracy: 0.6940\n",
            "Epoch 79/100\n",
            "125/125 [==============================] - 15s 120ms/step - loss: 0.0072 - accuracy: 0.9980 - val_loss: 2.5517 - val_accuracy: 0.7172\n",
            "Epoch 80/100\n",
            "125/125 [==============================] - 15s 120ms/step - loss: 0.0061 - accuracy: 0.9979 - val_loss: 2.2744 - val_accuracy: 0.6952\n",
            "Epoch 81/100\n",
            "125/125 [==============================] - 15s 120ms/step - loss: 0.0044 - accuracy: 0.9988 - val_loss: 3.1171 - val_accuracy: 0.6994\n",
            "Epoch 82/100\n",
            "125/125 [==============================] - 15s 120ms/step - loss: 0.0050 - accuracy: 0.9988 - val_loss: 3.3116 - val_accuracy: 0.6979\n",
            "Epoch 83/100\n",
            "125/125 [==============================] - 15s 120ms/step - loss: 0.0047 - accuracy: 0.9987 - val_loss: 3.0667 - val_accuracy: 0.7037\n",
            "Epoch 84/100\n",
            "125/125 [==============================] - 15s 120ms/step - loss: 0.0055 - accuracy: 0.9983 - val_loss: 2.8724 - val_accuracy: 0.7010\n",
            "Epoch 85/100\n",
            "125/125 [==============================] - 15s 119ms/step - loss: 0.0056 - accuracy: 0.9984 - val_loss: 2.8166 - val_accuracy: 0.6928\n",
            "Epoch 86/100\n",
            "125/125 [==============================] - 15s 120ms/step - loss: 0.0063 - accuracy: 0.9986 - val_loss: 2.3452 - val_accuracy: 0.7186\n",
            "Epoch 87/100\n",
            "125/125 [==============================] - 15s 120ms/step - loss: 0.0060 - accuracy: 0.9986 - val_loss: 1.9472 - val_accuracy: 0.6982\n",
            "Epoch 88/100\n",
            "125/125 [==============================] - 15s 119ms/step - loss: 0.0048 - accuracy: 0.9988 - val_loss: 2.6923 - val_accuracy: 0.6934\n",
            "Epoch 89/100\n",
            "125/125 [==============================] - 15s 120ms/step - loss: 0.0064 - accuracy: 0.9983 - val_loss: 1.9869 - val_accuracy: 0.7061\n",
            "Epoch 90/100\n",
            "125/125 [==============================] - 15s 119ms/step - loss: 0.0044 - accuracy: 0.9990 - val_loss: 2.4332 - val_accuracy: 0.7088\n",
            "Epoch 91/100\n",
            "125/125 [==============================] - 15s 120ms/step - loss: 0.0058 - accuracy: 0.9987 - val_loss: 2.7120 - val_accuracy: 0.6972\n",
            "Epoch 92/100\n",
            "125/125 [==============================] - 15s 120ms/step - loss: 0.0100 - accuracy: 0.9966 - val_loss: 2.2537 - val_accuracy: 0.7054\n",
            "Epoch 93/100\n",
            "125/125 [==============================] - 15s 119ms/step - loss: 0.0048 - accuracy: 0.9989 - val_loss: 2.1053 - val_accuracy: 0.7068\n",
            "Epoch 94/100\n",
            "125/125 [==============================] - 15s 119ms/step - loss: 0.0059 - accuracy: 0.9985 - val_loss: 2.2667 - val_accuracy: 0.7052\n",
            "Epoch 95/100\n",
            "125/125 [==============================] - 15s 119ms/step - loss: 0.0045 - accuracy: 0.9989 - val_loss: 2.9406 - val_accuracy: 0.7134\n",
            "Epoch 96/100\n",
            "125/125 [==============================] - 15s 119ms/step - loss: 0.0046 - accuracy: 0.9990 - val_loss: 3.1421 - val_accuracy: 0.7087\n",
            "Epoch 97/100\n",
            "125/125 [==============================] - 15s 119ms/step - loss: 0.0053 - accuracy: 0.9986 - val_loss: 2.7602 - val_accuracy: 0.6972\n",
            "Epoch 98/100\n",
            "125/125 [==============================] - 15s 120ms/step - loss: 0.0018 - accuracy: 0.9994 - val_loss: 3.6116 - val_accuracy: 0.7091\n",
            "Epoch 99/100\n",
            "125/125 [==============================] - 15s 119ms/step - loss: 0.0059 - accuracy: 0.9984 - val_loss: 2.4413 - val_accuracy: 0.7010\n",
            "Epoch 100/100\n",
            "125/125 [==============================] - 15s 119ms/step - loss: 0.0057 - accuracy: 0.9987 - val_loss: 2.9485 - val_accuracy: 0.7057\n"
          ],
          "name": "stdout"
        }
      ]
    },
    {
      "cell_type": "code",
      "metadata": {
        "colab": {
          "base_uri": "https://localhost:8080/"
        },
        "id": "7p3RIFWPN5Sw",
        "outputId": "d279c245-1782-45a3-d9b3-c224cdab318c"
      },
      "source": [
        "loss, accuracy = model1.evaluate(sequences_matrix, Y)\n",
        "print('Accuracy: %f' % (accuracy*100))"
      ],
      "execution_count": null,
      "outputs": [
        {
          "output_type": "stream",
          "text": [
            "625/625 [==============================] - 14s 22ms/step - loss: 0.5897 - accuracy: 0.9411\n",
            "Accuracy: 94.114608\n"
          ],
          "name": "stdout"
        }
      ]
    },
    {
      "cell_type": "markdown",
      "metadata": {
        "id": "NibryieAe9l1"
      },
      "source": [
        "KFold"
      ]
    },
    {
      "cell_type": "code",
      "metadata": {
        "colab": {
          "background_save": true,
          "base_uri": "https://localhost:8080/"
        },
        "id": "UVxaYStFbeVW",
        "outputId": "8124006c-0ffa-4156-cb79-d1e55c78e054"
      },
      "source": [
        "\n",
        "from sklearn.model_selection import KFold\n",
        "\n",
        "num_folds = 10\n",
        "\n",
        "# Define per-fold score containers <-- these are new\n",
        "acc_per_fold = []\n",
        "loss_per_fold = []\n",
        "\n",
        "kfold = KFold(n_splits=num_folds, shuffle=True)\n",
        "fold_no = 1\n",
        "for train, test in kfold.split(sequences_matrix,Y):\n",
        "  inp = Input(shape=[max_len])\n",
        "  x = Embedding(max_words,50,input_length=max_len)(inp)\n",
        "  x = Bidirectional(LSTM(256, return_sequences=True, dropout=0.2, recurrent_dropout=0))(x)\n",
        "  x = GlobalMaxPool1D()(x)\n",
        "  x = Dense(256, activation=\"relu\")(x)\n",
        "  x = Dropout(0.2)(x)\n",
        "  x = Dense(1, activation=\"sigmoid\")(x)\n",
        "  model = Model(inputs=inp, outputs=x)\n",
        "  model.compile(loss='binary_crossentropy',\n",
        "                optimizer=RMSprop(),\n",
        "                metrics=['accuracy'])\n",
        "  print('------------------------------------------------------------------------')\n",
        "  print(f'Training for fold {fold_no} ...')\n",
        "\n",
        "  # Fit data to model\n",
        "  history = model.fit(sequences_matrix[train], Y[train],\n",
        "              batch_size=128,\n",
        "              epochs=10)\n",
        "  \n",
        "  scores = model.evaluate(sequences_matrix[test], Y[test], verbose=0)\n",
        "  print(f'Score for fold {fold_no}: {model.metrics_names[0]} of {scores[0]}; {model.metrics_names[1]} of {scores[1]*100}%')\n",
        "  acc_per_fold.append(scores[1] * 100)\n",
        "  loss_per_fold.append(scores[0])\n",
        "\n",
        "  # Increase fold number\n",
        "  fold_no+= 1"
      ],
      "execution_count": null,
      "outputs": [
        {
          "output_type": "stream",
          "text": [
            "------------------------------------------------------------------------\n",
            "Training for fold 1 ...\n",
            "Epoch 1/10\n",
            "141/141 [==============================] - 6s 46ms/step - loss: 0.5619 - accuracy: 0.7191\n",
            "Epoch 2/10\n",
            "141/141 [==============================] - 6s 46ms/step - loss: 0.4692 - accuracy: 0.7853\n",
            "Epoch 3/10\n",
            "141/141 [==============================] - 6s 45ms/step - loss: 0.4145 - accuracy: 0.8157\n",
            "Epoch 4/10\n",
            "141/141 [==============================] - 6s 45ms/step - loss: 0.3747 - accuracy: 0.8343\n",
            "Epoch 5/10\n",
            "141/141 [==============================] - 6s 45ms/step - loss: 0.3373 - accuracy: 0.8559\n",
            "Epoch 6/10\n",
            "141/141 [==============================] - 6s 45ms/step - loss: 0.3009 - accuracy: 0.8746\n",
            "Epoch 7/10\n",
            "141/141 [==============================] - 6s 46ms/step - loss: 0.2674 - accuracy: 0.8889\n",
            "Epoch 8/10\n",
            "141/141 [==============================] - 6s 46ms/step - loss: 0.2305 - accuracy: 0.9068\n",
            "Epoch 9/10\n",
            "141/141 [==============================] - 6s 46ms/step - loss: 0.2000 - accuracy: 0.9201\n",
            "Epoch 10/10\n",
            "141/141 [==============================] - 6s 46ms/step - loss: 0.1664 - accuracy: 0.9367\n",
            "Score for fold 1: loss of 0.8202874064445496; accuracy of 74.04999732971191%\n",
            "------------------------------------------------------------------------\n",
            "Training for fold 2 ...\n",
            "Epoch 1/10\n",
            "141/141 [==============================] - 6s 45ms/step - loss: 0.5569 - accuracy: 0.7223\n",
            "Epoch 2/10\n",
            "141/141 [==============================] - 6s 45ms/step - loss: 0.4691 - accuracy: 0.7882\n",
            "Epoch 3/10\n",
            "141/141 [==============================] - 6s 46ms/step - loss: 0.4149 - accuracy: 0.8150\n",
            "Epoch 4/10\n",
            "141/141 [==============================] - 6s 45ms/step - loss: 0.3762 - accuracy: 0.8342\n",
            "Epoch 5/10\n",
            "141/141 [==============================] - 6s 45ms/step - loss: 0.3421 - accuracy: 0.8506\n",
            "Epoch 6/10\n",
            "141/141 [==============================] - 6s 45ms/step - loss: 0.3092 - accuracy: 0.8656\n",
            "Epoch 7/10\n",
            "141/141 [==============================] - 6s 45ms/step - loss: 0.2811 - accuracy: 0.8808\n",
            "Epoch 8/10\n",
            "141/141 [==============================] - 6s 45ms/step - loss: 0.2507 - accuracy: 0.8942\n",
            "Epoch 9/10\n",
            "141/141 [==============================] - 6s 45ms/step - loss: 0.2288 - accuracy: 0.9081\n",
            "Epoch 10/10\n",
            "141/141 [==============================] - 6s 45ms/step - loss: 0.1910 - accuracy: 0.9223\n",
            "Score for fold 2: loss of 0.7803318500518799; accuracy of 73.7999975681305%\n",
            "------------------------------------------------------------------------\n",
            "Training for fold 3 ...\n",
            "Epoch 1/10\n",
            "141/141 [==============================] - 6s 46ms/step - loss: 0.5800 - accuracy: 0.7173\n",
            "Epoch 2/10\n",
            "141/141 [==============================] - 6s 46ms/step - loss: 0.4802 - accuracy: 0.7838\n",
            "Epoch 3/10\n",
            "141/141 [==============================] - 6s 46ms/step - loss: 0.4256 - accuracy: 0.8124\n",
            "Epoch 4/10\n",
            "141/141 [==============================] - 6s 46ms/step - loss: 0.3854 - accuracy: 0.8306\n",
            "Epoch 5/10\n",
            "141/141 [==============================] - 6s 45ms/step - loss: 0.3591 - accuracy: 0.8439\n",
            "Epoch 6/10\n",
            "141/141 [==============================] - 6s 45ms/step - loss: 0.3382 - accuracy: 0.8548\n",
            "Epoch 7/10\n",
            "141/141 [==============================] - 6s 45ms/step - loss: 0.3137 - accuracy: 0.8649\n",
            "Epoch 8/10\n",
            "141/141 [==============================] - 6s 45ms/step - loss: 0.2873 - accuracy: 0.8794\n",
            "Epoch 9/10\n",
            "141/141 [==============================] - 6s 45ms/step - loss: 0.2611 - accuracy: 0.8914\n",
            "Epoch 10/10\n",
            "141/141 [==============================] - 6s 46ms/step - loss: 0.2326 - accuracy: 0.9044\n",
            "Score for fold 3: loss of 0.6700575351715088; accuracy of 72.85000085830688%\n",
            "------------------------------------------------------------------------\n",
            "Training for fold 4 ...\n",
            "Epoch 1/10\n",
            "141/141 [==============================] - 6s 45ms/step - loss: 0.5487 - accuracy: 0.7294\n",
            "Epoch 2/10\n",
            "141/141 [==============================] - 6s 46ms/step - loss: 0.4668 - accuracy: 0.7887\n",
            "Epoch 3/10\n",
            "141/141 [==============================] - 6s 45ms/step - loss: 0.4141 - accuracy: 0.8167\n",
            "Epoch 4/10\n",
            "141/141 [==============================] - 6s 45ms/step - loss: 0.3746 - accuracy: 0.8366\n",
            "Epoch 5/10\n",
            "141/141 [==============================] - 6s 45ms/step - loss: 0.3496 - accuracy: 0.8522\n",
            "Epoch 6/10\n",
            "141/141 [==============================] - 6s 45ms/step - loss: 0.3131 - accuracy: 0.8651\n",
            "Epoch 7/10\n",
            "141/141 [==============================] - 6s 45ms/step - loss: 0.2796 - accuracy: 0.8808\n",
            "Epoch 8/10\n",
            "141/141 [==============================] - 6s 45ms/step - loss: 0.2490 - accuracy: 0.8969\n",
            "Epoch 9/10\n",
            "141/141 [==============================] - 6s 45ms/step - loss: 0.2180 - accuracy: 0.9133\n",
            "Epoch 10/10\n",
            "141/141 [==============================] - 6s 45ms/step - loss: 0.1889 - accuracy: 0.9244\n",
            "Score for fold 4: loss of 0.7765308618545532; accuracy of 73.29999804496765%\n",
            "------------------------------------------------------------------------\n",
            "Training for fold 5 ...\n",
            "Epoch 1/10\n",
            "141/141 [==============================] - 6s 45ms/step - loss: 0.5443 - accuracy: 0.7311\n",
            "Epoch 2/10\n",
            "141/141 [==============================] - 6s 45ms/step - loss: 0.4712 - accuracy: 0.7874\n",
            "Epoch 3/10\n",
            "141/141 [==============================] - 6s 45ms/step - loss: 0.4154 - accuracy: 0.8180\n",
            "Epoch 4/10\n",
            "141/141 [==============================] - 6s 45ms/step - loss: 0.3795 - accuracy: 0.8379\n",
            "Epoch 5/10\n",
            "141/141 [==============================] - 6s 45ms/step - loss: 0.3402 - accuracy: 0.8539\n",
            "Epoch 6/10\n",
            "141/141 [==============================] - 6s 45ms/step - loss: 0.3074 - accuracy: 0.8697\n",
            "Epoch 7/10\n",
            "141/141 [==============================] - 6s 45ms/step - loss: 0.2780 - accuracy: 0.8863\n",
            "Epoch 8/10\n",
            "141/141 [==============================] - 6s 45ms/step - loss: 0.2442 - accuracy: 0.9001\n",
            "Epoch 9/10\n",
            "141/141 [==============================] - 6s 45ms/step - loss: 0.2133 - accuracy: 0.9125\n",
            "Epoch 10/10\n",
            "141/141 [==============================] - 6s 45ms/step - loss: 0.1843 - accuracy: 0.9269\n",
            "Score for fold 5: loss of 0.8174102306365967; accuracy of 72.29999899864197%\n",
            "------------------------------------------------------------------------\n",
            "Training for fold 6 ...\n",
            "Epoch 1/10\n",
            "141/141 [==============================] - 6s 45ms/step - loss: 0.5967 - accuracy: 0.6989\n",
            "Epoch 2/10\n",
            "141/141 [==============================] - 6s 45ms/step - loss: 0.4810 - accuracy: 0.7822\n",
            "Epoch 3/10\n",
            "141/141 [==============================] - 6s 45ms/step - loss: 0.4263 - accuracy: 0.8116\n",
            "Epoch 4/10\n",
            "141/141 [==============================] - 6s 45ms/step - loss: 0.3990 - accuracy: 0.8262\n",
            "Epoch 5/10\n",
            "141/141 [==============================] - 6s 45ms/step - loss: 0.3744 - accuracy: 0.8381\n",
            "Epoch 6/10\n",
            "141/141 [==============================] - 7s 46ms/step - loss: 0.3516 - accuracy: 0.8499\n",
            "Epoch 7/10\n",
            "141/141 [==============================] - 6s 45ms/step - loss: 0.3278 - accuracy: 0.8599\n",
            "Epoch 8/10\n",
            "141/141 [==============================] - 6s 45ms/step - loss: 0.3014 - accuracy: 0.8736\n",
            "Epoch 9/10\n",
            "141/141 [==============================] - 6s 45ms/step - loss: 0.2769 - accuracy: 0.8862\n",
            "Epoch 10/10\n",
            "141/141 [==============================] - 6s 45ms/step - loss: 0.2498 - accuracy: 0.9003\n",
            "Score for fold 6: loss of 0.7017137408256531; accuracy of 75.44999718666077%\n",
            "------------------------------------------------------------------------\n",
            "Training for fold 7 ...\n",
            "Epoch 1/10\n",
            "141/141 [==============================] - 6s 45ms/step - loss: 0.5857 - accuracy: 0.7044\n",
            "Epoch 2/10\n",
            "141/141 [==============================] - 6s 45ms/step - loss: 0.4778 - accuracy: 0.7834\n",
            "Epoch 3/10\n",
            "141/141 [==============================] - 6s 45ms/step - loss: 0.4222 - accuracy: 0.8141\n",
            "Epoch 4/10\n",
            "141/141 [==============================] - 6s 45ms/step - loss: 0.3876 - accuracy: 0.8321\n",
            "Epoch 5/10\n",
            "141/141 [==============================] - 6s 45ms/step - loss: 0.3605 - accuracy: 0.8485\n",
            "Epoch 6/10\n",
            "141/141 [==============================] - 6s 45ms/step - loss: 0.3366 - accuracy: 0.8559\n",
            "Epoch 7/10\n",
            "141/141 [==============================] - 6s 45ms/step - loss: 0.3277 - accuracy: 0.8657\n",
            "Epoch 8/10\n",
            "141/141 [==============================] - 6s 45ms/step - loss: 0.2910 - accuracy: 0.8792\n",
            "Epoch 9/10\n",
            "141/141 [==============================] - 6s 45ms/step - loss: 0.2637 - accuracy: 0.8917\n",
            "Epoch 10/10\n",
            "141/141 [==============================] - 6s 45ms/step - loss: 0.2357 - accuracy: 0.9041\n",
            "Score for fold 7: loss of 0.769522488117218; accuracy of 71.8500018119812%\n",
            "------------------------------------------------------------------------\n",
            "Training for fold 8 ...\n",
            "Epoch 1/10\n",
            "141/141 [==============================] - 6s 45ms/step - loss: 0.5585 - accuracy: 0.7216\n",
            "Epoch 2/10\n",
            "141/141 [==============================] - 6s 45ms/step - loss: 0.4757 - accuracy: 0.7848\n",
            "Epoch 3/10\n",
            "141/141 [==============================] - 6s 45ms/step - loss: 0.4175 - accuracy: 0.8163\n",
            "Epoch 4/10\n",
            "141/141 [==============================] - 6s 46ms/step - loss: 0.3837 - accuracy: 0.8337\n",
            "Epoch 5/10\n",
            "141/141 [==============================] - 6s 46ms/step - loss: 0.3501 - accuracy: 0.8498\n",
            "Epoch 6/10\n",
            "141/141 [==============================] - 6s 45ms/step - loss: 0.3189 - accuracy: 0.8641\n",
            "Epoch 7/10\n",
            "141/141 [==============================] - 6s 45ms/step - loss: 0.2939 - accuracy: 0.8763\n",
            "Epoch 8/10\n",
            "141/141 [==============================] - 6s 45ms/step - loss: 0.2586 - accuracy: 0.8934\n",
            "Epoch 9/10\n",
            "141/141 [==============================] - 6s 45ms/step - loss: 0.2303 - accuracy: 0.9049\n",
            "Epoch 10/10\n",
            "141/141 [==============================] - 6s 46ms/step - loss: 0.2032 - accuracy: 0.9189\n",
            "Score for fold 8: loss of 0.6709682941436768; accuracy of 76.15000009536743%\n",
            "------------------------------------------------------------------------\n",
            "Training for fold 9 ...\n",
            "Epoch 1/10\n",
            "141/141 [==============================] - 6s 44ms/step - loss: 0.5539 - accuracy: 0.7329\n",
            "Epoch 2/10\n",
            "141/141 [==============================] - 6s 45ms/step - loss: 0.4724 - accuracy: 0.7866\n",
            "Epoch 3/10\n",
            "141/141 [==============================] - 6s 45ms/step - loss: 0.4160 - accuracy: 0.8157\n",
            "Epoch 4/10\n",
            "141/141 [==============================] - 6s 45ms/step - loss: 0.3782 - accuracy: 0.8346\n",
            "Epoch 5/10\n",
            "141/141 [==============================] - 6s 45ms/step - loss: 0.3443 - accuracy: 0.8534\n",
            "Epoch 6/10\n",
            "141/141 [==============================] - 6s 45ms/step - loss: 0.3098 - accuracy: 0.8691\n",
            "Epoch 7/10\n",
            "141/141 [==============================] - 6s 45ms/step - loss: 0.2797 - accuracy: 0.8812\n",
            "Epoch 8/10\n",
            "141/141 [==============================] - 6s 45ms/step - loss: 0.2484 - accuracy: 0.8966\n",
            "Epoch 9/10\n",
            "141/141 [==============================] - 6s 45ms/step - loss: 0.2193 - accuracy: 0.9116\n",
            "Epoch 10/10\n",
            "141/141 [==============================] - 6s 45ms/step - loss: 0.1901 - accuracy: 0.9242\n",
            "Score for fold 9: loss of 0.7289614081382751; accuracy of 72.94999957084656%\n",
            "------------------------------------------------------------------------\n",
            "Training for fold 10 ...\n",
            "Epoch 1/10\n",
            "141/141 [==============================] - 6s 45ms/step - loss: 0.5568 - accuracy: 0.7273\n",
            "Epoch 2/10\n",
            "141/141 [==============================] - 6s 46ms/step - loss: 0.4720 - accuracy: 0.7854\n",
            "Epoch 3/10\n",
            "141/141 [==============================] - 6s 45ms/step - loss: 0.4186 - accuracy: 0.8151\n",
            "Epoch 4/10\n",
            "141/141 [==============================] - 7s 51ms/step - loss: 0.3817 - accuracy: 0.8313\n",
            "Epoch 5/10\n",
            "141/141 [==============================] - 7s 46ms/step - loss: 0.3496 - accuracy: 0.8471\n",
            "Epoch 6/10\n",
            "141/141 [==============================] - 6s 46ms/step - loss: 0.3212 - accuracy: 0.8615\n",
            "Epoch 7/10\n",
            "141/141 [==============================] - 7s 46ms/step - loss: 0.2891 - accuracy: 0.8754\n",
            "Epoch 8/10\n",
            "141/141 [==============================] - 7s 46ms/step - loss: 0.2560 - accuracy: 0.8926\n",
            "Epoch 9/10\n",
            "141/141 [==============================] - 7s 46ms/step - loss: 0.2243 - accuracy: 0.9074\n",
            "Epoch 10/10\n",
            "141/141 [==============================] - 7s 46ms/step - loss: 0.1966 - accuracy: 0.9234\n",
            "Score for fold 10: loss of 0.7259020209312439; accuracy of 74.90000128746033%\n"
          ],
          "name": "stdout"
        }
      ]
    },
    {
      "cell_type": "markdown",
      "metadata": {
        "id": "FaH2eEEzql_T"
      },
      "source": [
        "KFold with validation accuracy"
      ]
    },
    {
      "cell_type": "code",
      "metadata": {
        "colab": {
          "base_uri": "https://localhost:8080/"
        },
        "id": "VlE-P8fJo39k",
        "outputId": "566db7b4-e93d-4c26-b628-52fac07bea63"
      },
      "source": [
        "from sklearn.model_selection import KFold\n",
        "\n",
        "num_folds = 10\n",
        "\n",
        "# Define per-fold score containers <-- these are new\n",
        "acc_per_fold = []\n",
        "loss_per_fold = []\n",
        "\n",
        "kfold = KFold(n_splits=num_folds, shuffle=True)\n",
        "fold_no = 1\n",
        "for train, test in kfold.split(sequences_matrix,Y):\n",
        "  inp = Input(shape=[max_len])\n",
        "  x = Embedding(max_words,50,input_length=max_len)(inp)\n",
        "  x = Bidirectional(LSTM(256, return_sequences=True, dropout=0.2, recurrent_dropout=0))(x)\n",
        "  x = GlobalMaxPool1D()(x)\n",
        "  x = Dense(256, activation=\"relu\")(x)\n",
        "  x = Dropout(0.2)(x)\n",
        "  x = Dense(1, activation=\"sigmoid\")(x)\n",
        "  model = Model(inputs=inp, outputs=x)\n",
        "  model.compile(loss='binary_crossentropy',\n",
        "                optimizer=RMSprop(),\n",
        "                metrics=['accuracy'])\n",
        "  print('------------------------------------------------------------------------')\n",
        "  print(f'Training for fold {fold_no} ...')\n",
        "\n",
        "  # Fit data to model\n",
        "  history = model.fit(sequences_matrix[train], Y[train],validation_split=0.2,\n",
        "              batch_size=128,\n",
        "              epochs=10)\n",
        "  \n",
        "  scores = model.evaluate(sequences_matrix[test], Y[test], verbose=0)\n",
        "  print(f'Score for fold {fold_no}: {model.metrics_names[0]} of {scores[0]}; {model.metrics_names[1]} of {scores[1]*100}%')\n",
        "  acc_per_fold.append(scores[1] * 100)\n",
        "  loss_per_fold.append(scores[0])\n",
        "\n",
        "  # Increase fold number\n",
        "  fold_no+= 1"
      ],
      "execution_count": null,
      "outputs": [
        {
          "output_type": "stream",
          "text": [
            "------------------------------------------------------------------------\n",
            "Training for fold 1 ...\n",
            "Epoch 1/10\n",
            "113/113 [==============================] - 7s 58ms/step - loss: 0.5816 - accuracy: 0.7212 - val_loss: 0.5088 - val_accuracy: 0.7614\n",
            "Epoch 2/10\n",
            "113/113 [==============================] - 6s 51ms/step - loss: 0.4669 - accuracy: 0.7873 - val_loss: 0.5297 - val_accuracy: 0.7539\n",
            "Epoch 3/10\n",
            "113/113 [==============================] - 6s 51ms/step - loss: 0.4044 - accuracy: 0.8235 - val_loss: 0.5129 - val_accuracy: 0.7625\n",
            "Epoch 4/10\n",
            "113/113 [==============================] - 6s 51ms/step - loss: 0.3666 - accuracy: 0.8441 - val_loss: 0.5484 - val_accuracy: 0.7403\n",
            "Epoch 5/10\n",
            "113/113 [==============================] - 6s 51ms/step - loss: 0.3326 - accuracy: 0.8592 - val_loss: 0.6092 - val_accuracy: 0.7400\n",
            "Epoch 6/10\n",
            "113/113 [==============================] - 6s 51ms/step - loss: 0.3007 - accuracy: 0.8765 - val_loss: 0.5776 - val_accuracy: 0.7522\n",
            "Epoch 7/10\n",
            "113/113 [==============================] - 6s 51ms/step - loss: 0.2695 - accuracy: 0.8895 - val_loss: 0.6907 - val_accuracy: 0.7344\n",
            "Epoch 8/10\n",
            "113/113 [==============================] - 6s 51ms/step - loss: 0.2396 - accuracy: 0.9008 - val_loss: 0.7816 - val_accuracy: 0.7269\n",
            "Epoch 9/10\n",
            "113/113 [==============================] - 6s 51ms/step - loss: 0.2138 - accuracy: 0.9115 - val_loss: 0.8833 - val_accuracy: 0.7278\n",
            "Epoch 10/10\n",
            "113/113 [==============================] - 6s 51ms/step - loss: 0.1817 - accuracy: 0.9290 - val_loss: 0.8214 - val_accuracy: 0.7353\n",
            "Score for fold 1: loss of 0.8194097280502319; accuracy of 73.90000224113464%\n",
            "------------------------------------------------------------------------\n",
            "Training for fold 2 ...\n",
            "Epoch 1/10\n",
            "113/113 [==============================] - 7s 59ms/step - loss: 0.5952 - accuracy: 0.7042 - val_loss: 0.5660 - val_accuracy: 0.7444\n",
            "Epoch 2/10\n",
            "113/113 [==============================] - 6s 52ms/step - loss: 0.4835 - accuracy: 0.7760 - val_loss: 0.5147 - val_accuracy: 0.7531\n",
            "Epoch 3/10\n",
            "113/113 [==============================] - 6s 51ms/step - loss: 0.4201 - accuracy: 0.8133 - val_loss: 0.5156 - val_accuracy: 0.7553\n",
            "Epoch 4/10\n",
            "113/113 [==============================] - 6s 51ms/step - loss: 0.3751 - accuracy: 0.8378 - val_loss: 0.5388 - val_accuracy: 0.7533\n",
            "Epoch 5/10\n",
            "113/113 [==============================] - 6s 51ms/step - loss: 0.3439 - accuracy: 0.8547 - val_loss: 0.5900 - val_accuracy: 0.7503\n",
            "Epoch 6/10\n",
            "113/113 [==============================] - 6s 51ms/step - loss: 0.3151 - accuracy: 0.8689 - val_loss: 0.6578 - val_accuracy: 0.7472\n",
            "Epoch 7/10\n",
            "113/113 [==============================] - 6s 51ms/step - loss: 0.2960 - accuracy: 0.8774 - val_loss: 0.6077 - val_accuracy: 0.7503\n",
            "Epoch 8/10\n",
            "113/113 [==============================] - 6s 50ms/step - loss: 0.2592 - accuracy: 0.8949 - val_loss: 0.6614 - val_accuracy: 0.7361\n",
            "Epoch 9/10\n",
            "113/113 [==============================] - 6s 51ms/step - loss: 0.2308 - accuracy: 0.9069 - val_loss: 0.6829 - val_accuracy: 0.7622\n",
            "Epoch 10/10\n",
            "113/113 [==============================] - 6s 51ms/step - loss: 0.1997 - accuracy: 0.9203 - val_loss: 0.8078 - val_accuracy: 0.7103\n",
            "Score for fold 2: loss of 0.7839391827583313; accuracy of 70.89999914169312%\n",
            "------------------------------------------------------------------------\n",
            "Training for fold 3 ...\n",
            "Epoch 1/10\n",
            "113/113 [==============================] - 7s 58ms/step - loss: 0.5684 - accuracy: 0.7178 - val_loss: 0.5107 - val_accuracy: 0.7672\n",
            "Epoch 2/10\n",
            "113/113 [==============================] - 6s 50ms/step - loss: 0.4723 - accuracy: 0.7851 - val_loss: 0.5078 - val_accuracy: 0.7600\n",
            "Epoch 3/10\n",
            "113/113 [==============================] - 6s 50ms/step - loss: 0.4099 - accuracy: 0.8215 - val_loss: 0.5108 - val_accuracy: 0.7661\n",
            "Epoch 4/10\n",
            "113/113 [==============================] - 6s 51ms/step - loss: 0.3668 - accuracy: 0.8425 - val_loss: 0.5603 - val_accuracy: 0.7508\n",
            "Epoch 5/10\n",
            "113/113 [==============================] - 6s 51ms/step - loss: 0.3370 - accuracy: 0.8553 - val_loss: 0.5154 - val_accuracy: 0.7608\n",
            "Epoch 6/10\n",
            "113/113 [==============================] - 6s 50ms/step - loss: 0.3074 - accuracy: 0.8713 - val_loss: 0.6305 - val_accuracy: 0.7486\n",
            "Epoch 7/10\n",
            "113/113 [==============================] - 6s 52ms/step - loss: 0.2921 - accuracy: 0.8805 - val_loss: 0.6236 - val_accuracy: 0.7497\n",
            "Epoch 8/10\n",
            "113/113 [==============================] - 6s 51ms/step - loss: 0.2569 - accuracy: 0.8930 - val_loss: 0.6327 - val_accuracy: 0.7528\n",
            "Epoch 9/10\n",
            "113/113 [==============================] - 6s 51ms/step - loss: 0.2269 - accuracy: 0.9107 - val_loss: 0.6531 - val_accuracy: 0.7489\n",
            "Epoch 10/10\n",
            "113/113 [==============================] - 6s 51ms/step - loss: 0.2003 - accuracy: 0.9208 - val_loss: 0.7093 - val_accuracy: 0.7178\n",
            "Score for fold 3: loss of 0.7414907813072205; accuracy of 70.39999961853027%\n",
            "------------------------------------------------------------------------\n",
            "Training for fold 4 ...\n",
            "Epoch 1/10\n",
            "113/113 [==============================] - 6s 57ms/step - loss: 0.5848 - accuracy: 0.7152 - val_loss: 0.5266 - val_accuracy: 0.7558\n",
            "Epoch 2/10\n",
            "113/113 [==============================] - 6s 50ms/step - loss: 0.4813 - accuracy: 0.7774 - val_loss: 0.5169 - val_accuracy: 0.7550\n",
            "Epoch 3/10\n",
            "113/113 [==============================] - 6s 51ms/step - loss: 0.4083 - accuracy: 0.8208 - val_loss: 0.5059 - val_accuracy: 0.7558\n",
            "Epoch 4/10\n",
            "113/113 [==============================] - 6s 51ms/step - loss: 0.3824 - accuracy: 0.8395 - val_loss: 0.5230 - val_accuracy: 0.7564\n",
            "Epoch 5/10\n",
            "113/113 [==============================] - 6s 51ms/step - loss: 0.3309 - accuracy: 0.8585 - val_loss: 0.5633 - val_accuracy: 0.7522\n",
            "Epoch 6/10\n",
            "113/113 [==============================] - 6s 51ms/step - loss: 0.3029 - accuracy: 0.8722 - val_loss: 0.6101 - val_accuracy: 0.7439\n",
            "Epoch 7/10\n",
            "113/113 [==============================] - 6s 51ms/step - loss: 0.2704 - accuracy: 0.8857 - val_loss: 0.6224 - val_accuracy: 0.7614\n",
            "Epoch 8/10\n",
            "113/113 [==============================] - 6s 51ms/step - loss: 0.2465 - accuracy: 0.8972 - val_loss: 0.6885 - val_accuracy: 0.7294\n",
            "Epoch 9/10\n",
            "113/113 [==============================] - 6s 51ms/step - loss: 0.2142 - accuracy: 0.9144 - val_loss: 0.6217 - val_accuracy: 0.7394\n",
            "Epoch 10/10\n",
            "113/113 [==============================] - 6s 51ms/step - loss: 0.1922 - accuracy: 0.9236 - val_loss: 0.7035 - val_accuracy: 0.7489\n",
            "Score for fold 4: loss of 0.7513172030448914; accuracy of 71.74999713897705%\n",
            "------------------------------------------------------------------------\n",
            "Training for fold 5 ...\n",
            "Epoch 1/10\n",
            "113/113 [==============================] - 7s 63ms/step - loss: 0.6635 - accuracy: 0.6195 - val_loss: 0.5187 - val_accuracy: 0.7539\n",
            "Epoch 2/10\n",
            "113/113 [==============================] - 6s 50ms/step - loss: 0.5112 - accuracy: 0.7575 - val_loss: 0.5105 - val_accuracy: 0.7656\n",
            "Epoch 3/10\n",
            "113/113 [==============================] - 6s 51ms/step - loss: 0.4421 - accuracy: 0.8050 - val_loss: 0.5013 - val_accuracy: 0.7628\n",
            "Epoch 4/10\n",
            "113/113 [==============================] - 6s 51ms/step - loss: 0.3988 - accuracy: 0.8298 - val_loss: 0.5529 - val_accuracy: 0.7475\n",
            "Epoch 5/10\n",
            "113/113 [==============================] - 6s 51ms/step - loss: 0.3692 - accuracy: 0.8438 - val_loss: 0.5187 - val_accuracy: 0.7517\n",
            "Epoch 6/10\n",
            "113/113 [==============================] - 6s 51ms/step - loss: 0.3486 - accuracy: 0.8547 - val_loss: 0.5774 - val_accuracy: 0.7433\n",
            "Epoch 7/10\n",
            "113/113 [==============================] - 6s 51ms/step - loss: 0.3311 - accuracy: 0.8596 - val_loss: 0.6269 - val_accuracy: 0.7164\n",
            "Epoch 8/10\n",
            "113/113 [==============================] - 6s 51ms/step - loss: 0.3124 - accuracy: 0.8700 - val_loss: 0.5932 - val_accuracy: 0.7447\n",
            "Epoch 9/10\n",
            "113/113 [==============================] - 6s 51ms/step - loss: 0.2933 - accuracy: 0.8789 - val_loss: 0.6100 - val_accuracy: 0.7511\n",
            "Epoch 10/10\n",
            "113/113 [==============================] - 6s 51ms/step - loss: 0.2707 - accuracy: 0.8902 - val_loss: 0.6941 - val_accuracy: 0.7314\n",
            "Score for fold 5: loss of 0.6613609790802002; accuracy of 74.19999837875366%\n",
            "------------------------------------------------------------------------\n",
            "Training for fold 6 ...\n",
            "Epoch 1/10\n",
            "113/113 [==============================] - 6s 58ms/step - loss: 0.5829 - accuracy: 0.7094 - val_loss: 0.5136 - val_accuracy: 0.7608\n",
            "Epoch 2/10\n",
            "113/113 [==============================] - 6s 50ms/step - loss: 0.4777 - accuracy: 0.7837 - val_loss: 0.5058 - val_accuracy: 0.7658\n",
            "Epoch 3/10\n",
            "113/113 [==============================] - 6s 53ms/step - loss: 0.4131 - accuracy: 0.8178 - val_loss: 0.5690 - val_accuracy: 0.7458\n",
            "Epoch 4/10\n",
            "113/113 [==============================] - 6s 50ms/step - loss: 0.3695 - accuracy: 0.8436 - val_loss: 0.5277 - val_accuracy: 0.7622\n",
            "Epoch 5/10\n",
            "113/113 [==============================] - 6s 49ms/step - loss: 0.3243 - accuracy: 0.8636 - val_loss: 0.5573 - val_accuracy: 0.7558\n",
            "Epoch 6/10\n",
            "113/113 [==============================] - 6s 51ms/step - loss: 0.2993 - accuracy: 0.8782 - val_loss: 0.6727 - val_accuracy: 0.7458\n",
            "Epoch 7/10\n",
            "113/113 [==============================] - 6s 51ms/step - loss: 0.2478 - accuracy: 0.8990 - val_loss: 0.6747 - val_accuracy: 0.7350\n",
            "Epoch 8/10\n",
            "113/113 [==============================] - 6s 51ms/step - loss: 0.2119 - accuracy: 0.9140 - val_loss: 0.8259 - val_accuracy: 0.7383\n",
            "Epoch 9/10\n",
            "113/113 [==============================] - 6s 52ms/step - loss: 0.1796 - accuracy: 0.9286 - val_loss: 0.8224 - val_accuracy: 0.7022\n",
            "Epoch 10/10\n",
            "113/113 [==============================] - 6s 51ms/step - loss: 0.1501 - accuracy: 0.9411 - val_loss: 0.8815 - val_accuracy: 0.7175\n",
            "Score for fold 6: loss of 0.8358072638511658; accuracy of 72.69999980926514%\n",
            "------------------------------------------------------------------------\n",
            "Training for fold 7 ...\n",
            "Epoch 1/10\n",
            "113/113 [==============================] - 7s 59ms/step - loss: 0.5561 - accuracy: 0.7183 - val_loss: 0.5114 - val_accuracy: 0.7581\n",
            "Epoch 2/10\n",
            "113/113 [==============================] - 6s 51ms/step - loss: 0.4758 - accuracy: 0.7830 - val_loss: 0.4971 - val_accuracy: 0.7658\n",
            "Epoch 3/10\n",
            "113/113 [==============================] - 6s 51ms/step - loss: 0.4149 - accuracy: 0.8200 - val_loss: 0.5216 - val_accuracy: 0.7481\n",
            "Epoch 4/10\n",
            "113/113 [==============================] - 6s 51ms/step - loss: 0.3675 - accuracy: 0.8435 - val_loss: 0.5260 - val_accuracy: 0.7575\n",
            "Epoch 5/10\n",
            "113/113 [==============================] - 6s 51ms/step - loss: 0.3345 - accuracy: 0.8570 - val_loss: 0.5884 - val_accuracy: 0.7486\n",
            "Epoch 6/10\n",
            "113/113 [==============================] - 6s 51ms/step - loss: 0.3008 - accuracy: 0.8753 - val_loss: 0.5945 - val_accuracy: 0.7442\n",
            "Epoch 7/10\n",
            "113/113 [==============================] - 6s 51ms/step - loss: 0.2658 - accuracy: 0.8930 - val_loss: 0.5945 - val_accuracy: 0.7358\n",
            "Epoch 8/10\n",
            "113/113 [==============================] - 6s 52ms/step - loss: 0.2392 - accuracy: 0.9035 - val_loss: 0.7121 - val_accuracy: 0.7492\n",
            "Epoch 9/10\n",
            "113/113 [==============================] - 6s 51ms/step - loss: 0.2094 - accuracy: 0.9161 - val_loss: 0.7216 - val_accuracy: 0.7439\n",
            "Epoch 10/10\n",
            "113/113 [==============================] - 6s 51ms/step - loss: 0.1821 - accuracy: 0.9288 - val_loss: 0.8532 - val_accuracy: 0.7406\n",
            "Score for fold 7: loss of 0.8793087005615234; accuracy of 74.6999979019165%\n",
            "------------------------------------------------------------------------\n",
            "Training for fold 8 ...\n",
            "Epoch 1/10\n",
            "113/113 [==============================] - 7s 59ms/step - loss: 0.5894 - accuracy: 0.7065 - val_loss: 0.5140 - val_accuracy: 0.7581\n",
            "Epoch 2/10\n",
            "113/113 [==============================] - 6s 52ms/step - loss: 0.4882 - accuracy: 0.7722 - val_loss: 0.5247 - val_accuracy: 0.7656\n",
            "Epoch 3/10\n",
            "113/113 [==============================] - 6s 51ms/step - loss: 0.4209 - accuracy: 0.8130 - val_loss: 0.5098 - val_accuracy: 0.7667\n",
            "Epoch 4/10\n",
            "113/113 [==============================] - 6s 51ms/step - loss: 0.3764 - accuracy: 0.8381 - val_loss: 0.5236 - val_accuracy: 0.7478\n",
            "Epoch 5/10\n",
            "113/113 [==============================] - 6s 51ms/step - loss: 0.3434 - accuracy: 0.8540 - val_loss: 0.5490 - val_accuracy: 0.7586\n",
            "Epoch 6/10\n",
            "113/113 [==============================] - 6s 51ms/step - loss: 0.3043 - accuracy: 0.8739 - val_loss: 0.5651 - val_accuracy: 0.7539\n",
            "Epoch 7/10\n",
            "113/113 [==============================] - 6s 51ms/step - loss: 0.2739 - accuracy: 0.8876 - val_loss: 0.5981 - val_accuracy: 0.7542\n",
            "Epoch 8/10\n",
            "113/113 [==============================] - 6s 51ms/step - loss: 0.2420 - accuracy: 0.9013 - val_loss: 0.7052 - val_accuracy: 0.7436\n",
            "Epoch 9/10\n",
            "113/113 [==============================] - 6s 51ms/step - loss: 0.2086 - accuracy: 0.9169 - val_loss: 0.7615 - val_accuracy: 0.7319\n",
            "Epoch 10/10\n",
            "113/113 [==============================] - 6s 51ms/step - loss: 0.1811 - accuracy: 0.9289 - val_loss: 0.7757 - val_accuracy: 0.7433\n",
            "Score for fold 8: loss of 0.7174187302589417; accuracy of 75.49999952316284%\n",
            "------------------------------------------------------------------------\n",
            "Training for fold 9 ...\n",
            "Epoch 1/10\n",
            "113/113 [==============================] - 7s 59ms/step - loss: 0.5580 - accuracy: 0.7234 - val_loss: 0.5173 - val_accuracy: 0.7531\n",
            "Epoch 2/10\n",
            "113/113 [==============================] - 6s 51ms/step - loss: 0.4754 - accuracy: 0.7815 - val_loss: 0.5339 - val_accuracy: 0.7519\n",
            "Epoch 3/10\n",
            "113/113 [==============================] - 6s 51ms/step - loss: 0.4128 - accuracy: 0.8174 - val_loss: 0.5167 - val_accuracy: 0.7542\n",
            "Epoch 4/10\n",
            "113/113 [==============================] - 6s 51ms/step - loss: 0.3731 - accuracy: 0.8399 - val_loss: 0.5367 - val_accuracy: 0.7639\n",
            "Epoch 5/10\n",
            "113/113 [==============================] - 6s 51ms/step - loss: 0.3382 - accuracy: 0.8565 - val_loss: 0.5777 - val_accuracy: 0.7519\n",
            "Epoch 6/10\n",
            "113/113 [==============================] - 6s 51ms/step - loss: 0.2977 - accuracy: 0.8746 - val_loss: 0.6975 - val_accuracy: 0.7489\n",
            "Epoch 7/10\n",
            "113/113 [==============================] - 6s 51ms/step - loss: 0.2882 - accuracy: 0.8831 - val_loss: 0.6448 - val_accuracy: 0.7550\n",
            "Epoch 8/10\n",
            "113/113 [==============================] - 6s 51ms/step - loss: 0.2367 - accuracy: 0.9040 - val_loss: 0.6995 - val_accuracy: 0.7353\n",
            "Epoch 9/10\n",
            "113/113 [==============================] - 6s 51ms/step - loss: 0.2062 - accuracy: 0.9170 - val_loss: 0.8091 - val_accuracy: 0.7383\n",
            "Epoch 10/10\n",
            "113/113 [==============================] - 6s 51ms/step - loss: 0.1781 - accuracy: 0.9273 - val_loss: 0.9684 - val_accuracy: 0.7239\n",
            "Score for fold 9: loss of 0.9349590539932251; accuracy of 72.50000238418579%\n",
            "------------------------------------------------------------------------\n",
            "Training for fold 10 ...\n",
            "Epoch 1/10\n",
            "113/113 [==============================] - 7s 59ms/step - loss: 0.6935 - accuracy: 0.5953 - val_loss: 0.6433 - val_accuracy: 0.6769\n",
            "Epoch 2/10\n",
            "113/113 [==============================] - 6s 52ms/step - loss: 0.5468 - accuracy: 0.7359 - val_loss: 0.5103 - val_accuracy: 0.7611\n",
            "Epoch 3/10\n",
            "113/113 [==============================] - 6s 51ms/step - loss: 0.4892 - accuracy: 0.7772 - val_loss: 0.5050 - val_accuracy: 0.7675\n",
            "Epoch 4/10\n",
            "113/113 [==============================] - 6s 51ms/step - loss: 0.4295 - accuracy: 0.8106 - val_loss: 0.5621 - val_accuracy: 0.7128\n",
            "Epoch 5/10\n",
            "113/113 [==============================] - 6s 51ms/step - loss: 0.3897 - accuracy: 0.8343 - val_loss: 0.5077 - val_accuracy: 0.7617\n",
            "Epoch 6/10\n",
            "113/113 [==============================] - 6s 51ms/step - loss: 0.3663 - accuracy: 0.8426 - val_loss: 0.5461 - val_accuracy: 0.7506\n",
            "Epoch 7/10\n",
            "113/113 [==============================] - 6s 52ms/step - loss: 0.3429 - accuracy: 0.8551 - val_loss: 0.5740 - val_accuracy: 0.7628\n",
            "Epoch 8/10\n",
            "113/113 [==============================] - 6s 51ms/step - loss: 0.3212 - accuracy: 0.8653 - val_loss: 0.6241 - val_accuracy: 0.7592\n",
            "Epoch 9/10\n",
            "113/113 [==============================] - 6s 51ms/step - loss: 0.2969 - accuracy: 0.8751 - val_loss: 0.6595 - val_accuracy: 0.7289\n",
            "Epoch 10/10\n",
            "113/113 [==============================] - 6s 51ms/step - loss: 0.2707 - accuracy: 0.8867 - val_loss: 0.6420 - val_accuracy: 0.7347\n",
            "Score for fold 10: loss of 0.6191568970680237; accuracy of 74.6999979019165%\n"
          ],
          "name": "stdout"
        }
      ]
    },
    {
      "cell_type": "markdown",
      "metadata": {
        "id": "LjFAVgqPrWaO"
      },
      "source": [
        "KFold with fold = 5"
      ]
    },
    {
      "cell_type": "code",
      "metadata": {
        "colab": {
          "base_uri": "https://localhost:8080/",
          "height": 1000
        },
        "id": "M0Xt6RdtrU1M",
        "outputId": "48e163aa-9619-487a-bb8d-900f2f0be856"
      },
      "source": [
        "from sklearn.model_selection import KFold\n",
        "\n",
        "num_folds = 5\n",
        "\n",
        "# Define per-fold score containers <-- these are new\n",
        "acc_per_fold = []\n",
        "loss_per_fold = []\n",
        "\n",
        "kfold = KFold(n_splits=num_folds, shuffle=True)\n",
        "fold_no = 1\n",
        "for train, test in kfold.split(sequences_matrix,Y):\n",
        "  inp = Input(shape=[max_len])\n",
        "  x = Embedding(max_words,50,input_length=max_len)(inp)\n",
        "  x = Bidirectional(LSTM(256, return_sequences=True, dropout=0.2, recurrent_dropout=0))(x)\n",
        "  x = GlobalMaxPool1D()(x)\n",
        "  x = Dense(256, activation=\"relu\")(x)\n",
        "  x = Dropout(0.2)(x)\n",
        "  x = Dense(1, activation=\"sigmoid\")(x)\n",
        "  model = Model(inputs=inp, outputs=x)\n",
        "  model.compile(loss='binary_crossentropy',\n",
        "                optimizer=RMSprop(),\n",
        "                metrics=['accuracy'])\n",
        "  print('------------------------------------------------------------------------')\n",
        "  print(f'Training for fold {fold_no} ...')\n",
        "\n",
        "  # Fit data to model\n",
        "  history = model.fit(sequences_matrix[train], Y[train],validation_split=0.2,\n",
        "              batch_size=128,\n",
        "              epochs=10)\n",
        "  \n",
        "  scores = model.evaluate(sequences_matrix[test], Y[test], verbose=0)\n",
        "  print(f'Score for fold {fold_no}: {model.metrics_names[0]} of {scores[0]}; {model.metrics_names[1]} of {scores[1]*100}%')\n",
        "  acc_per_fold.append(scores[1] * 100)\n",
        "  loss_per_fold.append(scores[0])\n",
        "\n",
        "  # Increase fold number\n",
        "  fold_no+= 1"
      ],
      "execution_count": null,
      "outputs": [
        {
          "output_type": "stream",
          "text": [
            "------------------------------------------------------------------------\n",
            "Training for fold 1 ...\n",
            "Epoch 1/10\n",
            "100/100 [==============================] - 6s 55ms/step - loss: 0.0270 - accuracy: 0.5022 - val_loss: 0.0146 - val_accuracy: 0.4822\n",
            "Epoch 2/10\n",
            "100/100 [==============================] - 5s 50ms/step - loss: 0.0144 - accuracy: 0.5059 - val_loss: 0.0146 - val_accuracy: 0.4822\n",
            "Epoch 3/10\n",
            "100/100 [==============================] - 5s 50ms/step - loss: 0.0141 - accuracy: 0.5059 - val_loss: 0.0143 - val_accuracy: 0.4822\n",
            "Epoch 4/10\n",
            "100/100 [==============================] - 5s 50ms/step - loss: 0.0138 - accuracy: 0.5059 - val_loss: 0.0143 - val_accuracy: 0.4822\n",
            "Epoch 5/10\n",
            "100/100 [==============================] - 5s 50ms/step - loss: 0.0137 - accuracy: 0.5059 - val_loss: 0.0144 - val_accuracy: 0.4822\n",
            "Epoch 6/10\n",
            "100/100 [==============================] - 5s 50ms/step - loss: 0.0136 - accuracy: 0.5059 - val_loss: 0.0144 - val_accuracy: 0.4822\n",
            "Epoch 7/10\n",
            "100/100 [==============================] - 5s 50ms/step - loss: 0.0136 - accuracy: 0.5059 - val_loss: 0.0143 - val_accuracy: 0.4822\n",
            "Epoch 8/10\n",
            "100/100 [==============================] - 5s 50ms/step - loss: 0.0135 - accuracy: 0.5059 - val_loss: 0.0146 - val_accuracy: 0.4822\n",
            "Epoch 9/10\n",
            "100/100 [==============================] - 5s 50ms/step - loss: 0.0135 - accuracy: 0.5059 - val_loss: 0.0146 - val_accuracy: 0.4822\n",
            "Epoch 10/10\n",
            "100/100 [==============================] - 5s 50ms/step - loss: 0.0134 - accuracy: 0.5059 - val_loss: 0.0146 - val_accuracy: 0.4822\n",
            "Score for fold 1: loss of 0.01427468005567789; accuracy of 49.52499866485596%\n",
            "------------------------------------------------------------------------\n",
            "Training for fold 2 ...\n",
            "Epoch 1/10\n",
            "100/100 [==============================] - 6s 63ms/step - loss: 0.0266 - accuracy: 0.5052 - val_loss: 0.0148 - val_accuracy: 0.4778\n",
            "Epoch 2/10\n",
            "100/100 [==============================] - 5s 49ms/step - loss: 0.0142 - accuracy: 0.5058 - val_loss: 0.0144 - val_accuracy: 0.4778\n",
            "Epoch 3/10\n",
            "100/100 [==============================] - 5s 50ms/step - loss: 0.0139 - accuracy: 0.5058 - val_loss: 0.0146 - val_accuracy: 0.4778\n",
            "Epoch 4/10\n",
            "100/100 [==============================] - 5s 50ms/step - loss: 0.0138 - accuracy: 0.5058 - val_loss: 0.0144 - val_accuracy: 0.4778\n",
            "Epoch 5/10\n",
            "100/100 [==============================] - 5s 50ms/step - loss: 0.0136 - accuracy: 0.5058 - val_loss: 0.0145 - val_accuracy: 0.4778\n",
            "Epoch 6/10\n",
            "100/100 [==============================] - 5s 50ms/step - loss: 0.0136 - accuracy: 0.5058 - val_loss: 0.0145 - val_accuracy: 0.4778\n",
            "Epoch 7/10\n",
            "100/100 [==============================] - 5s 49ms/step - loss: 0.0135 - accuracy: 0.5058 - val_loss: 0.0145 - val_accuracy: 0.4778\n",
            "Epoch 8/10\n",
            "100/100 [==============================] - 5s 50ms/step - loss: 0.0135 - accuracy: 0.5058 - val_loss: 0.0146 - val_accuracy: 0.4778\n",
            "Epoch 9/10\n",
            "100/100 [==============================] - 5s 50ms/step - loss: 0.0134 - accuracy: 0.5058 - val_loss: 0.0145 - val_accuracy: 0.4778\n",
            "Epoch 10/10\n",
            "100/100 [==============================] - 5s 49ms/step - loss: 0.0133 - accuracy: 0.5058 - val_loss: 0.0149 - val_accuracy: 0.4778\n",
            "Score for fold 2: loss of 0.014313534833490849; accuracy of 49.924999475479126%\n",
            "------------------------------------------------------------------------\n",
            "Training for fold 3 ...\n",
            "Epoch 1/10\n",
            "100/100 [==============================] - 6s 56ms/step - loss: 0.0271 - accuracy: 0.4991 - val_loss: 0.0145 - val_accuracy: 0.4834\n",
            "Epoch 2/10\n",
            "100/100 [==============================] - 5s 50ms/step - loss: 0.0144 - accuracy: 0.5022 - val_loss: 0.0144 - val_accuracy: 0.4834\n",
            "Epoch 3/10\n",
            "100/100 [==============================] - 5s 50ms/step - loss: 0.0141 - accuracy: 0.5022 - val_loss: 0.0144 - val_accuracy: 0.4834\n",
            "Epoch 4/10\n",
            "100/100 [==============================] - 5s 50ms/step - loss: 0.0139 - accuracy: 0.5022 - val_loss: 0.0143 - val_accuracy: 0.4834\n",
            "Epoch 5/10\n",
            "100/100 [==============================] - 5s 50ms/step - loss: 0.0138 - accuracy: 0.5022 - val_loss: 0.0144 - val_accuracy: 0.4834\n",
            "Epoch 6/10\n",
            "100/100 [==============================] - 5s 50ms/step - loss: 0.0137 - accuracy: 0.5022 - val_loss: 0.0144 - val_accuracy: 0.4834\n",
            "Epoch 7/10\n",
            "100/100 [==============================] - 5s 50ms/step - loss: 0.0136 - accuracy: 0.5022 - val_loss: 0.0143 - val_accuracy: 0.4834\n",
            "Epoch 8/10\n",
            "100/100 [==============================] - 5s 50ms/step - loss: 0.0136 - accuracy: 0.5022 - val_loss: 0.0146 - val_accuracy: 0.4834\n",
            "Epoch 9/10\n",
            "100/100 [==============================] - 5s 50ms/step - loss: 0.0135 - accuracy: 0.5022 - val_loss: 0.0145 - val_accuracy: 0.4834\n",
            "Epoch 10/10\n",
            "100/100 [==============================] - 5s 50ms/step - loss: 0.0135 - accuracy: 0.5022 - val_loss: 0.0146 - val_accuracy: 0.4834\n",
            "Score for fold 3: loss of 0.014009994454681873; accuracy of 50.62500238418579%\n",
            "------------------------------------------------------------------------\n",
            "Training for fold 4 ...\n",
            "Epoch 1/10\n",
            "100/100 [==============================] - 6s 55ms/step - loss: 0.0275 - accuracy: 0.4980 - val_loss: 0.0144 - val_accuracy: 0.4903\n",
            "Epoch 2/10\n",
            "100/100 [==============================] - 5s 50ms/step - loss: 0.0144 - accuracy: 0.5030 - val_loss: 0.0142 - val_accuracy: 0.4903\n",
            "Epoch 3/10\n",
            "100/100 [==============================] - 5s 50ms/step - loss: 0.0141 - accuracy: 0.5030 - val_loss: 0.0140 - val_accuracy: 0.4903\n",
            "Epoch 4/10\n",
            "100/100 [==============================] - 5s 50ms/step - loss: 0.0139 - accuracy: 0.5030 - val_loss: 0.0141 - val_accuracy: 0.4903\n",
            "Epoch 5/10\n",
            "100/100 [==============================] - 5s 50ms/step - loss: 0.0138 - accuracy: 0.5030 - val_loss: 0.0142 - val_accuracy: 0.4903\n",
            "Epoch 6/10\n",
            "100/100 [==============================] - 5s 50ms/step - loss: 0.0137 - accuracy: 0.5030 - val_loss: 0.0145 - val_accuracy: 0.4903\n",
            "Epoch 7/10\n",
            "100/100 [==============================] - 5s 50ms/step - loss: 0.0136 - accuracy: 0.5030 - val_loss: 0.0143 - val_accuracy: 0.4903\n",
            "Epoch 8/10\n",
            "100/100 [==============================] - 5s 50ms/step - loss: 0.0136 - accuracy: 0.5030 - val_loss: 0.0143 - val_accuracy: 0.4903\n",
            "Epoch 9/10\n",
            "100/100 [==============================] - 5s 50ms/step - loss: 0.0135 - accuracy: 0.5030 - val_loss: 0.0145 - val_accuracy: 0.4903\n",
            "Epoch 10/10\n",
            "100/100 [==============================] - 5s 50ms/step - loss: 0.0135 - accuracy: 0.5030 - val_loss: 0.0144 - val_accuracy: 0.4903\n",
            "Score for fold 4: loss of 0.014205473475158215; accuracy of 49.799999594688416%\n",
            "------------------------------------------------------------------------\n",
            "Training for fold 5 ...\n",
            "Epoch 1/10\n",
            "100/100 [==============================] - 6s 56ms/step - loss: 0.0277 - accuracy: 0.4973 - val_loss: 0.0143 - val_accuracy: 0.4888\n",
            "Epoch 2/10\n",
            "100/100 [==============================] - 5s 50ms/step - loss: 0.0144 - accuracy: 0.5024 - val_loss: 0.0143 - val_accuracy: 0.4888\n",
            "Epoch 3/10\n",
            "100/100 [==============================] - 5s 50ms/step - loss: 0.0141 - accuracy: 0.5024 - val_loss: 0.0142 - val_accuracy: 0.4888\n",
            "Epoch 4/10\n",
            "100/100 [==============================] - 5s 50ms/step - loss: 0.0140 - accuracy: 0.5024 - val_loss: 0.0143 - val_accuracy: 0.4888\n",
            "Epoch 5/10\n",
            "100/100 [==============================] - 5s 50ms/step - loss: 0.0138 - accuracy: 0.5024 - val_loss: 0.0143 - val_accuracy: 0.4888\n",
            "Epoch 6/10\n",
            "100/100 [==============================] - 5s 50ms/step - loss: 0.0137 - accuracy: 0.5024 - val_loss: 0.0141 - val_accuracy: 0.4888\n",
            "Epoch 7/10\n",
            "100/100 [==============================] - 5s 50ms/step - loss: 0.0137 - accuracy: 0.5024 - val_loss: 0.0143 - val_accuracy: 0.4888\n",
            "Epoch 8/10\n",
            "100/100 [==============================] - 5s 50ms/step - loss: 0.0136 - accuracy: 0.5024 - val_loss: 0.0142 - val_accuracy: 0.4888\n",
            "Epoch 9/10\n",
            "100/100 [==============================] - 5s 50ms/step - loss: 0.0136 - accuracy: 0.5024 - val_loss: 0.0144 - val_accuracy: 0.4888\n",
            "Epoch 10/10\n",
            "100/100 [==============================] - 5s 50ms/step - loss: 0.0135 - accuracy: 0.5024 - val_loss: 0.0143 - val_accuracy: 0.4888\n",
            "Score for fold 5: loss of 0.013962593860924244; accuracy of 50.12500286102295%\n"
          ],
          "name": "stdout"
        }
      ]
    },
    {
      "cell_type": "markdown",
      "metadata": {
        "id": "UMbWG4utuQ1S"
      },
      "source": [
        "Plotting KFold with fold = 5 "
      ]
    },
    {
      "cell_type": "code",
      "metadata": {
        "colab": {
          "base_uri": "https://localhost:8080/",
          "height": 1000
        },
        "id": "4Aevbb_3sUcr",
        "outputId": "73b33bbe-3c59-4dd5-ec06-160861749614"
      },
      "source": [
        "from sklearn.model_selection import KFold\n",
        "\n",
        "num_folds = 5\n",
        "\n",
        "# Define per-fold score containers <-- these are new\n",
        "acc_per_fold = []\n",
        "loss_per_fold = []\n",
        "\n",
        "kfold = KFold(n_splits=num_folds, shuffle=True)\n",
        "fold_no = 1\n",
        "for train, test in kfold.split(sequences_matrix,Y):\n",
        "  inp = Input(shape=[max_len])\n",
        "  x = Embedding(max_words,50,input_length=max_len)(inp)\n",
        "  x = Bidirectional(LSTM(256, return_sequences=True, dropout=0.2, recurrent_dropout=0))(x)\n",
        "  x = GlobalMaxPool1D()(x)\n",
        "  x = Dense(256, activation=\"relu\")(x)\n",
        "  x = Dropout(0.2)(x)\n",
        "  x = Dense(1, activation=\"sigmoid\")(x)\n",
        "  model = Model(inputs=inp, outputs=x)\n",
        "  model.compile(loss='binary_crossentropy',\n",
        "                optimizer=RMSprop(),\n",
        "                metrics=['accuracy'])\n",
        "  print('------------------------------------------------------------------------')\n",
        "  print(f'Training for fold {fold_no} ...')\n",
        "\n",
        "  # Fit data to model\n",
        "  history = model.fit(sequences_matrix[train], Y[train],validation_split=0.2,\n",
        "              batch_size=128,\n",
        "              epochs=10)\n",
        "  \n",
        "  scores = model.evaluate(sequences_matrix[test], Y[test], verbose=0)\n",
        "  print(f'Score for fold {fold_no}: {model.metrics_names[0]} of {scores[0]}; {model.metrics_names[1]} of {scores[1]*100}%')\n",
        "  acc_per_fold.append(scores[1] * 100)\n",
        "  loss_per_fold.append(scores[0])\n",
        "  plt.plot(history.history['loss'], label='MAE (training data)')\n",
        "  plt.plot(history.history['val_loss'], label='MAE (validation data)')\n",
        "  plt.show()\n",
        "\n",
        "  # Increase fold number\n",
        "  fold_no+= 1"
      ],
      "execution_count": null,
      "outputs": [
        {
          "output_type": "stream",
          "text": [
            "------------------------------------------------------------------------\n",
            "Training for fold 1 ...\n",
            "Epoch 1/10\n",
            "100/100 [==============================] - 6s 56ms/step - loss: 0.0266 - accuracy: 0.5016 - val_loss: 0.0146 - val_accuracy: 0.4744\n",
            "Epoch 2/10\n",
            "100/100 [==============================] - 5s 50ms/step - loss: 0.0142 - accuracy: 0.5016 - val_loss: 0.0148 - val_accuracy: 0.4744\n",
            "Epoch 3/10\n",
            "100/100 [==============================] - 5s 50ms/step - loss: 0.0141 - accuracy: 0.5016 - val_loss: 0.0146 - val_accuracy: 0.4744\n",
            "Epoch 4/10\n",
            "100/100 [==============================] - 5s 50ms/step - loss: 0.0139 - accuracy: 0.5016 - val_loss: 0.0146 - val_accuracy: 0.4744\n",
            "Epoch 5/10\n",
            "100/100 [==============================] - 5s 50ms/step - loss: 0.0138 - accuracy: 0.5016 - val_loss: 0.0145 - val_accuracy: 0.4744\n",
            "Epoch 6/10\n",
            "100/100 [==============================] - 5s 50ms/step - loss: 0.0137 - accuracy: 0.5016 - val_loss: 0.0146 - val_accuracy: 0.4744\n",
            "Epoch 7/10\n",
            "100/100 [==============================] - 5s 50ms/step - loss: 0.0136 - accuracy: 0.5016 - val_loss: 0.0150 - val_accuracy: 0.4744\n",
            "Epoch 8/10\n",
            "100/100 [==============================] - 5s 50ms/step - loss: 0.0136 - accuracy: 0.5016 - val_loss: 0.0146 - val_accuracy: 0.4744\n",
            "Epoch 9/10\n",
            "100/100 [==============================] - 5s 50ms/step - loss: 0.0135 - accuracy: 0.5016 - val_loss: 0.0147 - val_accuracy: 0.4744\n",
            "Epoch 10/10\n",
            "100/100 [==============================] - 5s 50ms/step - loss: 0.0135 - accuracy: 0.5016 - val_loss: 0.0149 - val_accuracy: 0.4744\n",
            "Score for fold 1: loss of 0.013809417374432087; accuracy of 51.5500009059906%\n"
          ],
          "name": "stdout"
        },
        {
          "output_type": "display_data",
          "data": {
            "image/png": "[encoded data removed]",
            "text/plain": [
              "<Figure size 432x288 with 1 Axes>"
            ]
          },
          "metadata": {
            "tags": []
          }
        },
        {
          "output_type": "stream",
          "text": [
            "------------------------------------------------------------------------\n",
            "Training for fold 2 ...\n",
            "Epoch 1/10\n",
            "100/100 [==============================] - 6s 55ms/step - loss: 0.0269 - accuracy: 0.5007 - val_loss: 0.0147 - val_accuracy: 0.4844\n",
            "Epoch 2/10\n",
            "100/100 [==============================] - 5s 50ms/step - loss: 0.0143 - accuracy: 0.5017 - val_loss: 0.0144 - val_accuracy: 0.4844\n",
            "Epoch 3/10\n",
            "100/100 [==============================] - 5s 50ms/step - loss: 0.0140 - accuracy: 0.5017 - val_loss: 0.0145 - val_accuracy: 0.4844\n",
            "Epoch 4/10\n",
            "100/100 [==============================] - 5s 50ms/step - loss: 0.0139 - accuracy: 0.5017 - val_loss: 0.0142 - val_accuracy: 0.4844\n",
            "Epoch 5/10\n",
            "100/100 [==============================] - 5s 50ms/step - loss: 0.0137 - accuracy: 0.5017 - val_loss: 0.0142 - val_accuracy: 0.4844\n",
            "Epoch 6/10\n",
            "100/100 [==============================] - 5s 50ms/step - loss: 0.0137 - accuracy: 0.5017 - val_loss: 0.0145 - val_accuracy: 0.4844\n",
            "Epoch 7/10\n",
            "100/100 [==============================] - 5s 50ms/step - loss: 0.0136 - accuracy: 0.5017 - val_loss: 0.0145 - val_accuracy: 0.4844\n",
            "Epoch 8/10\n",
            "100/100 [==============================] - 5s 50ms/step - loss: 0.0135 - accuracy: 0.5017 - val_loss: 0.0144 - val_accuracy: 0.4844\n",
            "Epoch 9/10\n",
            "100/100 [==============================] - 5s 50ms/step - loss: 0.0135 - accuracy: 0.5017 - val_loss: 0.0144 - val_accuracy: 0.4844\n",
            "Epoch 10/10\n",
            "100/100 [==============================] - 5s 50ms/step - loss: 0.0135 - accuracy: 0.5017 - val_loss: 0.0145 - val_accuracy: 0.4844\n",
            "Score for fold 2: loss of 0.013872897252440453; accuracy of 50.700002908706665%\n"
          ],
          "name": "stdout"
        },
        {
          "output_type": "display_data",
          "data": {
            "image/png": "[encoded data removed]",
            "text/plain": [
              "<Figure size 432x288 with 1 Axes>"
            ]
          },
          "metadata": {
            "tags": []
          }
        },
        {
          "output_type": "stream",
          "text": [
            "------------------------------------------------------------------------\n",
            "Training for fold 3 ...\n",
            "Epoch 1/10\n",
            "100/100 [==============================] - 6s 56ms/step - loss: 0.0268 - accuracy: 0.5021 - val_loss: 0.0142 - val_accuracy: 0.4900\n",
            "Epoch 2/10\n",
            "100/100 [==============================] - 5s 50ms/step - loss: 0.0144 - accuracy: 0.5065 - val_loss: 0.0142 - val_accuracy: 0.4900\n",
            "Epoch 3/10\n",
            "100/100 [==============================] - 5s 50ms/step - loss: 0.0142 - accuracy: 0.5065 - val_loss: 0.0141 - val_accuracy: 0.4900\n",
            "Epoch 4/10\n",
            "100/100 [==============================] - 5s 50ms/step - loss: 0.0139 - accuracy: 0.5065 - val_loss: 0.0142 - val_accuracy: 0.4900\n",
            "Epoch 5/10\n",
            "100/100 [==============================] - 5s 50ms/step - loss: 0.0138 - accuracy: 0.5065 - val_loss: 0.0141 - val_accuracy: 0.4900\n",
            "Epoch 6/10\n",
            "100/100 [==============================] - 5s 50ms/step - loss: 0.0137 - accuracy: 0.5065 - val_loss: 0.0141 - val_accuracy: 0.4900\n",
            "Epoch 7/10\n",
            "100/100 [==============================] - 5s 50ms/step - loss: 0.0137 - accuracy: 0.5065 - val_loss: 0.0142 - val_accuracy: 0.4900\n",
            "Epoch 8/10\n",
            "100/100 [==============================] - 5s 50ms/step - loss: 0.0135 - accuracy: 0.5065 - val_loss: 0.0141 - val_accuracy: 0.4900\n",
            "Epoch 9/10\n",
            "100/100 [==============================] - 5s 50ms/step - loss: 0.0135 - accuracy: 0.5065 - val_loss: 0.0141 - val_accuracy: 0.4900\n",
            "Epoch 10/10\n",
            "100/100 [==============================] - 5s 50ms/step - loss: 0.0134 - accuracy: 0.5065 - val_loss: 0.0143 - val_accuracy: 0.4900\n",
            "Score for fold 3: loss of 0.014337764121592045; accuracy of 48.72500002384186%\n"
          ],
          "name": "stdout"
        },
        {
          "output_type": "display_data",
          "data": {
            "image/png": "[encoded data removed]",
            "text/plain": [
              "<Figure size 432x288 with 1 Axes>"
            ]
          },
          "metadata": {
            "tags": []
          }
        },
        {
          "output_type": "stream",
          "text": [
            "------------------------------------------------------------------------\n",
            "Training for fold 4 ...\n",
            "Epoch 1/10\n",
            "100/100 [==============================] - 6s 56ms/step - loss: 0.0275 - accuracy: 0.4998 - val_loss: 0.0174 - val_accuracy: 0.4831\n",
            "Epoch 2/10\n",
            "100/100 [==============================] - 5s 49ms/step - loss: 0.0145 - accuracy: 0.5056 - val_loss: 0.0150 - val_accuracy: 0.4831\n",
            "Epoch 3/10\n",
            "100/100 [==============================] - 5s 50ms/step - loss: 0.0141 - accuracy: 0.5056 - val_loss: 0.0143 - val_accuracy: 0.4831\n",
            "Epoch 4/10\n",
            "100/100 [==============================] - 5s 50ms/step - loss: 0.0139 - accuracy: 0.5056 - val_loss: 0.0142 - val_accuracy: 0.4831\n",
            "Epoch 5/10\n",
            "100/100 [==============================] - 5s 50ms/step - loss: 0.0138 - accuracy: 0.5056 - val_loss: 0.0143 - val_accuracy: 0.4831\n",
            "Epoch 6/10\n",
            "100/100 [==============================] - 5s 50ms/step - loss: 0.0137 - accuracy: 0.5056 - val_loss: 0.0143 - val_accuracy: 0.4831\n",
            "Epoch 7/10\n",
            "100/100 [==============================] - 5s 50ms/step - loss: 0.0135 - accuracy: 0.5056 - val_loss: 0.0143 - val_accuracy: 0.4831\n",
            "Epoch 8/10\n",
            "100/100 [==============================] - 5s 50ms/step - loss: 0.0135 - accuracy: 0.5056 - val_loss: 0.0149 - val_accuracy: 0.4831\n",
            "Epoch 9/10\n",
            "100/100 [==============================] - 5s 50ms/step - loss: 0.0134 - accuracy: 0.5056 - val_loss: 0.0147 - val_accuracy: 0.4831\n",
            "Epoch 10/10\n",
            "100/100 [==============================] - 5s 50ms/step - loss: 0.0134 - accuracy: 0.5056 - val_loss: 0.0149 - val_accuracy: 0.4831\n",
            "Score for fold 4: loss of 0.014515151269733906; accuracy of 49.549999833106995%\n"
          ],
          "name": "stdout"
        },
        {
          "output_type": "display_data",
          "data": {
            "image/png": "[encoded data removed]",
            "text/plain": [
              "<Figure size 432x288 with 1 Axes>"
            ]
          },
          "metadata": {
            "tags": []
          }
        },
        {
          "output_type": "stream",
          "text": [
            "------------------------------------------------------------------------\n",
            "Training for fold 5 ...\n",
            "Epoch 1/10\n",
            "100/100 [==============================] - 6s 56ms/step - loss: 0.0273 - accuracy: 0.5041 - val_loss: 0.0145 - val_accuracy: 0.4900\n",
            "Epoch 2/10\n",
            "100/100 [==============================] - 5s 50ms/step - loss: 0.0142 - accuracy: 0.5041 - val_loss: 0.0157 - val_accuracy: 0.4900\n",
            "Epoch 3/10\n",
            "100/100 [==============================] - 5s 50ms/step - loss: 0.0141 - accuracy: 0.5041 - val_loss: 0.0141 - val_accuracy: 0.4900\n",
            "Epoch 4/10\n",
            "100/100 [==============================] - 5s 50ms/step - loss: 0.0139 - accuracy: 0.5041 - val_loss: 0.0141 - val_accuracy: 0.4900\n",
            "Epoch 5/10\n",
            "100/100 [==============================] - 5s 50ms/step - loss: 0.0138 - accuracy: 0.5041 - val_loss: 0.0142 - val_accuracy: 0.4900\n",
            "Epoch 6/10\n",
            "100/100 [==============================] - 5s 50ms/step - loss: 0.0136 - accuracy: 0.5041 - val_loss: 0.0142 - val_accuracy: 0.4900\n",
            "Epoch 7/10\n",
            "100/100 [==============================] - 5s 50ms/step - loss: 0.0136 - accuracy: 0.5041 - val_loss: 0.0142 - val_accuracy: 0.4900\n",
            "Epoch 8/10\n",
            "100/100 [==============================] - 5s 50ms/step - loss: 0.0135 - accuracy: 0.5041 - val_loss: 0.0142 - val_accuracy: 0.4900\n",
            "Epoch 9/10\n",
            "100/100 [==============================] - 5s 50ms/step - loss: 0.0135 - accuracy: 0.5041 - val_loss: 0.0144 - val_accuracy: 0.4900\n",
            "Epoch 10/10\n",
            "100/100 [==============================] - 5s 50ms/step - loss: 0.0134 - accuracy: 0.5041 - val_loss: 0.0144 - val_accuracy: 0.4900\n",
            "Score for fold 5: loss of 0.014319518581032753; accuracy of 49.47499930858612%\n"
          ],
          "name": "stdout"
        },
        {
          "output_type": "display_data",
          "data": {
            "image/png": "[encoded data removed]",
            "text/plain": [
              "<Figure size 432x288 with 1 Axes>"
            ]
          },
          "metadata": {
            "tags": []
          }
        }
      ]
    },
    {
      "cell_type": "markdown",
      "metadata": {
        "id": "Y8n0a3fPB3VH"
      },
      "source": [
        "BiDirectional LSTM with some variations"
      ]
    },
    {
      "cell_type": "code",
      "metadata": {
        "id": "E_cD2lxBy-f-"
      },
      "source": [
        "def BiDir2():\n",
        "  inp = Input(shape=[max_len])\n",
        "  x = Embedding(max_words,50,input_length=max_len)(inp)\n",
        "  x = Bidirectional(LSTM(256, return_sequences=True, dropout=0.2, recurrent_dropout=0))(x)\n",
        "  x = Bidirectional(LSTM(256, return_sequences=True, dropout=0.2, recurrent_dropout=0))(x)\n",
        "  x = GlobalMaxPool1D()(x)\n",
        "  x = Dense(256, activation=\"relu\")(x)\n",
        "  x = Dropout(0.2)(x)\n",
        "  x = Dense(1, activation=\"sigmoid\")(x)\n",
        "  model = Model(inputs=inp, outputs=x)\n",
        "  return model"
      ],
      "execution_count": null,
      "outputs": []
    },
    {
      "cell_type": "code",
      "metadata": {
        "colab": {
          "base_uri": "https://localhost:8080/",
          "height": 425
        },
        "id": "HunztIo_B0Wb",
        "outputId": "28997186-e0da-4be8-b086-7cca8de325e8"
      },
      "source": [
        "model2 = BiDir2()\n",
        "model2.summary()\n",
        "model2.compile(loss='binary_crossentropy',optimizer=RMSprop(),metrics=['accuracy'])"
      ],
      "execution_count": null,
      "outputs": [
        {
          "output_type": "stream",
          "text": [
            "Model: \"functional_1\"\n",
            "_________________________________________________________________\n",
            "Layer (type)                 Output Shape              Param #   \n",
            "=================================================================\n",
            "input_1 (InputLayer)         [(None, 150)]             0         \n",
            "_________________________________________________________________\n",
            "embedding (Embedding)        (None, 150, 50)           500000    \n",
            "_________________________________________________________________\n",
            "bidirectional (Bidirectional (None, 150, 512)          628736    \n",
            "_________________________________________________________________\n",
            "bidirectional_1 (Bidirection (None, 150, 512)          1574912   \n",
            "_________________________________________________________________\n",
            "global_max_pooling1d (Global (None, 512)               0         \n",
            "_________________________________________________________________\n",
            "dense (Dense)                (None, 256)               131328    \n",
            "_________________________________________________________________\n",
            "dropout (Dropout)            (None, 256)               0         \n",
            "_________________________________________________________________\n",
            "dense_1 (Dense)              (None, 1)                 257       \n",
            "=================================================================\n",
            "Total params: 2,835,233\n",
            "Trainable params: 2,835,233\n",
            "Non-trainable params: 0\n",
            "_________________________________________________________________\n"
          ],
          "name": "stdout"
        }
      ]
    },
    {
      "cell_type": "code",
      "metadata": {
        "colab": {
          "base_uri": "https://localhost:8080/",
          "height": 357
        },
        "id": "QMZ7c06ICE7u",
        "outputId": "31cb51bc-d649-45eb-bd64-d2caf5a9a414"
      },
      "source": [
        "history = model2.fit(sequences_matrix, Y,validation_split=0.2, batch_size=128, epochs=10)"
      ],
      "execution_count": null,
      "outputs": [
        {
          "output_type": "stream",
          "text": [
            "Epoch 1/10\n",
            "125/125 [==============================] - 23s 183ms/step - loss: 0.5763 - accuracy: 0.7202 - val_loss: 0.5181 - val_accuracy: 0.7653\n",
            "Epoch 2/10\n",
            "125/125 [==============================] - 22s 173ms/step - loss: 0.4782 - accuracy: 0.7824 - val_loss: 0.4973 - val_accuracy: 0.7703\n",
            "Epoch 3/10\n",
            "125/125 [==============================] - 22s 174ms/step - loss: 0.4140 - accuracy: 0.8176 - val_loss: 0.4986 - val_accuracy: 0.7673\n",
            "Epoch 4/10\n",
            "125/125 [==============================] - 22s 173ms/step - loss: 0.3731 - accuracy: 0.8386 - val_loss: 0.5022 - val_accuracy: 0.7642\n",
            "Epoch 5/10\n",
            "125/125 [==============================] - 22s 173ms/step - loss: 0.3412 - accuracy: 0.8548 - val_loss: 0.5450 - val_accuracy: 0.7575\n",
            "Epoch 6/10\n",
            "125/125 [==============================] - 22s 174ms/step - loss: 0.3044 - accuracy: 0.8715 - val_loss: 0.5947 - val_accuracy: 0.7515\n",
            "Epoch 7/10\n",
            "125/125 [==============================] - 22s 174ms/step - loss: 0.2647 - accuracy: 0.8869 - val_loss: 0.6414 - val_accuracy: 0.7492\n",
            "Epoch 8/10\n",
            "125/125 [==============================] - 22s 175ms/step - loss: 0.2281 - accuracy: 0.9064 - val_loss: 0.6765 - val_accuracy: 0.7193\n",
            "Epoch 9/10\n",
            "125/125 [==============================] - 22s 175ms/step - loss: 0.1944 - accuracy: 0.9224 - val_loss: 0.8222 - val_accuracy: 0.7352\n",
            "Epoch 10/10\n",
            "125/125 [==============================] - 22s 175ms/step - loss: 0.1643 - accuracy: 0.9344 - val_loss: 0.8062 - val_accuracy: 0.7315\n"
          ],
          "name": "stdout"
        }
      ]
    },
    {
      "cell_type": "code",
      "metadata": {
        "colab": {
          "base_uri": "https://localhost:8080/",
          "height": 85
        },
        "id": "UdEAAvXTCV-n",
        "outputId": "722f0b65-1eff-41b6-ce3c-41ff30d9b4cd"
      },
      "source": [
        "accr1 = model2.evaluate(test_sequences_matrix,Y_test)\n",
        "print('Test set\\n  Loss: {:0.3f}\\n  Accuracy: {:0.3f}'.format(accr1[0],accr1[1]))"
      ],
      "execution_count": null,
      "outputs": [
        {
          "output_type": "stream",
          "text": [
            "125/125 [==============================] - 2s 19ms/step - loss: 0.8256 - accuracy: 0.7215\n",
            "Test set\n",
            "  Loss: 0.826\n",
            "  Accuracy: 0.721\n"
          ],
          "name": "stdout"
        }
      ]
    },
    {
      "cell_type": "code",
      "metadata": {
        "id": "vDs8hMtCDLIk"
      },
      "source": [
        "def BiDir3():\n",
        "  inp = Input(shape=[max_len])\n",
        "  x = Embedding(max_words,50,input_length=max_len)(inp)\n",
        "  x = Bidirectional(LSTM(256, return_sequences=True, dropout=0.2, recurrent_dropout=0))(x)\n",
        "  x = Bidirectional(LSTM(256, return_sequences=True, dropout=0.2, recurrent_dropout=0))(x)\n",
        "  x = Dense(256, activation=\"relu\")(x)\n",
        "  x = Dropout(0.2)(x)\n",
        "  x = Bidirectional(LSTM(256, return_sequences=True, dropout=0.2, recurrent_dropout=0))(x)\n",
        "  x = Bidirectional(LSTM(256, return_sequences=True, dropout=0.2, recurrent_dropout=0))(x)\n",
        "  x = Dense(256, activation=\"relu\")(x)\n",
        "  x = Dropout(0.2)(x)\n",
        "  x = Dense(1, activation=\"sigmoid\")(x)\n",
        "  model = Model(inputs=inp, outputs=x)\n",
        "  return model"
      ],
      "execution_count": null,
      "outputs": []
    },
    {
      "cell_type": "code",
      "metadata": {
        "colab": {
          "base_uri": "https://localhost:8080/",
          "height": 527
        },
        "id": "JWp7SgQVDnmH",
        "outputId": "6608dc8d-8adf-4f94-c0b1-ef6c9dfc3d29"
      },
      "source": [
        "model3 = BiDir3()\n",
        "model3.summary()\n",
        "model3.compile(loss='binary_crossentropy',optimizer=RMSprop(),metrics=['accuracy'])"
      ],
      "execution_count": null,
      "outputs": [
        {
          "output_type": "stream",
          "text": [
            "Model: \"functional_3\"\n",
            "_________________________________________________________________\n",
            "Layer (type)                 Output Shape              Param #   \n",
            "=================================================================\n",
            "input_3 (InputLayer)         [(None, 150)]             0         \n",
            "_________________________________________________________________\n",
            "embedding_2 (Embedding)      (None, 150, 50)           500000    \n",
            "_________________________________________________________________\n",
            "bidirectional_5 (Bidirection (None, 150, 512)          628736    \n",
            "_________________________________________________________________\n",
            "bidirectional_6 (Bidirection (None, 150, 512)          1574912   \n",
            "_________________________________________________________________\n",
            "dense_3 (Dense)              (None, 150, 256)          131328    \n",
            "_________________________________________________________________\n",
            "dropout_2 (Dropout)          (None, 150, 256)          0         \n",
            "_________________________________________________________________\n",
            "bidirectional_7 (Bidirection (None, 150, 512)          1050624   \n",
            "_________________________________________________________________\n",
            "bidirectional_8 (Bidirection (None, 150, 512)          1574912   \n",
            "_________________________________________________________________\n",
            "dense_4 (Dense)              (None, 150, 256)          131328    \n",
            "_________________________________________________________________\n",
            "dropout_3 (Dropout)          (None, 150, 256)          0         \n",
            "_________________________________________________________________\n",
            "dense_5 (Dense)              (None, 150, 1)            257       \n",
            "=================================================================\n",
            "Total params: 5,592,097\n",
            "Trainable params: 5,592,097\n",
            "Non-trainable params: 0\n",
            "_________________________________________________________________\n"
          ],
          "name": "stdout"
        }
      ]
    },
    {
      "cell_type": "code",
      "metadata": {
        "colab": {
          "base_uri": "https://localhost:8080/",
          "height": 374
        },
        "id": "fqy5YMP0DuIU",
        "outputId": "82984dce-dd2c-4f14-b9af-3e710979376d"
      },
      "source": [
        "model3.fit(sequences_matrix, Y_train, batch_size=128, epochs=10)"
      ],
      "execution_count": null,
      "outputs": [
        {
          "output_type": "stream",
          "text": [
            "Epoch 1/10\n",
            "125/125 [==============================] - 33s 265ms/step - loss: 0.6455 - accuracy: 0.6453\n",
            "Epoch 2/10\n",
            "125/125 [==============================] - 33s 266ms/step - loss: 0.5792 - accuracy: 0.7129\n",
            "Epoch 3/10\n",
            "125/125 [==============================] - 33s 261ms/step - loss: 0.5284 - accuracy: 0.7487\n",
            "Epoch 4/10\n",
            "125/125 [==============================] - 33s 263ms/step - loss: 0.4722 - accuracy: 0.7937\n",
            "Epoch 5/10\n",
            "125/125 [==============================] - 33s 262ms/step - loss: 0.4312 - accuracy: 0.8209\n",
            "Epoch 6/10\n",
            "125/125 [==============================] - 33s 262ms/step - loss: 0.3932 - accuracy: 0.8389\n",
            "Epoch 7/10\n",
            "125/125 [==============================] - 33s 262ms/step - loss: 0.3724 - accuracy: 0.8501\n",
            "Epoch 8/10\n",
            "125/125 [==============================] - 33s 262ms/step - loss: 0.3402 - accuracy: 0.8638\n",
            "Epoch 9/10\n",
            "125/125 [==============================] - 33s 262ms/step - loss: 0.3133 - accuracy: 0.8773\n",
            "Epoch 10/10\n",
            "125/125 [==============================] - 33s 262ms/step - loss: 0.2874 - accuracy: 0.8878\n"
          ],
          "name": "stdout"
        },
        {
          "output_type": "execute_result",
          "data": {
            "text/plain": [
              "<tensorflow.python.keras.callbacks.History at 0x7fd49a936be0>"
            ]
          },
          "metadata": {
            "tags": []
          },
          "execution_count": 20
        }
      ]
    },
    {
      "cell_type": "code",
      "metadata": {
        "colab": {
          "base_uri": "https://localhost:8080/",
          "height": 85
        },
        "id": "2lmNb0hcEEok",
        "outputId": "3e750a11-c47c-45f4-e818-0a793860a1c7"
      },
      "source": [
        "accr1 = model3.evaluate(test_sequences_matrix,Y_test)\n",
        "print('Test set\\n  Loss: {:0.3f}\\n  Accuracy: {:0.3f}'.format(accr1[0],accr1[1]))"
      ],
      "execution_count": null,
      "outputs": [
        {
          "output_type": "stream",
          "text": [
            "125/125 [==============================] - 5s 39ms/step - loss: 0.6087 - accuracy: 0.7526\n",
            "Test set\n",
            "  Loss: 0.609\n",
            "  Accuracy: 0.753\n"
          ],
          "name": "stdout"
        }
      ]
    },
    {
      "cell_type": "code",
      "metadata": {
        "id": "v81TlRw3FkSz"
      },
      "source": [
        "def BiDir4():\n",
        "  inp = Input(shape=[max_len])\n",
        "  x = Embedding(max_words,50,input_length=max_len)(inp)\n",
        "  \n",
        "  x = Bidirectional(LSTM(256, return_sequences=True, dropout=0.2, recurrent_dropout=0))(x)\n",
        "  x = Bidirectional(LSTM(256, return_sequences=True, dropout=0.2, recurrent_dropout=0))(x)\n",
        "  x = Dense(256, activation=\"relu\")(x)\n",
        "  x = Dropout(0.2)(x)\n",
        "  \n",
        "  x = Bidirectional(LSTM(256, return_sequences=True, dropout=0.2, recurrent_dropout=0))(x)\n",
        "  x = Bidirectional(LSTM(256, return_sequences=True, dropout=0.2, recurrent_dropout=0))(x)\n",
        "  x = Dense(256, activation=\"relu\")(x)\n",
        "  x = Dropout(0.2)(x)\n",
        "  \n",
        "  x = Bidirectional(LSTM(256, return_sequences=True, dropout=0.2, recurrent_dropout=0))(x)\n",
        "  x = Bidirectional(LSTM(256, return_sequences=True, dropout=0.2, recurrent_dropout=0))(x)\n",
        "  x = Dense(256, activation=\"relu\")(x)\n",
        "  x = Dropout(0.2)(x)\n",
        "\n",
        "  \n",
        "  x = Dense(1, activation=\"sigmoid\")(x)\n",
        "  model = Model(inputs=inp, outputs=x)\n",
        "  return model"
      ],
      "execution_count": null,
      "outputs": []
    },
    {
      "cell_type": "code",
      "metadata": {
        "colab": {
          "base_uri": "https://localhost:8080/",
          "height": 663
        },
        "id": "f4SGd89-GGS1",
        "outputId": "418faaf6-bb9f-4aef-e8af-64ce567981b8"
      },
      "source": [
        "model4 = BiDir4()\n",
        "model4.summary()\n",
        "model4.compile(loss='binary_crossentropy',optimizer=RMSprop(),metrics=['accuracy'])"
      ],
      "execution_count": null,
      "outputs": [
        {
          "output_type": "stream",
          "text": [
            "Model: \"functional_5\"\n",
            "_________________________________________________________________\n",
            "Layer (type)                 Output Shape              Param #   \n",
            "=================================================================\n",
            "input_6 (InputLayer)         [(None, 150)]             0         \n",
            "_________________________________________________________________\n",
            "embedding_5 (Embedding)      (None, 150, 50)           500000    \n",
            "_________________________________________________________________\n",
            "bidirectional_15 (Bidirectio (None, 150, 512)          628736    \n",
            "_________________________________________________________________\n",
            "bidirectional_16 (Bidirectio (None, 150, 512)          1574912   \n",
            "_________________________________________________________________\n",
            "dense_8 (Dense)              (None, 150, 256)          131328    \n",
            "_________________________________________________________________\n",
            "dropout_6 (Dropout)          (None, 150, 256)          0         \n",
            "_________________________________________________________________\n",
            "bidirectional_17 (Bidirectio (None, 150, 512)          1050624   \n",
            "_________________________________________________________________\n",
            "bidirectional_18 (Bidirectio (None, 150, 512)          1574912   \n",
            "_________________________________________________________________\n",
            "dense_9 (Dense)              (None, 150, 256)          131328    \n",
            "_________________________________________________________________\n",
            "dropout_7 (Dropout)          (None, 150, 256)          0         \n",
            "_________________________________________________________________\n",
            "bidirectional_19 (Bidirectio (None, 150, 512)          1050624   \n",
            "_________________________________________________________________\n",
            "bidirectional_20 (Bidirectio (None, 150, 512)          1574912   \n",
            "_________________________________________________________________\n",
            "dense_10 (Dense)             (None, 150, 256)          131328    \n",
            "_________________________________________________________________\n",
            "dropout_8 (Dropout)          (None, 150, 256)          0         \n",
            "_________________________________________________________________\n",
            "dense_11 (Dense)             (None, 150, 1)            257       \n",
            "=================================================================\n",
            "Total params: 8,348,961\n",
            "Trainable params: 8,348,961\n",
            "Non-trainable params: 0\n",
            "_________________________________________________________________\n"
          ],
          "name": "stdout"
        }
      ]
    },
    {
      "cell_type": "code",
      "metadata": {
        "colab": {
          "base_uri": "https://localhost:8080/",
          "height": 374
        },
        "id": "49RAdh49GL4m",
        "outputId": "c5e11f9d-2d6c-4582-e50e-af0b5867b676"
      },
      "source": [
        "model4.fit(sequences_matrix, Y_train, batch_size=128, epochs=10)"
      ],
      "execution_count": null,
      "outputs": [
        {
          "output_type": "stream",
          "text": [
            "Epoch 1/10\n",
            "125/125 [==============================] - 50s 403ms/step - loss: 0.6837 - accuracy: 0.6108\n",
            "Epoch 2/10\n",
            "125/125 [==============================] - 50s 402ms/step - loss: 0.6668 - accuracy: 0.5651\n",
            "Epoch 3/10\n",
            "125/125 [==============================] - 50s 402ms/step - loss: 0.6928 - accuracy: 0.5012\n",
            "Epoch 4/10\n",
            "125/125 [==============================] - 50s 402ms/step - loss: 0.6936 - accuracy: 0.5000\n",
            "Epoch 5/10\n",
            "125/125 [==============================] - 50s 402ms/step - loss: 0.6943 - accuracy: 0.4978\n",
            "Epoch 6/10\n",
            "125/125 [==============================] - 50s 402ms/step - loss: 0.6320 - accuracy: 0.6565\n",
            "Epoch 7/10\n",
            "125/125 [==============================] - 50s 402ms/step - loss: 0.5915 - accuracy: 0.6712\n",
            "Epoch 8/10\n",
            "125/125 [==============================] - 50s 402ms/step - loss: 0.5474 - accuracy: 0.7484\n",
            "Epoch 9/10\n",
            "125/125 [==============================] - 50s 402ms/step - loss: 0.5604 - accuracy: 0.7255\n",
            "Epoch 10/10\n",
            "125/125 [==============================] - 50s 402ms/step - loss: 0.5407 - accuracy: 0.7486\n"
          ],
          "name": "stdout"
        },
        {
          "output_type": "execute_result",
          "data": {
            "text/plain": [
              "<tensorflow.python.keras.callbacks.History at 0x7fd3687e27f0>"
            ]
          },
          "metadata": {
            "tags": []
          },
          "execution_count": 28
        }
      ]
    },
    {
      "cell_type": "code",
      "metadata": {
        "colab": {
          "base_uri": "https://localhost:8080/",
          "height": 85
        },
        "id": "W_uqTMqxG7I8",
        "outputId": "a1cc20ef-a65a-4631-df2c-c340ef338cfd"
      },
      "source": [
        "accr1 = model4.evaluate(test_sequences_matrix,Y_test)\n",
        "print('Test set\\n  Loss: {:0.3f}\\n  Accuracy: {:0.3f}'.format(accr1[0],accr1[1]))"
      ],
      "execution_count": null,
      "outputs": [
        {
          "output_type": "stream",
          "text": [
            "125/125 [==============================] - 8s 62ms/step - loss: 0.6247 - accuracy: 0.6812\n",
            "Test set\n",
            "  Loss: 0.625\n",
            "  Accuracy: 0.681\n"
          ],
          "name": "stdout"
        }
      ]
    },
    {
      "cell_type": "code",
      "metadata": {
        "id": "yUCq-YtwI6vY"
      },
      "source": [
        "def BiDir5():\n",
        "  inp = Input(shape=[max_len])\n",
        "  x = Embedding(max_words,50,input_length=max_len)(inp)\n",
        "  \n",
        "  x = Bidirectional(LSTM(256, return_sequences=True, dropout=0.2, recurrent_dropout=0))(x)\n",
        "  x = Dense(256, activation=\"relu\")(x)\n",
        "  x = Dropout(0.2)(x)\n",
        "  \n",
        "  x = Bidirectional(LSTM(256, return_sequences=True, dropout=0.2, recurrent_dropout=0))(x)\n",
        "  x = Dense(256, activation=\"relu\")(x)\n",
        "  x = Dropout(0.2)(x)\n",
        "  \n",
        "  x = Bidirectional(LSTM(256, return_sequences=True, dropout=0.2, recurrent_dropout=0))(x)\n",
        "  x = Dense(256, activation=\"relu\")(x)\n",
        "  x = Dropout(0.2)(x)\n",
        "\n",
        "  \n",
        "  x = Dense(1, activation=\"sigmoid\")(x)\n",
        "  model = Model(inputs=inp, outputs=x)\n",
        "  return model"
      ],
      "execution_count": null,
      "outputs": []
    },
    {
      "cell_type": "code",
      "metadata": {
        "colab": {
          "base_uri": "https://localhost:8080/",
          "height": 561
        },
        "id": "nQ0BSHMnJG-7",
        "outputId": "9ed31fa2-6fdb-4555-8ac4-e4515b74e676"
      },
      "source": [
        "model5 = BiDir5()\n",
        "model5.summary()\n",
        "model5.compile(loss='binary_crossentropy',optimizer=RMSprop(),metrics=['accuracy'])"
      ],
      "execution_count": null,
      "outputs": [
        {
          "output_type": "stream",
          "text": [
            "Model: \"functional_7\"\n",
            "_________________________________________________________________\n",
            "Layer (type)                 Output Shape              Param #   \n",
            "=================================================================\n",
            "input_7 (InputLayer)         [(None, 150)]             0         \n",
            "_________________________________________________________________\n",
            "embedding_6 (Embedding)      (None, 150, 50)           500000    \n",
            "_________________________________________________________________\n",
            "bidirectional_21 (Bidirectio (None, 150, 512)          628736    \n",
            "_________________________________________________________________\n",
            "dense_12 (Dense)             (None, 150, 256)          131328    \n",
            "_________________________________________________________________\n",
            "dropout_9 (Dropout)          (None, 150, 256)          0         \n",
            "_________________________________________________________________\n",
            "bidirectional_22 (Bidirectio (None, 150, 512)          1050624   \n",
            "_________________________________________________________________\n",
            "dense_13 (Dense)             (None, 150, 256)          131328    \n",
            "_________________________________________________________________\n",
            "dropout_10 (Dropout)         (None, 150, 256)          0         \n",
            "_________________________________________________________________\n",
            "bidirectional_23 (Bidirectio (None, 150, 512)          1050624   \n",
            "_________________________________________________________________\n",
            "dense_14 (Dense)             (None, 150, 256)          131328    \n",
            "_________________________________________________________________\n",
            "dropout_11 (Dropout)         (None, 150, 256)          0         \n",
            "_________________________________________________________________\n",
            "dense_15 (Dense)             (None, 150, 1)            257       \n",
            "=================================================================\n",
            "Total params: 3,624,225\n",
            "Trainable params: 3,624,225\n",
            "Non-trainable params: 0\n",
            "_________________________________________________________________\n"
          ],
          "name": "stdout"
        }
      ]
    },
    {
      "cell_type": "code",
      "metadata": {
        "colab": {
          "base_uri": "https://localhost:8080/",
          "height": 374
        },
        "id": "c7oE50GUJMX7",
        "outputId": "2432f432-2cbc-4ae9-fd87-44f2609269e0"
      },
      "source": [
        "model5.fit(sequences_matrix, Y_train, batch_size=128, epochs=10)"
      ],
      "execution_count": null,
      "outputs": [
        {
          "output_type": "stream",
          "text": [
            "Epoch 1/10\n",
            "125/125 [==============================] - 22s 175ms/step - loss: 0.6848 - accuracy: 0.5910\n",
            "Epoch 2/10\n",
            "125/125 [==============================] - 23s 180ms/step - loss: 0.5570 - accuracy: 0.7344\n",
            "Epoch 3/10\n",
            "125/125 [==============================] - 22s 178ms/step - loss: 0.5385 - accuracy: 0.7544\n",
            "Epoch 4/10\n",
            "125/125 [==============================] - 22s 176ms/step - loss: 0.4702 - accuracy: 0.7904\n",
            "Epoch 5/10\n",
            "125/125 [==============================] - 22s 176ms/step - loss: 0.4336 - accuracy: 0.8209\n",
            "Epoch 6/10\n",
            "125/125 [==============================] - 22s 176ms/step - loss: 0.4302 - accuracy: 0.8173\n",
            "Epoch 7/10\n",
            "125/125 [==============================] - 22s 175ms/step - loss: 0.3841 - accuracy: 0.8459\n",
            "Epoch 8/10\n",
            "125/125 [==============================] - 22s 176ms/step - loss: 0.3798 - accuracy: 0.8547\n",
            "Epoch 9/10\n",
            "125/125 [==============================] - 22s 177ms/step - loss: 0.3373 - accuracy: 0.8709\n",
            "Epoch 10/10\n",
            "125/125 [==============================] - 22s 177ms/step - loss: 0.3235 - accuracy: 0.8794\n"
          ],
          "name": "stdout"
        },
        {
          "output_type": "execute_result",
          "data": {
            "text/plain": [
              "<tensorflow.python.keras.callbacks.History at 0x7fd36463d668>"
            ]
          },
          "metadata": {
            "tags": []
          },
          "execution_count": 32
        }
      ]
    },
    {
      "cell_type": "code",
      "metadata": {
        "colab": {
          "base_uri": "https://localhost:8080/",
          "height": 85
        },
        "id": "vgpsQDmDJRxP",
        "outputId": "9f47fccb-16aa-40ae-8c36-b08f14e1979b"
      },
      "source": [
        "accr1 = model5.evaluate(test_sequences_matrix,Y_test)\n",
        "print('Test set\\n  Loss: {:0.3f}\\n  Accuracy: {:0.3f}'.format(accr1[0],accr1[1]))"
      ],
      "execution_count": null,
      "outputs": [
        {
          "output_type": "stream",
          "text": [
            "125/125 [==============================] - 3s 27ms/step - loss: 0.6177 - accuracy: 0.7483\n",
            "Test set\n",
            "  Loss: 0.618\n",
            "  Accuracy: 0.748\n"
          ],
          "name": "stdout"
        }
      ]
    },
    {
      "cell_type": "code",
      "metadata": {
        "id": "7j2BicXJU4Ol"
      },
      "source": [
        ""
      ],
      "execution_count": null,
      "outputs": []
    }
  ]
}
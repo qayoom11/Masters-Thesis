{
  "nbformat": 4,
  "nbformat_minor": 0,
  "metadata": {
    "colab": {
      "name": "Pos_Tagging.ipynb",
      "provenance": [],
      "collapsed_sections": []
    },
    "kernelspec": {
      "name": "python3",
      "display_name": "Python 3"
    },
    "accelerator": "GPU"
  },
  "cells": [
    {
      "cell_type": "code",
      "metadata": {
        "id": "fqiEdpbUxzrx"
      },
      "source": [
        "import gensim \n",
        "from gensim.models import Word2Vec\n",
        "import pandas as pd\n",
        "import numpy as np\n",
        "import matplotlib.pyplot as plt\n",
        "import seaborn as sns\n",
        "from sklearn.model_selection import train_test_split\n",
        "from sklearn.preprocessing import LabelEncoder\n",
        "from keras.models import Model, Sequential\n",
        "from keras.layers import LSTM, Activation, Dense, Dropout, Input, Embedding,Bidirectional, TimeDistributed,GlobalMaxPool1D,Masking\n",
        "from keras.optimizers import RMSprop\n",
        "from keras.preprocessing.text import Tokenizer\n",
        "from keras.preprocessing import sequence\n",
        "from keras.utils import to_categorical\n",
        "from keras.callbacks import EarlyStopping\n",
        "import json\n",
        "from sklearn.model_selection import KFold\n",
        "from keras.regularizers import l1,l2\n",
        "from keras import regularizers\n",
        "%matplotlib inline"
      ],
      "execution_count": null,
      "outputs": []
    },
    {
      "cell_type": "code",
      "metadata": {
        "id": "4drgY8XEyDph",
        "colab": {
          "base_uri": "https://localhost:8080/"
        },
        "outputId": "b52fbc26-6e12-4e4b-aa88-a9ff35bd1097"
      },
      "source": [
        "from google.colab import drive\n",
        "drive.mount('/content/drive')"
      ],
      "execution_count": null,
      "outputs": [
        {
          "output_type": "stream",
          "text": [
            "Mounted at /content/drive\n"
          ],
          "name": "stdout"
        }
      ]
    },
    {
      "cell_type": "code",
      "metadata": {
        "id": "N3mbeiTuyHLh"
      },
      "source": [
        "with open('/content/drive/My Drive/max-labels-intense-selection.json', 'r', encoding='utf-8') as file:\n",
        "    data = json.load(file)"
      ],
      "execution_count": null,
      "outputs": []
    },
    {
      "cell_type": "code",
      "metadata": {
        "id": "xTEFc1g165Dz",
        "colab": {
          "base_uri": "https://localhost:8080/"
        },
        "outputId": "8f0949c7-b6d5-4f9f-8e8a-7a1880ec4b9c"
      },
      "source": [
        "import nltk\n",
        "nltk.download('averaged_perceptron_tagger')"
      ],
      "execution_count": null,
      "outputs": [
        {
          "output_type": "stream",
          "text": [
            "[nltk_data] Downloading package averaged_perceptron_tagger to\n",
            "[nltk_data]     /root/nltk_data...\n",
            "[nltk_data]   Unzipping taggers/averaged_perceptron_tagger.zip.\n"
          ],
          "name": "stdout"
        },
        {
          "output_type": "execute_result",
          "data": {
            "text/plain": [
              "True"
            ]
          },
          "metadata": {
            "tags": []
          },
          "execution_count": 6
        }
      ]
    },
    {
      "cell_type": "code",
      "metadata": {
        "id": "hH9ftBDo6qiD"
      },
      "source": [
        "docs = [x[0] + ' '.join([j[1] for j in nltk.pos_tag(x[0].split())]) for x in data]"
      ],
      "execution_count": null,
      "outputs": []
    },
    {
      "cell_type": "code",
      "metadata": {
        "id": "0ylerG18ioOq"
      },
      "source": [
        "f = open(\"doc3.txt\", \"w\")\n",
        "f.write(str(docs))\n",
        "f.close()"
      ],
      "execution_count": null,
      "outputs": []
    },
    {
      "cell_type": "code",
      "metadata": {
        "id": "j5yiAOmH7vbN",
        "colab": {
          "base_uri": "https://localhost:8080/",
          "height": 35
        },
        "outputId": "7fe2bce2-1467-4f6c-ff2c-0ff05414887b"
      },
      "source": [
        "docs[0]"
      ],
      "execution_count": null,
      "outputs": [
        {
          "output_type": "execute_result",
          "data": {
            "application/vnd.google.colaboratory.intrinsic+json": {
              "type": "string"
            },
            "text/plain": [
              "'I caught Quinn roll his eyes.PRP VBD NNP VB PRP$ NN'"
            ]
          },
          "metadata": {
            "tags": []
          },
          "execution_count": 12
        }
      ]
    },
    {
      "cell_type": "code",
      "metadata": {
        "id": "Q6-5UiE7yV73",
        "colab": {
          "base_uri": "https://localhost:8080/",
          "height": 197
        },
        "outputId": "3fcc302e-1e8f-4750-ea54-9c783362fb36"
      },
      "source": [
        "X = ([x[0] for x in data])\n",
        "\n",
        "y = np.array([x[1] for x in data])"
      ],
      "execution_count": null,
      "outputs": [
        {
          "output_type": "error",
          "ename": "NameError",
          "evalue": "ignored",
          "traceback": [
            "\u001b[0;31m---------------------------------------------------------------------------\u001b[0m",
            "\u001b[0;31mNameError\u001b[0m                                 Traceback (most recent call last)",
            "\u001b[0;32m<ipython-input-1-4387a4541074>\u001b[0m in \u001b[0;36m<module>\u001b[0;34m()\u001b[0m\n\u001b[0;32m----> 1\u001b[0;31m \u001b[0mX\u001b[0m \u001b[0;34m=\u001b[0m \u001b[0;34m(\u001b[0m\u001b[0;34m[\u001b[0m\u001b[0mx\u001b[0m\u001b[0;34m[\u001b[0m\u001b[0;36m0\u001b[0m\u001b[0;34m]\u001b[0m \u001b[0;32mfor\u001b[0m \u001b[0mx\u001b[0m \u001b[0;32min\u001b[0m \u001b[0mdata\u001b[0m\u001b[0;34m]\u001b[0m\u001b[0;34m)\u001b[0m\u001b[0;34m\u001b[0m\u001b[0;34m\u001b[0m\u001b[0m\n\u001b[0m\u001b[1;32m      2\u001b[0m \u001b[0;34m\u001b[0m\u001b[0m\n\u001b[1;32m      3\u001b[0m \u001b[0my\u001b[0m \u001b[0;34m=\u001b[0m \u001b[0mnp\u001b[0m\u001b[0;34m.\u001b[0m\u001b[0marray\u001b[0m\u001b[0;34m(\u001b[0m\u001b[0;34m[\u001b[0m\u001b[0mx\u001b[0m\u001b[0;34m[\u001b[0m\u001b[0;36m1\u001b[0m\u001b[0;34m]\u001b[0m \u001b[0;32mfor\u001b[0m \u001b[0mx\u001b[0m \u001b[0;32min\u001b[0m \u001b[0mdata\u001b[0m\u001b[0;34m]\u001b[0m\u001b[0;34m)\u001b[0m\u001b[0;34m\u001b[0m\u001b[0;34m\u001b[0m\u001b[0m\n",
            "\u001b[0;31mNameError\u001b[0m: name 'data' is not defined"
          ]
        }
      ]
    },
    {
      "cell_type": "code",
      "metadata": {
        "id": "cTlyVyzSycjO"
      },
      "source": [
        "le = LabelEncoder()\n",
        "Y = le.fit_transform(y)"
      ],
      "execution_count": null,
      "outputs": []
    },
    {
      "cell_type": "code",
      "metadata": {
        "id": "ngU-5c5BygCS"
      },
      "source": [
        "import string\n",
        "from nltk.tokenize import word_tokenize\n",
        "from nltk.corpus import stopwords"
      ],
      "execution_count": null,
      "outputs": []
    },
    {
      "cell_type": "code",
      "metadata": {
        "id": "u8FtvJ8VTwuf",
        "colab": {
          "base_uri": "https://localhost:8080/",
          "height": 51
        },
        "outputId": "f41458fb-b855-4e5a-d0b1-114c57f4b7cf"
      },
      "source": [
        "nltk.download('stopwords')\n",
        "sentence_lines = list()\n",
        "for line in X:\n",
        "  token = word_tokenize(line)\n",
        "  token = [w.lower() for w in token]\n",
        "  table = str.maketrans('','',string.punctuation)\n",
        "  striped = [w.translate(table) for w in token]\n",
        "  words = [word for word in striped if word.isalpha()]\n",
        "  stop_words = set(stopwords.words('english'))\n",
        "  words = [w for w in words if not w in stop_words]\n",
        "  sentence_lines.append(words)"
      ],
      "execution_count": null,
      "outputs": [
        {
          "output_type": "stream",
          "text": [
            "[nltk_data] Downloading package stopwords to /root/nltk_data...\n",
            "[nltk_data]   Unzipping corpora/stopwords.zip.\n"
          ],
          "name": "stdout"
        }
      ]
    },
    {
      "cell_type": "code",
      "metadata": {
        "id": "LmT1tT8JWRlY",
        "colab": {
          "base_uri": "https://localhost:8080/",
          "height": 34
        },
        "outputId": "6488c432-f2cb-433b-af14-55d995053267"
      },
      "source": [
        "len(sentence_lines)"
      ],
      "execution_count": null,
      "outputs": [
        {
          "output_type": "execute_result",
          "data": {
            "text/plain": [
              "20000"
            ]
          },
          "metadata": {
            "tags": []
          },
          "execution_count": 28
        }
      ]
    },
    {
      "cell_type": "code",
      "metadata": {
        "id": "Ol_5pKXl2EgX"
      },
      "source": [
        "model1 = gensim.models.Word2Vec(sentences=sentence_lines, size=100, min_count=1, window=5, iter=100)"
      ],
      "execution_count": null,
      "outputs": []
    },
    {
      "cell_type": "code",
      "metadata": {
        "id": "N9rPgp8QGnK3",
        "colab": {
          "base_uri": "https://localhost:8080/",
          "height": 34
        },
        "outputId": "1ea5bbb6-f014-4998-faea-912369739c84"
      },
      "source": [
        "len_words = list(model1.wv.vocab)\n",
        "print(len(len_words))"
      ],
      "execution_count": null,
      "outputs": [
        {
          "output_type": "stream",
          "text": [
            "27656\n"
          ],
          "name": "stdout"
        }
      ]
    },
    {
      "cell_type": "code",
      "metadata": {
        "id": "Az588a4U5rh0",
        "colab": {
          "base_uri": "https://localhost:8080/",
          "height": 71
        },
        "outputId": "5f3e31f0-20b7-403b-bcc0-6bd524493d4b"
      },
      "source": [
        "model1.save('model1.model')\n",
        "model1.save(\"model1.bin\")"
      ],
      "execution_count": null,
      "outputs": [
        {
          "output_type": "stream",
          "text": [
            "/usr/local/lib/python3.6/dist-packages/smart_open/smart_open_lib.py:252: UserWarning: This function is deprecated, use smart_open.open instead. See the migration notes for details: https://github.com/RaRe-Technologies/smart_open/blob/master/README.rst#migrating-to-the-new-open-function\n",
            "  'See the migration notes for details: %s' % _MIGRATION_NOTES_URL\n"
          ],
          "name": "stderr"
        }
      ]
    },
    {
      "cell_type": "code",
      "metadata": {
        "id": "NUUgeKLPSMTv",
        "colab": {
          "base_uri": "https://localhost:8080/",
          "height": 71
        },
        "outputId": "b2627ce3-2e22-47f8-e43d-ab88253bc05c"
      },
      "source": [
        "file = 'train_model.txt'\n",
        "model1.wv.save_word2vec_format(file,binary=False)"
      ],
      "execution_count": null,
      "outputs": [
        {
          "output_type": "stream",
          "text": [
            "/usr/local/lib/python3.6/dist-packages/smart_open/smart_open_lib.py:252: UserWarning: This function is deprecated, use smart_open.open instead. See the migration notes for details: https://github.com/RaRe-Technologies/smart_open/blob/master/README.rst#migrating-to-the-new-open-function\n",
            "  'See the migration notes for details: %s' % _MIGRATION_NOTES_URL\n"
          ],
          "name": "stderr"
        }
      ]
    },
    {
      "cell_type": "code",
      "metadata": {
        "id": "NRqziN99W7J1",
        "colab": {
          "base_uri": "https://localhost:8080/",
          "height": 241
        },
        "outputId": "5266e5a0-9c01-4045-dfc5-2eba08ad790a"
      },
      "source": [
        "model1.wv.most_similar('good')"
      ],
      "execution_count": null,
      "outputs": [
        {
          "output_type": "stream",
          "text": [
            "/usr/local/lib/python3.6/dist-packages/gensim/matutils.py:737: FutureWarning: Conversion of the second argument of issubdtype from `int` to `np.signedinteger` is deprecated. In future, it will be treated as `np.int64 == np.dtype(int).type`.\n",
            "  if np.issubdtype(vec.dtype, np.int):\n"
          ],
          "name": "stderr"
        },
        {
          "output_type": "execute_result",
          "data": {
            "text/plain": [
              "[('healer', 0.42116662859916687),\n",
              " ('roofed', 0.4152277112007141),\n",
              " ('cutter', 0.4065130054950714),\n",
              " ('excellent', 0.40426725149154663),\n",
              " ('gymnastics', 0.4030221104621887),\n",
              " ('edifices', 0.3968561887741089),\n",
              " ('breakers', 0.39475059509277344),\n",
              " ('worth', 0.3926602602005005),\n",
              " ('gulfport', 0.3923709988594055),\n",
              " ('commodious', 0.3915606737136841)]"
            ]
          },
          "metadata": {
            "tags": []
          },
          "execution_count": 36
        }
      ]
    },
    {
      "cell_type": "code",
      "metadata": {
        "id": "2zfowVt3SVXR"
      },
      "source": [
        "file = 'train_model.txt'\n",
        "f=open(file,encoding='utf-8')"
      ],
      "execution_count": null,
      "outputs": []
    },
    {
      "cell_type": "code",
      "metadata": {
        "id": "C2E8HjmzSify"
      },
      "source": [
        "embedding_index={}\n",
        "for line in f:\n",
        "  values = line.split()\n",
        "  word = values[0]\n",
        "  coefs = np.asarray(values[1:])\n",
        "  embedding_index[word] = coefs"
      ],
      "execution_count": null,
      "outputs": []
    },
    {
      "cell_type": "code",
      "metadata": {
        "id": "wWB7zeq3S-UR"
      },
      "source": [
        "tokenize = Tokenizer()\n",
        "tokenize.fit_on_texts(sentence_lines)\n",
        "sequences = tokenize.texts_to_sequences(sentence_lines)"
      ],
      "execution_count": null,
      "outputs": []
    },
    {
      "cell_type": "code",
      "metadata": {
        "id": "BafAOEuRX-aM"
      },
      "source": [
        "word_index = tokenize.word_index"
      ],
      "execution_count": null,
      "outputs": []
    },
    {
      "cell_type": "code",
      "metadata": {
        "id": "9zDQRELiYDyw"
      },
      "source": [
        "sentence_pad = sequence.pad_sequences(sequences,maxlen=200)"
      ],
      "execution_count": null,
      "outputs": []
    },
    {
      "cell_type": "code",
      "metadata": {
        "id": "-4sVwlF5Yg0V",
        "colab": {
          "base_uri": "https://localhost:8080/",
          "height": 51
        },
        "outputId": "784e006f-0c58-42ff-c9ea-8af7126d8f87"
      },
      "source": [
        "print(sentence_pad.shape)\n",
        "print(y.shape)"
      ],
      "execution_count": null,
      "outputs": [
        {
          "output_type": "stream",
          "text": [
            "(20000, 200)\n",
            "(20000,)\n"
          ],
          "name": "stdout"
        }
      ]
    },
    {
      "cell_type": "code",
      "metadata": {
        "id": "Vtn-Hfzr8-pk"
      },
      "source": [
        "num_words = len(word_index)+1\n",
        "embedding_matrix = np.zeros((num_words,100))\n",
        "for word,i in word_index.items():\n",
        "  if i >num_words:\n",
        "    continue\n",
        "  embedding_vector = embedding_index.get(word)\n",
        "  if embedding_vector is not None:\n",
        "    embedding_matrix[i] = embedding_vector"
      ],
      "execution_count": null,
      "outputs": []
    },
    {
      "cell_type": "code",
      "metadata": {
        "id": "f5rfk1F0aYFR"
      },
      "source": [
        "from keras.initializers import Constant\n",
        "model = Sequential()\n",
        "embedding_layer = Embedding(num_words,100,embeddings_initializer=Constant(embedding_matrix),input_length=200,trainable=False)\n",
        "model.add(embedding_layer)\n",
        "model.add(Bidirectional(LSTM(256,kernel_regularizer=l2(0.01),recurrent_regularizer=l2(0.01), bias_regularizer=l2(0.01), return_sequences=True, dropout=0.25, recurrent_dropout=0)))\n",
        "model.add(Bidirectional(LSTM(256,kernel_regularizer=l2(0.01),recurrent_regularizer=l2(0.01), bias_regularizer=l2(0.01), return_sequences=True, dropout=0.25, recurrent_dropout=0)))\n",
        "model.add(GlobalMaxPool1D())\n",
        "model.add(Dense(256, activation=\"relu\"))\n",
        "model.add(Dropout(0.2))\n",
        "model.add(Dense(1, activation=\"sigmoid\"))\n",
        "model.compile(loss='binary_crossentropy',optimizer=RMSprop(),metrics=['accuracy'])"
      ],
      "execution_count": null,
      "outputs": []
    },
    {
      "cell_type": "code",
      "metadata": {
        "id": "ZsSyMWoXwBA3",
        "colab": {
          "base_uri": "https://localhost:8080/",
          "height": 391
        },
        "outputId": "10a1df3a-c946-4f42-ca9e-4f51314c0c70"
      },
      "source": [
        "model.summary()\n"
      ],
      "execution_count": null,
      "outputs": [
        {
          "output_type": "stream",
          "text": [
            "Model: \"sequential_1\"\n",
            "_________________________________________________________________\n",
            "Layer (type)                 Output Shape              Param #   \n",
            "=================================================================\n",
            "embedding_1 (Embedding)      (None, 200, 100)          2765700   \n",
            "_________________________________________________________________\n",
            "bidirectional (Bidirectional (None, 200, 512)          731136    \n",
            "_________________________________________________________________\n",
            "bidirectional_1 (Bidirection (None, 200, 512)          1574912   \n",
            "_________________________________________________________________\n",
            "global_max_pooling1d (Global (None, 512)               0         \n",
            "_________________________________________________________________\n",
            "dense (Dense)                (None, 256)               131328    \n",
            "_________________________________________________________________\n",
            "dropout (Dropout)            (None, 256)               0         \n",
            "_________________________________________________________________\n",
            "dense_1 (Dense)              (None, 1)                 257       \n",
            "=================================================================\n",
            "Total params: 5,203,333\n",
            "Trainable params: 2,437,633\n",
            "Non-trainable params: 2,765,700\n",
            "_________________________________________________________________\n"
          ],
          "name": "stdout"
        }
      ]
    },
    {
      "cell_type": "code",
      "metadata": {
        "id": "QHqxwKCzEonJ",
        "colab": {
          "base_uri": "https://localhost:8080/",
          "height": 411
        },
        "outputId": "0dd1f754-d694-476a-f10e-d42d30292633"
      },
      "source": [
        "model.fit(sentence_pad,y,validation_split=0.2,epochs=10,batch_size=128)"
      ],
      "execution_count": null,
      "outputs": [
        {
          "output_type": "stream",
          "text": [
            "Epoch 1/10\n",
            "  2/125 [..............................] - ETA: 11s - loss: 36.3143 - accuracy: 0.1680WARNING:tensorflow:Callbacks method `on_train_batch_end` is slow compared to the batch time (batch time: 0.0508s vs `on_train_batch_end` time: 0.1247s). Check your callbacks.\n",
            "125/125 [==============================] - 22s 179ms/step - loss: -78.8994 - accuracy: 0.0851 - val_loss: -171.7208 - val_accuracy: 0.0740\n",
            "Epoch 2/10\n",
            "125/125 [==============================] - 22s 173ms/step - loss: -309.3494 - accuracy: 0.0757 - val_loss: -519.8169 - val_accuracy: 0.0000e+00\n",
            "Epoch 3/10\n",
            "125/125 [==============================] - 22s 174ms/step - loss: -1128.4723 - accuracy: 0.1177 - val_loss: -1896.4828 - val_accuracy: 0.1293\n",
            "Epoch 4/10\n",
            "125/125 [==============================] - 22s 176ms/step - loss: -2847.2161 - accuracy: 0.1850 - val_loss: -3516.6003 - val_accuracy: 0.3203\n",
            "Epoch 5/10\n",
            "125/125 [==============================] - 22s 176ms/step - loss: -4088.0596 - accuracy: 0.1891 - val_loss: -5370.4951 - val_accuracy: 0.2072\n",
            "Epoch 6/10\n",
            "125/125 [==============================] - 22s 177ms/step - loss: -6340.8115 - accuracy: 0.1700 - val_loss: -7834.7095 - val_accuracy: 0.3370\n",
            "Epoch 7/10\n",
            "125/125 [==============================] - 22s 178ms/step - loss: -10013.3916 - accuracy: 0.1931 - val_loss: -10786.2109 - val_accuracy: 0.0015\n",
            "Epoch 8/10\n",
            "125/125 [==============================] - 22s 179ms/step - loss: -13300.0732 - accuracy: 0.1898 - val_loss: -13428.3340 - val_accuracy: 0.2738\n",
            "Epoch 9/10\n",
            "125/125 [==============================] - 22s 180ms/step - loss: -17297.2148 - accuracy: 0.2026 - val_loss: -17883.4707 - val_accuracy: 0.2055\n",
            "Epoch 10/10\n",
            "125/125 [==============================] - 22s 180ms/step - loss: -21966.6367 - accuracy: 0.2044 - val_loss: -22177.9258 - val_accuracy: 0.1605\n"
          ],
          "name": "stdout"
        },
        {
          "output_type": "execute_result",
          "data": {
            "text/plain": [
              "<tensorflow.python.keras.callbacks.History at 0x7fe19d76fb00>"
            ]
          },
          "metadata": {
            "tags": []
          },
          "execution_count": 54
        }
      ]
    },
    {
      "cell_type": "code",
      "metadata": {
        "id": "WJEPzP_SeJi8"
      },
      "source": [
        ""
      ],
      "execution_count": null,
      "outputs": []
    }
  ]
}
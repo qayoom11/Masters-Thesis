{
  "nbformat": 4,
  "nbformat_minor": 0,
  "metadata": {
    "colab": {
      "name": "LSTM.ipynb",
      "provenance": [],
      "collapsed_sections": []
    },
    "kernelspec": {
      "name": "python3",
      "display_name": "Python 3"
    },
    "accelerator": "GPU"
  },
  "cells": [
    {
      "cell_type": "code",
      "metadata": {
        "id": "8Cbe7EnTk96l"
      },
      "source": [
        "import pandas as pd\n",
        "import numpy as np\n",
        "import matplotlib.pyplot as plt\n",
        "import seaborn as sns\n",
        "from sklearn.model_selection import train_test_split\n",
        "from sklearn.preprocessing import LabelEncoder\n",
        "from keras.models import Model, Sequential\n",
        "from keras.layers import LSTM, Activation, Dense, Dropout, Input, Embedding,Bidirectional, TimeDistributed,GlobalMaxPool1D,Masking\n",
        "from keras.optimizers import RMSprop\n",
        "from keras.preprocessing.text import Tokenizer\n",
        "from keras.preprocessing import sequence\n",
        "from keras.utils import to_categorical\n",
        "from keras.callbacks import EarlyStopping\n",
        "import json\n",
        "from sklearn.model_selection import KFold\n",
        "from keras.regularizers import l1,l2\n",
        "from keras import regularizers\n",
        "%matplotlib inline"
      ],
      "execution_count": null,
      "outputs": []
    },
    {
      "cell_type": "code",
      "metadata": {
        "id": "ay-aWL3ok_HZ",
        "colab": {
          "base_uri": "https://localhost:8080/",
          "height": 34
        },
        "outputId": "83bb714a-a0c8-49ab-f7af-70e27d1f2d6b"
      },
      "source": [
        "from google.colab import drive\n",
        "drive.mount('/content/drive')"
      ],
      "execution_count": null,
      "outputs": [
        {
          "output_type": "stream",
          "text": [
            "Mounted at /content/drive\n"
          ],
          "name": "stdout"
        }
      ]
    },
    {
      "cell_type": "code",
      "metadata": {
        "id": "k7SYfQGilNao"
      },
      "source": [
        "with open('/content/drive/My Drive/max-labels-intense-selection.json', 'r', encoding='utf-8') as file:\n",
        "    data = json.load(file)"
      ],
      "execution_count": null,
      "outputs": []
    },
    {
      "cell_type": "code",
      "metadata": {
        "id": "8weoOwsllYqU"
      },
      "source": [
        "X = ([x[0] for x in data])\n",
        "\n",
        "y = np.array([x[1] for x in data])\n"
      ],
      "execution_count": null,
      "outputs": []
    },
    {
      "cell_type": "code",
      "metadata": {
        "id": "_EORjkljlb6n"
      },
      "source": [
        "X = X\n",
        "Y = y\n",
        "le = LabelEncoder()\n",
        "Y = le.fit_transform(Y)\n",
        "Y = Y.reshape(-1,1)"
      ],
      "execution_count": null,
      "outputs": []
    },
    {
      "cell_type": "code",
      "metadata": {
        "id": "kWpYWBAYlgUJ"
      },
      "source": [
        "max_words = 10000\n",
        "max_len = 150\n",
        "tok = Tokenizer(num_words=max_words)\n",
        "tok.fit_on_texts(X)\n",
        "sequences = tok.texts_to_sequences(X)\n",
        "sequences_matrix = sequence.pad_sequences(sequences,maxlen=max_len)"
      ],
      "execution_count": null,
      "outputs": []
    },
    {
      "cell_type": "code",
      "metadata": {
        "id": "H7oofG5Dls9A"
      },
      "source": [
        "def LSTM_():\n",
        "  inp = Input(shape=[max_len])\n",
        "  x = Embedding(max_words,50,input_length=max_len)(inp)\n",
        "  for i in range(0,5):\n",
        "    x = LSTM(256,return_sequences=True,dropout=0.2,recurrent_dropout=0)(x)\n",
        "    x = LSTM(256,return_sequences=True,dropout=0.2,recurrent_dropout=0)(x)\n",
        "    x = Dropout(0.2)(x)\n",
        "  x = Dense(256, activation=\"relu\")(x)\n",
        "  x = Dropout(0.2)(x)\n",
        "  x = Dense(1, activation=\"sigmoid\")(x)\n",
        "  model = Model(inputs=inp, outputs=x)\n",
        "  return model"
      ],
      "execution_count": null,
      "outputs": []
    },
    {
      "cell_type": "code",
      "metadata": {
        "id": "hUYctAqHmdHM",
        "colab": {
          "base_uri": "https://localhost:8080/"
        },
        "outputId": "99d0e045-9e44-40da-bf2b-6dd1c591ed92"
      },
      "source": [
        "model = LSTM_()\n",
        "model.summary()\n",
        "model.compile(loss='binary_crossentropy',optimizer=RMSprop(),metrics=['accuracy'])"
      ],
      "execution_count": null,
      "outputs": [
        {
          "output_type": "stream",
          "text": [
            "Model: \"functional_11\"\n",
            "_________________________________________________________________\n",
            "Layer (type)                 Output Shape              Param #   \n",
            "=================================================================\n",
            "input_6 (InputLayer)         [(None, 150)]             0         \n",
            "_________________________________________________________________\n",
            "embedding_5 (Embedding)      (None, 150, 50)           500000    \n",
            "_________________________________________________________________\n",
            "lstm_50 (LSTM)               (None, 150, 256)          314368    \n",
            "_________________________________________________________________\n",
            "lstm_51 (LSTM)               (None, 150, 256)          525312    \n",
            "_________________________________________________________________\n",
            "dropout_20 (Dropout)         (None, 150, 256)          0         \n",
            "_________________________________________________________________\n",
            "lstm_52 (LSTM)               (None, 150, 256)          525312    \n",
            "_________________________________________________________________\n",
            "lstm_53 (LSTM)               (None, 150, 256)          525312    \n",
            "_________________________________________________________________\n",
            "dropout_21 (Dropout)         (None, 150, 256)          0         \n",
            "_________________________________________________________________\n",
            "lstm_54 (LSTM)               (None, 150, 256)          525312    \n",
            "_________________________________________________________________\n",
            "lstm_55 (LSTM)               (None, 150, 256)          525312    \n",
            "_________________________________________________________________\n",
            "dropout_22 (Dropout)         (None, 150, 256)          0         \n",
            "_________________________________________________________________\n",
            "lstm_56 (LSTM)               (None, 150, 256)          525312    \n",
            "_________________________________________________________________\n",
            "lstm_57 (LSTM)               (None, 150, 256)          525312    \n",
            "_________________________________________________________________\n",
            "dropout_23 (Dropout)         (None, 150, 256)          0         \n",
            "_________________________________________________________________\n",
            "lstm_58 (LSTM)               (None, 150, 256)          525312    \n",
            "_________________________________________________________________\n",
            "lstm_59 (LSTM)               (None, 150, 256)          525312    \n",
            "_________________________________________________________________\n",
            "dropout_24 (Dropout)         (None, 150, 256)          0         \n",
            "_________________________________________________________________\n",
            "dense_10 (Dense)             (None, 150, 256)          65792     \n",
            "_________________________________________________________________\n",
            "dropout_25 (Dropout)         (None, 150, 256)          0         \n",
            "_________________________________________________________________\n",
            "dense_11 (Dense)             (None, 150, 1)            257       \n",
            "=================================================================\n",
            "Total params: 5,608,225\n",
            "Trainable params: 5,608,225\n",
            "Non-trainable params: 0\n",
            "_________________________________________________________________\n"
          ],
          "name": "stdout"
        }
      ]
    },
    {
      "cell_type": "code",
      "metadata": {
        "id": "rIZf1D5pmrv1",
        "colab": {
          "base_uri": "https://localhost:8080/"
        },
        "outputId": "e7281543-b384-4a50-92a5-d18698cb2c33"
      },
      "source": [
        "history = model.fit(sequences_matrix, Y,validation_split=0.2, batch_size=128, epochs=100)"
      ],
      "execution_count": null,
      "outputs": [
        {
          "output_type": "stream",
          "text": [
            "Epoch 1/100\n",
            "125/125 [==============================] - 41s 329ms/step - loss: 0.7028 - accuracy: 0.5032 - val_loss: 0.6937 - val_accuracy: 0.4843\n",
            "Epoch 2/100\n",
            "125/125 [==============================] - 37s 300ms/step - loss: 0.6946 - accuracy: 0.4996 - val_loss: 0.6939 - val_accuracy: 0.4843\n",
            "Epoch 3/100\n",
            "125/125 [==============================] - 38s 302ms/step - loss: 0.6954 - accuracy: 0.5009 - val_loss: 0.6938 - val_accuracy: 0.4843\n",
            "Epoch 4/100\n",
            "125/125 [==============================] - 38s 301ms/step - loss: 0.6936 - accuracy: 0.4986 - val_loss: 0.6943 - val_accuracy: 0.4843\n",
            "Epoch 5/100\n",
            "125/125 [==============================] - 38s 300ms/step - loss: 0.6933 - accuracy: 0.4985 - val_loss: 0.6934 - val_accuracy: 0.4843\n",
            "Epoch 6/100\n",
            "125/125 [==============================] - 38s 300ms/step - loss: 0.6938 - accuracy: 0.5011 - val_loss: 0.6932 - val_accuracy: 0.4843\n",
            "Epoch 7/100\n",
            "125/125 [==============================] - 38s 300ms/step - loss: 0.6936 - accuracy: 0.5044 - val_loss: 0.6930 - val_accuracy: 0.5149\n",
            "Epoch 8/100\n",
            "125/125 [==============================] - 38s 301ms/step - loss: 0.6933 - accuracy: 0.4998 - val_loss: 0.6934 - val_accuracy: 0.4843\n",
            "Epoch 9/100\n",
            "125/125 [==============================] - 38s 301ms/step - loss: 0.6933 - accuracy: 0.5037 - val_loss: 0.6933 - val_accuracy: 0.4843\n",
            "Epoch 10/100\n",
            "125/125 [==============================] - 38s 301ms/step - loss: 0.6937 - accuracy: 0.5017 - val_loss: 0.6929 - val_accuracy: 0.5157\n",
            "Epoch 11/100\n",
            "125/125 [==============================] - 38s 301ms/step - loss: 0.6933 - accuracy: 0.4974 - val_loss: 0.6933 - val_accuracy: 0.4843\n",
            "Epoch 12/100\n",
            "125/125 [==============================] - 38s 301ms/step - loss: 0.6933 - accuracy: 0.5011 - val_loss: 0.6935 - val_accuracy: 0.4843\n",
            "Epoch 13/100\n",
            "125/125 [==============================] - 38s 300ms/step - loss: 0.6934 - accuracy: 0.5015 - val_loss: 0.6934 - val_accuracy: 0.4843\n",
            "Epoch 14/100\n",
            "125/125 [==============================] - 38s 300ms/step - loss: 0.6935 - accuracy: 0.5016 - val_loss: 0.6936 - val_accuracy: 0.4843\n",
            "Epoch 15/100\n",
            "125/125 [==============================] - 38s 300ms/step - loss: 0.6932 - accuracy: 0.5032 - val_loss: 0.6933 - val_accuracy: 0.4843\n",
            "Epoch 16/100\n",
            "125/125 [==============================] - 38s 300ms/step - loss: 0.6932 - accuracy: 0.5004 - val_loss: 0.6933 - val_accuracy: 0.4843\n",
            "Epoch 17/100\n",
            "125/125 [==============================] - 38s 300ms/step - loss: 0.6933 - accuracy: 0.4999 - val_loss: 0.6934 - val_accuracy: 0.4843\n",
            "Epoch 18/100\n",
            "125/125 [==============================] - 38s 300ms/step - loss: 0.6932 - accuracy: 0.4982 - val_loss: 0.6934 - val_accuracy: 0.4843\n",
            "Epoch 19/100\n",
            "125/125 [==============================] - 38s 300ms/step - loss: 0.6932 - accuracy: 0.4998 - val_loss: 0.6932 - val_accuracy: 0.4843\n",
            "Epoch 20/100\n",
            "125/125 [==============================] - 37s 300ms/step - loss: 0.6932 - accuracy: 0.4998 - val_loss: 0.6936 - val_accuracy: 0.4843\n",
            "Epoch 21/100\n",
            "125/125 [==============================] - 37s 300ms/step - loss: 0.6932 - accuracy: 0.5008 - val_loss: 0.6936 - val_accuracy: 0.4843\n",
            "Epoch 22/100\n",
            "125/125 [==============================] - 38s 300ms/step - loss: 0.6979 - accuracy: 0.4993 - val_loss: 0.6935 - val_accuracy: 0.4843\n",
            "Epoch 23/100\n",
            "125/125 [==============================] - 37s 300ms/step - loss: 0.6933 - accuracy: 0.5009 - val_loss: 0.6935 - val_accuracy: 0.4843\n",
            "Epoch 24/100\n",
            "125/125 [==============================] - 38s 300ms/step - loss: 0.6936 - accuracy: 0.5011 - val_loss: 0.6942 - val_accuracy: 0.4843\n",
            "Epoch 25/100\n",
            "125/125 [==============================] - 37s 300ms/step - loss: 0.6934 - accuracy: 0.5015 - val_loss: 0.6942 - val_accuracy: 0.4843\n",
            "Epoch 26/100\n",
            "125/125 [==============================] - 37s 300ms/step - loss: 0.6938 - accuracy: 0.4997 - val_loss: 0.6931 - val_accuracy: 0.5137\n",
            "Epoch 27/100\n",
            "125/125 [==============================] - 37s 300ms/step - loss: 0.6933 - accuracy: 0.5022 - val_loss: 0.6935 - val_accuracy: 0.4843\n",
            "Epoch 28/100\n",
            "125/125 [==============================] - 37s 300ms/step - loss: 0.6932 - accuracy: 0.5022 - val_loss: 0.6934 - val_accuracy: 0.4843\n",
            "Epoch 29/100\n",
            "125/125 [==============================] - 38s 300ms/step - loss: 0.6932 - accuracy: 0.5008 - val_loss: 0.6937 - val_accuracy: 0.4843\n",
            "Epoch 30/100\n",
            "125/125 [==============================] - 37s 300ms/step - loss: 0.6942 - accuracy: 0.5058 - val_loss: 0.6949 - val_accuracy: 0.4843\n",
            "Epoch 31/100\n",
            "125/125 [==============================] - 37s 300ms/step - loss: 0.6934 - accuracy: 0.5012 - val_loss: 0.6930 - val_accuracy: 0.5149\n",
            "Epoch 32/100\n",
            "125/125 [==============================] - 37s 300ms/step - loss: 0.6933 - accuracy: 0.4948 - val_loss: 0.6933 - val_accuracy: 0.4843\n",
            "Epoch 33/100\n",
            "125/125 [==============================] - 37s 300ms/step - loss: 0.6932 - accuracy: 0.4989 - val_loss: 0.6935 - val_accuracy: 0.4843\n",
            "Epoch 34/100\n",
            "125/125 [==============================] - 37s 300ms/step - loss: 0.6933 - accuracy: 0.5012 - val_loss: 0.6936 - val_accuracy: 0.4843\n",
            "Epoch 35/100\n",
            "125/125 [==============================] - 37s 299ms/step - loss: 0.6932 - accuracy: 0.5039 - val_loss: 0.6934 - val_accuracy: 0.4843\n",
            "Epoch 36/100\n",
            "125/125 [==============================] - 37s 300ms/step - loss: 0.6932 - accuracy: 0.5033 - val_loss: 0.6934 - val_accuracy: 0.4843\n",
            "Epoch 37/100\n",
            "125/125 [==============================] - 37s 300ms/step - loss: 0.6936 - accuracy: 0.5045 - val_loss: 0.6936 - val_accuracy: 0.4843\n",
            "Epoch 38/100\n",
            "125/125 [==============================] - 38s 300ms/step - loss: 0.6932 - accuracy: 0.5032 - val_loss: 0.6934 - val_accuracy: 0.4843\n",
            "Epoch 39/100\n",
            "125/125 [==============================] - 37s 299ms/step - loss: 0.6936 - accuracy: 0.5028 - val_loss: 0.6934 - val_accuracy: 0.4843\n",
            "Epoch 40/100\n",
            "125/125 [==============================] - 37s 299ms/step - loss: 0.6932 - accuracy: 0.4982 - val_loss: 0.6938 - val_accuracy: 0.4843\n",
            "Epoch 41/100\n",
            "125/125 [==============================] - 37s 299ms/step - loss: 0.6932 - accuracy: 0.5011 - val_loss: 0.6931 - val_accuracy: 0.5149\n",
            "Epoch 42/100\n",
            "125/125 [==============================] - 37s 299ms/step - loss: 0.6932 - accuracy: 0.5018 - val_loss: 0.6936 - val_accuracy: 0.4843\n",
            "Epoch 43/100\n",
            "125/125 [==============================] - 37s 299ms/step - loss: 0.6931 - accuracy: 0.5029 - val_loss: 0.6936 - val_accuracy: 0.4843\n",
            "Epoch 44/100\n",
            "125/125 [==============================] - 37s 298ms/step - loss: 0.6932 - accuracy: 0.5034 - val_loss: 0.6938 - val_accuracy: 0.4843\n",
            "Epoch 45/100\n",
            "125/125 [==============================] - 37s 298ms/step - loss: 0.6932 - accuracy: 0.5020 - val_loss: 0.6936 - val_accuracy: 0.4843\n",
            "Epoch 46/100\n",
            "125/125 [==============================] - 37s 299ms/step - loss: 0.6932 - accuracy: 0.5009 - val_loss: 0.6932 - val_accuracy: 0.4843\n",
            "Epoch 47/100\n",
            "125/125 [==============================] - 37s 299ms/step - loss: 0.6932 - accuracy: 0.5012 - val_loss: 0.6936 - val_accuracy: 0.4843\n",
            "Epoch 48/100\n",
            "125/125 [==============================] - 37s 299ms/step - loss: 0.6932 - accuracy: 0.5027 - val_loss: 0.6934 - val_accuracy: 0.4843\n",
            "Epoch 49/100\n",
            "125/125 [==============================] - 37s 299ms/step - loss: 0.6992 - accuracy: 0.5101 - val_loss: 0.6939 - val_accuracy: 0.4843\n",
            "Epoch 50/100\n",
            "125/125 [==============================] - 37s 299ms/step - loss: 0.6933 - accuracy: 0.5026 - val_loss: 0.6934 - val_accuracy: 0.4843\n",
            "Epoch 51/100\n",
            "125/125 [==============================] - 37s 298ms/step - loss: 0.6932 - accuracy: 0.5022 - val_loss: 0.6934 - val_accuracy: 0.4843\n",
            "Epoch 52/100\n",
            "125/125 [==============================] - 37s 299ms/step - loss: 0.6932 - accuracy: 0.5023 - val_loss: 0.6942 - val_accuracy: 0.4843\n",
            "Epoch 53/100\n",
            "125/125 [==============================] - 37s 299ms/step - loss: 0.6932 - accuracy: 0.5019 - val_loss: 0.6935 - val_accuracy: 0.4843\n",
            "Epoch 54/100\n",
            "125/125 [==============================] - 37s 298ms/step - loss: 0.6932 - accuracy: 0.5008 - val_loss: 0.6935 - val_accuracy: 0.4843\n",
            "Epoch 55/100\n",
            "125/125 [==============================] - 37s 299ms/step - loss: 0.6933 - accuracy: 0.5022 - val_loss: 0.6940 - val_accuracy: 0.4843\n",
            "Epoch 56/100\n",
            "125/125 [==============================] - 37s 298ms/step - loss: 0.6932 - accuracy: 0.4987 - val_loss: 0.6936 - val_accuracy: 0.4843\n",
            "Epoch 57/100\n",
            "125/125 [==============================] - 37s 299ms/step - loss: 0.6932 - accuracy: 0.5039 - val_loss: 0.6937 - val_accuracy: 0.4843\n",
            "Epoch 58/100\n",
            "125/125 [==============================] - 37s 298ms/step - loss: 0.7067 - accuracy: 0.5004 - val_loss: 0.6930 - val_accuracy: 0.5145\n",
            "Epoch 59/100\n",
            "125/125 [==============================] - 37s 299ms/step - loss: 0.6932 - accuracy: 0.4992 - val_loss: 0.6938 - val_accuracy: 0.4843\n",
            "Epoch 60/100\n",
            "125/125 [==============================] - 37s 299ms/step - loss: 0.6939 - accuracy: 0.5012 - val_loss: 0.6956 - val_accuracy: 0.4843\n",
            "Epoch 61/100\n",
            "125/125 [==============================] - 37s 299ms/step - loss: 0.6933 - accuracy: 0.5068 - val_loss: 0.6937 - val_accuracy: 0.4843\n",
            "Epoch 62/100\n",
            "125/125 [==============================] - 37s 299ms/step - loss: 0.6932 - accuracy: 0.4992 - val_loss: 0.6935 - val_accuracy: 0.4843\n",
            "Epoch 63/100\n",
            "125/125 [==============================] - 37s 299ms/step - loss: 0.6932 - accuracy: 0.5017 - val_loss: 0.6934 - val_accuracy: 0.4843\n",
            "Epoch 64/100\n",
            "125/125 [==============================] - 37s 299ms/step - loss: 0.6932 - accuracy: 0.4992 - val_loss: 0.6934 - val_accuracy: 0.4843\n",
            "Epoch 65/100\n",
            "125/125 [==============================] - 37s 299ms/step - loss: 0.6931 - accuracy: 0.5022 - val_loss: 0.6934 - val_accuracy: 0.4843\n",
            "Epoch 66/100\n",
            "125/125 [==============================] - 37s 299ms/step - loss: 0.6932 - accuracy: 0.4997 - val_loss: 0.6934 - val_accuracy: 0.4843\n",
            "Epoch 67/100\n",
            "125/125 [==============================] - 37s 299ms/step - loss: 0.6932 - accuracy: 0.4999 - val_loss: 0.6932 - val_accuracy: 0.4843\n",
            "Epoch 68/100\n",
            "125/125 [==============================] - 37s 299ms/step - loss: 0.6932 - accuracy: 0.5033 - val_loss: 0.6933 - val_accuracy: 0.4843\n",
            "Epoch 69/100\n",
            "125/125 [==============================] - 37s 299ms/step - loss: 0.6932 - accuracy: 0.5017 - val_loss: 0.6936 - val_accuracy: 0.4843\n",
            "Epoch 70/100\n",
            "125/125 [==============================] - 37s 299ms/step - loss: 0.6933 - accuracy: 0.5039 - val_loss: 0.6941 - val_accuracy: 0.4843\n",
            "Epoch 71/100\n",
            "125/125 [==============================] - 37s 299ms/step - loss: 0.6932 - accuracy: 0.5044 - val_loss: 0.6934 - val_accuracy: 0.4843\n",
            "Epoch 72/100\n",
            "125/125 [==============================] - 37s 299ms/step - loss: 0.6932 - accuracy: 0.5034 - val_loss: 0.6934 - val_accuracy: 0.4843\n",
            "Epoch 73/100\n",
            "125/125 [==============================] - 37s 299ms/step - loss: 0.6932 - accuracy: 0.5032 - val_loss: 0.6932 - val_accuracy: 0.4843\n",
            "Epoch 74/100\n",
            "125/125 [==============================] - 37s 299ms/step - loss: 0.6932 - accuracy: 0.5037 - val_loss: 0.6934 - val_accuracy: 0.4843\n",
            "Epoch 75/100\n",
            "125/125 [==============================] - 37s 298ms/step - loss: 0.6931 - accuracy: 0.5039 - val_loss: 0.6935 - val_accuracy: 0.4843\n",
            "Epoch 76/100\n",
            "125/125 [==============================] - 37s 299ms/step - loss: 0.6932 - accuracy: 0.5014 - val_loss: 0.6935 - val_accuracy: 0.4843\n",
            "Epoch 77/100\n",
            "125/125 [==============================] - 37s 298ms/step - loss: 0.6932 - accuracy: 0.5026 - val_loss: 0.6935 - val_accuracy: 0.4843\n",
            "Epoch 78/100\n",
            "125/125 [==============================] - 37s 299ms/step - loss: 0.6932 - accuracy: 0.5039 - val_loss: 0.6932 - val_accuracy: 0.4843\n",
            "Epoch 79/100\n",
            "125/125 [==============================] - 37s 299ms/step - loss: 0.6932 - accuracy: 0.5008 - val_loss: 0.6934 - val_accuracy: 0.4843\n",
            "Epoch 80/100\n",
            "125/125 [==============================] - 37s 298ms/step - loss: 0.6931 - accuracy: 0.5094 - val_loss: 0.6940 - val_accuracy: 0.4843\n",
            "Epoch 81/100\n",
            "125/125 [==============================] - 37s 299ms/step - loss: 0.6932 - accuracy: 0.4998 - val_loss: 0.6937 - val_accuracy: 0.4843\n",
            "Epoch 82/100\n",
            "125/125 [==============================] - 37s 300ms/step - loss: 0.6932 - accuracy: 0.5024 - val_loss: 0.6932 - val_accuracy: 0.4843\n",
            "Epoch 83/100\n",
            "125/125 [==============================] - 37s 299ms/step - loss: 0.6932 - accuracy: 0.5013 - val_loss: 0.6935 - val_accuracy: 0.4843\n",
            "Epoch 84/100\n",
            "125/125 [==============================] - 37s 300ms/step - loss: 0.6932 - accuracy: 0.5039 - val_loss: 0.6935 - val_accuracy: 0.4843\n",
            "Epoch 85/100\n",
            "125/125 [==============================] - 37s 299ms/step - loss: 0.6932 - accuracy: 0.5029 - val_loss: 0.6938 - val_accuracy: 0.4843\n",
            "Epoch 86/100\n",
            "125/125 [==============================] - 37s 299ms/step - loss: 0.6977 - accuracy: 0.5089 - val_loss: 0.6929 - val_accuracy: 0.5153\n",
            "Epoch 87/100\n",
            "125/125 [==============================] - 37s 299ms/step - loss: 0.6934 - accuracy: 0.4967 - val_loss: 0.6936 - val_accuracy: 0.4843\n",
            "Epoch 88/100\n",
            "125/125 [==============================] - 37s 299ms/step - loss: 0.6932 - accuracy: 0.5042 - val_loss: 0.6936 - val_accuracy: 0.4843\n",
            "Epoch 89/100\n",
            "125/125 [==============================] - 37s 299ms/step - loss: 0.6932 - accuracy: 0.5027 - val_loss: 0.6933 - val_accuracy: 0.4843\n",
            "Epoch 90/100\n",
            "125/125 [==============================] - 37s 299ms/step - loss: 0.6932 - accuracy: 0.5060 - val_loss: 0.6936 - val_accuracy: 0.4843\n",
            "Epoch 91/100\n",
            "125/125 [==============================] - 37s 299ms/step - loss: 0.6932 - accuracy: 0.5039 - val_loss: 0.6934 - val_accuracy: 0.4843\n",
            "Epoch 92/100\n",
            "125/125 [==============================] - 37s 299ms/step - loss: 0.6932 - accuracy: 0.5033 - val_loss: 0.6935 - val_accuracy: 0.4843\n",
            "Epoch 93/100\n",
            "125/125 [==============================] - 37s 299ms/step - loss: 0.6931 - accuracy: 0.5039 - val_loss: 0.6935 - val_accuracy: 0.4843\n",
            "Epoch 94/100\n",
            "125/125 [==============================] - 37s 299ms/step - loss: 0.6931 - accuracy: 0.4999 - val_loss: 0.6936 - val_accuracy: 0.4843\n",
            "Epoch 95/100\n",
            "125/125 [==============================] - 37s 300ms/step - loss: 0.6932 - accuracy: 0.5001 - val_loss: 0.6932 - val_accuracy: 0.4843\n",
            "Epoch 96/100\n",
            "125/125 [==============================] - 37s 299ms/step - loss: 0.6932 - accuracy: 0.5039 - val_loss: 0.6935 - val_accuracy: 0.4843\n",
            "Epoch 97/100\n",
            "125/125 [==============================] - 37s 299ms/step - loss: 0.6932 - accuracy: 0.5014 - val_loss: 0.6933 - val_accuracy: 0.4843\n",
            "Epoch 98/100\n",
            "125/125 [==============================] - 37s 299ms/step - loss: 0.6932 - accuracy: 0.5026 - val_loss: 0.6932 - val_accuracy: 0.4843\n",
            "Epoch 99/100\n",
            "125/125 [==============================] - 37s 299ms/step - loss: 0.6932 - accuracy: 0.5033 - val_loss: 0.6934 - val_accuracy: 0.4843\n",
            "Epoch 100/100\n",
            "125/125 [==============================] - 37s 299ms/step - loss: 0.6932 - accuracy: 0.5034 - val_loss: 0.6934 - val_accuracy: 0.4843\n"
          ],
          "name": "stdout"
        }
      ]
    },
    {
      "cell_type": "code",
      "metadata": {
        "id": "OLAeGFCKm7k0",
        "colab": {
          "base_uri": "https://localhost:8080/",
          "height": 265
        },
        "outputId": "734995ad-469e-4219-f8d3-c590abf015af"
      },
      "source": [
        "plt.plot(history.history['accuracy'], label='Training accuracy')\n",
        "plt.plot(history.history['val_accuracy'], label='Validation Accuracy')\n",
        "plt.show()"
      ],
      "execution_count": null,
      "outputs": [
        {
          "output_type": "display_data",
          "data": {
            "image/png": "[encoded data removed]",
            "text/plain": [
              "<Figure size 432x288 with 1 Axes>"
            ]
          },
          "metadata": {
            "tags": [],
            "needs_background": "light"
          }
        }
      ]
    },
    {
      "cell_type": "markdown",
      "metadata": {
        "id": "WiSU7jIW3nsC"
      },
      "source": [
        "LSTM with GlobalMaxPooling1D"
      ]
    },
    {
      "cell_type": "code",
      "metadata": {
        "id": "KsuPv5qT3W49"
      },
      "source": [
        "def LSTM_nodrop():\n",
        "  inp = Input(shape=[max_len])\n",
        "  x = Embedding(max_words,50,input_length=max_len)(inp)\n",
        "  for i in range(0,5):\n",
        "    x = LSTM(256,return_sequences=True,dropout=0.2,recurrent_dropout=0)(x)\n",
        "    x = LSTM(256,return_sequences=True,dropout=0.2,recurrent_dropout=0)(x)\n",
        "  x = Dense(256, activation=\"relu\")(x)\n",
        "  x = Dropout(0.2)(x)\n",
        "  x = Dense(1, activation=\"sigmoid\")(x)\n",
        "  model = Model(inputs=inp, outputs=x)\n",
        "  return model"
      ],
      "execution_count": null,
      "outputs": []
    },
    {
      "cell_type": "code",
      "metadata": {
        "id": "wdF5bHat35Lf",
        "colab": {
          "base_uri": "https://localhost:8080/"
        },
        "outputId": "3a3d208e-f370-4bd9-9701-059107762878"
      },
      "source": [
        "model = LSTM_nodrop()\n",
        "model.summary()\n",
        "model.compile(loss='binary_crossentropy',optimizer=RMSprop(),metrics=['accuracy'])"
      ],
      "execution_count": null,
      "outputs": [
        {
          "output_type": "stream",
          "text": [
            "Model: \"functional_13\"\n",
            "_________________________________________________________________\n",
            "Layer (type)                 Output Shape              Param #   \n",
            "=================================================================\n",
            "input_11 (InputLayer)        [(None, 150)]             0         \n",
            "_________________________________________________________________\n",
            "embedding_10 (Embedding)     (None, 150, 50)           500000    \n",
            "_________________________________________________________________\n",
            "lstm_72 (LSTM)               (None, 150, 256)          314368    \n",
            "_________________________________________________________________\n",
            "lstm_73 (LSTM)               (None, 150, 256)          525312    \n",
            "_________________________________________________________________\n",
            "lstm_74 (LSTM)               (None, 150, 256)          525312    \n",
            "_________________________________________________________________\n",
            "lstm_75 (LSTM)               (None, 150, 256)          525312    \n",
            "_________________________________________________________________\n",
            "lstm_76 (LSTM)               (None, 150, 256)          525312    \n",
            "_________________________________________________________________\n",
            "lstm_77 (LSTM)               (None, 150, 256)          525312    \n",
            "_________________________________________________________________\n",
            "lstm_78 (LSTM)               (None, 150, 256)          525312    \n",
            "_________________________________________________________________\n",
            "lstm_79 (LSTM)               (None, 150, 256)          525312    \n",
            "_________________________________________________________________\n",
            "lstm_80 (LSTM)               (None, 150, 256)          525312    \n",
            "_________________________________________________________________\n",
            "lstm_81 (LSTM)               (None, 150, 256)          525312    \n",
            "_________________________________________________________________\n",
            "dense_12 (Dense)             (None, 150, 256)          65792     \n",
            "_________________________________________________________________\n",
            "dropout_28 (Dropout)         (None, 150, 256)          0         \n",
            "_________________________________________________________________\n",
            "dense_13 (Dense)             (None, 150, 1)            257       \n",
            "=================================================================\n",
            "Total params: 5,608,225\n",
            "Trainable params: 5,608,225\n",
            "Non-trainable params: 0\n",
            "_________________________________________________________________\n"
          ],
          "name": "stdout"
        }
      ]
    },
    {
      "cell_type": "code",
      "metadata": {
        "id": "fOmX_PHV4C64",
        "colab": {
          "base_uri": "https://localhost:8080/"
        },
        "outputId": "bbc3d34c-13ee-49a6-be51-38d5c119d936"
      },
      "source": [
        "history = model.fit(sequences_matrix, Y,validation_split=0.2, batch_size=128, epochs=100)"
      ],
      "execution_count": null,
      "outputs": [
        {
          "output_type": "stream",
          "text": [
            "Epoch 1/100\n",
            "125/125 [==============================] - 40s 320ms/step - loss: 0.6959 - accuracy: 0.4988 - val_loss: 0.6930 - val_accuracy: 0.5155\n",
            "Epoch 2/100\n",
            "125/125 [==============================] - 36s 290ms/step - loss: 0.6987 - accuracy: 0.4999 - val_loss: 0.6929 - val_accuracy: 0.5134\n",
            "Epoch 3/100\n",
            "125/125 [==============================] - 37s 293ms/step - loss: 0.6947 - accuracy: 0.5133 - val_loss: 0.6941 - val_accuracy: 0.4872\n",
            "Epoch 4/100\n",
            "125/125 [==============================] - 37s 292ms/step - loss: 0.6944 - accuracy: 0.4999 - val_loss: 0.6939 - val_accuracy: 0.4845\n",
            "Epoch 5/100\n",
            "125/125 [==============================] - 37s 293ms/step - loss: 0.6941 - accuracy: 0.5018 - val_loss: 0.6930 - val_accuracy: 0.5157\n",
            "Epoch 6/100\n",
            "125/125 [==============================] - 37s 292ms/step - loss: 0.6933 - accuracy: 0.5018 - val_loss: 0.6933 - val_accuracy: 0.4847\n",
            "Epoch 7/100\n",
            "125/125 [==============================] - 37s 292ms/step - loss: 0.6932 - accuracy: 0.5090 - val_loss: 0.6932 - val_accuracy: 0.4845\n",
            "Epoch 8/100\n",
            "125/125 [==============================] - 36s 292ms/step - loss: 0.6934 - accuracy: 0.5031 - val_loss: 0.6928 - val_accuracy: 0.5157\n",
            "Epoch 9/100\n",
            "125/125 [==============================] - 37s 292ms/step - loss: 0.6932 - accuracy: 0.4974 - val_loss: 0.6933 - val_accuracy: 0.4843\n",
            "Epoch 10/100\n",
            "125/125 [==============================] - 36s 292ms/step - loss: 0.6932 - accuracy: 0.5021 - val_loss: 0.6933 - val_accuracy: 0.4843\n",
            "Epoch 11/100\n",
            "125/125 [==============================] - 37s 292ms/step - loss: 0.6932 - accuracy: 0.5030 - val_loss: 0.6934 - val_accuracy: 0.4843\n",
            "Epoch 12/100\n",
            "125/125 [==============================] - 36s 292ms/step - loss: 0.6932 - accuracy: 0.5023 - val_loss: 0.6935 - val_accuracy: 0.4843\n",
            "Epoch 13/100\n",
            "125/125 [==============================] - 37s 292ms/step - loss: 0.6932 - accuracy: 0.5034 - val_loss: 0.6933 - val_accuracy: 0.4843\n",
            "Epoch 14/100\n",
            "125/125 [==============================] - 36s 292ms/step - loss: 0.6932 - accuracy: 0.5017 - val_loss: 0.6934 - val_accuracy: 0.4843\n",
            "Epoch 15/100\n",
            "125/125 [==============================] - 37s 292ms/step - loss: 0.6932 - accuracy: 0.5056 - val_loss: 0.6930 - val_accuracy: 0.5157\n",
            "Epoch 16/100\n",
            "125/125 [==============================] - 37s 292ms/step - loss: 0.6932 - accuracy: 0.5006 - val_loss: 0.6933 - val_accuracy: 0.4843\n",
            "Epoch 17/100\n",
            "125/125 [==============================] - 37s 292ms/step - loss: 0.6932 - accuracy: 0.5036 - val_loss: 0.6933 - val_accuracy: 0.4843\n",
            "Epoch 18/100\n",
            "125/125 [==============================] - 36s 292ms/step - loss: 0.6932 - accuracy: 0.5039 - val_loss: 0.6934 - val_accuracy: 0.4843\n",
            "Epoch 19/100\n",
            "125/125 [==============================] - 37s 292ms/step - loss: 0.6932 - accuracy: 0.5031 - val_loss: 0.6934 - val_accuracy: 0.4843\n",
            "Epoch 20/100\n",
            "125/125 [==============================] - 36s 292ms/step - loss: 0.6932 - accuracy: 0.5039 - val_loss: 0.6933 - val_accuracy: 0.4843\n",
            "Epoch 21/100\n",
            "125/125 [==============================] - 36s 292ms/step - loss: 0.6932 - accuracy: 0.5018 - val_loss: 0.6935 - val_accuracy: 0.4843\n",
            "Epoch 22/100\n",
            "125/125 [==============================] - 36s 292ms/step - loss: 0.6931 - accuracy: 0.5039 - val_loss: 0.6933 - val_accuracy: 0.4843\n",
            "Epoch 23/100\n",
            "125/125 [==============================] - 36s 292ms/step - loss: 0.6932 - accuracy: 0.5039 - val_loss: 0.6933 - val_accuracy: 0.4843\n",
            "Epoch 24/100\n",
            "125/125 [==============================] - 36s 292ms/step - loss: 0.6932 - accuracy: 0.5039 - val_loss: 0.6935 - val_accuracy: 0.4843\n",
            "Epoch 25/100\n",
            "125/125 [==============================] - 36s 292ms/step - loss: 0.6932 - accuracy: 0.5038 - val_loss: 0.6936 - val_accuracy: 0.4843\n",
            "Epoch 26/100\n",
            "125/125 [==============================] - 36s 291ms/step - loss: 0.6932 - accuracy: 0.5039 - val_loss: 0.6936 - val_accuracy: 0.4843\n",
            "Epoch 27/100\n",
            "125/125 [==============================] - 36s 292ms/step - loss: 0.6932 - accuracy: 0.5039 - val_loss: 0.6933 - val_accuracy: 0.4843\n",
            "Epoch 28/100\n",
            "125/125 [==============================] - 36s 291ms/step - loss: 0.6932 - accuracy: 0.5039 - val_loss: 0.6933 - val_accuracy: 0.4843\n",
            "Epoch 29/100\n",
            "125/125 [==============================] - 36s 292ms/step - loss: 0.6932 - accuracy: 0.5039 - val_loss: 0.6933 - val_accuracy: 0.4843\n",
            "Epoch 30/100\n",
            "125/125 [==============================] - 36s 292ms/step - loss: 0.6931 - accuracy: 0.5015 - val_loss: 0.6935 - val_accuracy: 0.4843\n",
            "Epoch 31/100\n",
            "125/125 [==============================] - 37s 292ms/step - loss: 0.6931 - accuracy: 0.5039 - val_loss: 0.6935 - val_accuracy: 0.4843\n",
            "Epoch 32/100\n",
            "125/125 [==============================] - 36s 292ms/step - loss: 0.6932 - accuracy: 0.5039 - val_loss: 0.6935 - val_accuracy: 0.4843\n",
            "Epoch 33/100\n",
            "125/125 [==============================] - 37s 292ms/step - loss: 0.6931 - accuracy: 0.5039 - val_loss: 0.6935 - val_accuracy: 0.4843\n",
            "Epoch 34/100\n",
            "125/125 [==============================] - 36s 291ms/step - loss: 0.6931 - accuracy: 0.5039 - val_loss: 0.6934 - val_accuracy: 0.4843\n",
            "Epoch 35/100\n",
            "125/125 [==============================] - 36s 292ms/step - loss: 0.6931 - accuracy: 0.5038 - val_loss: 0.6935 - val_accuracy: 0.4843\n",
            "Epoch 36/100\n",
            "125/125 [==============================] - 37s 292ms/step - loss: 0.6931 - accuracy: 0.5039 - val_loss: 0.6934 - val_accuracy: 0.4843\n",
            "Epoch 37/100\n",
            "125/125 [==============================] - 37s 293ms/step - loss: 0.6931 - accuracy: 0.5033 - val_loss: 0.6934 - val_accuracy: 0.4843\n",
            "Epoch 38/100\n",
            "125/125 [==============================] - 37s 292ms/step - loss: 0.6931 - accuracy: 0.5013 - val_loss: 0.6935 - val_accuracy: 0.4843\n",
            "Epoch 39/100\n",
            "125/125 [==============================] - 37s 293ms/step - loss: 0.6931 - accuracy: 0.5021 - val_loss: 0.6934 - val_accuracy: 0.4843\n",
            "Epoch 40/100\n",
            "125/125 [==============================] - 37s 292ms/step - loss: 0.6931 - accuracy: 0.4999 - val_loss: 0.6935 - val_accuracy: 0.4843\n",
            "Epoch 41/100\n",
            "125/125 [==============================] - 37s 292ms/step - loss: 0.6932 - accuracy: 0.5039 - val_loss: 0.6935 - val_accuracy: 0.4843\n",
            "Epoch 42/100\n",
            "125/125 [==============================] - 36s 292ms/step - loss: 0.6931 - accuracy: 0.5039 - val_loss: 0.6936 - val_accuracy: 0.4843\n",
            "Epoch 43/100\n",
            "125/125 [==============================] - 37s 292ms/step - loss: 0.6932 - accuracy: 0.5039 - val_loss: 0.6935 - val_accuracy: 0.4843\n",
            "Epoch 44/100\n",
            "125/125 [==============================] - 36s 292ms/step - loss: 0.6932 - accuracy: 0.5035 - val_loss: 0.6935 - val_accuracy: 0.4843\n",
            "Epoch 45/100\n",
            "125/125 [==============================] - 37s 292ms/step - loss: 0.6932 - accuracy: 0.5039 - val_loss: 0.6934 - val_accuracy: 0.4843\n",
            "Epoch 46/100\n",
            "125/125 [==============================] - 36s 292ms/step - loss: 0.6931 - accuracy: 0.5018 - val_loss: 0.6936 - val_accuracy: 0.4843\n",
            "Epoch 47/100\n",
            "125/125 [==============================] - 37s 294ms/step - loss: 0.6932 - accuracy: 0.5039 - val_loss: 0.6935 - val_accuracy: 0.4843\n",
            "Epoch 48/100\n",
            "125/125 [==============================] - 37s 293ms/step - loss: 0.6932 - accuracy: 0.5039 - val_loss: 0.6934 - val_accuracy: 0.4843\n",
            "Epoch 49/100\n",
            "125/125 [==============================] - 37s 292ms/step - loss: 0.6931 - accuracy: 0.5039 - val_loss: 0.6934 - val_accuracy: 0.4843\n",
            "Epoch 50/100\n",
            "125/125 [==============================] - 37s 292ms/step - loss: 0.6932 - accuracy: 0.5039 - val_loss: 0.6934 - val_accuracy: 0.4843\n",
            "Epoch 51/100\n",
            "125/125 [==============================] - 37s 292ms/step - loss: 0.6932 - accuracy: 0.5039 - val_loss: 0.6934 - val_accuracy: 0.4843\n",
            "Epoch 52/100\n",
            "125/125 [==============================] - 37s 292ms/step - loss: 0.6931 - accuracy: 0.5039 - val_loss: 0.6934 - val_accuracy: 0.4843\n",
            "Epoch 53/100\n",
            "125/125 [==============================] - 37s 292ms/step - loss: 0.6931 - accuracy: 0.5039 - val_loss: 0.6934 - val_accuracy: 0.4843\n",
            "Epoch 54/100\n",
            "125/125 [==============================] - 36s 292ms/step - loss: 0.6931 - accuracy: 0.5039 - val_loss: 0.6935 - val_accuracy: 0.4843\n",
            "Epoch 55/100\n",
            "125/125 [==============================] - 36s 292ms/step - loss: 0.6931 - accuracy: 0.5039 - val_loss: 0.6935 - val_accuracy: 0.4843\n",
            "Epoch 56/100\n",
            "125/125 [==============================] - 36s 292ms/step - loss: 0.6931 - accuracy: 0.5039 - val_loss: 0.6934 - val_accuracy: 0.4843\n",
            "Epoch 57/100\n",
            "125/125 [==============================] - 36s 292ms/step - loss: 0.6931 - accuracy: 0.5039 - val_loss: 0.6934 - val_accuracy: 0.4843\n",
            "Epoch 58/100\n",
            "125/125 [==============================] - 36s 292ms/step - loss: 0.6931 - accuracy: 0.5039 - val_loss: 0.6934 - val_accuracy: 0.4843\n",
            "Epoch 59/100\n",
            "125/125 [==============================] - 37s 292ms/step - loss: 0.6931 - accuracy: 0.5039 - val_loss: 0.6934 - val_accuracy: 0.4843\n",
            "Epoch 60/100\n",
            "125/125 [==============================] - 36s 292ms/step - loss: 0.6931 - accuracy: 0.5039 - val_loss: 0.6934 - val_accuracy: 0.4843\n",
            "Epoch 61/100\n",
            "125/125 [==============================] - 36s 292ms/step - loss: 0.6931 - accuracy: 0.5039 - val_loss: 0.6934 - val_accuracy: 0.4843\n",
            "Epoch 62/100\n",
            "125/125 [==============================] - 36s 291ms/step - loss: 0.6931 - accuracy: 0.5039 - val_loss: 0.6935 - val_accuracy: 0.4843\n",
            "Epoch 63/100\n",
            "125/125 [==============================] - 36s 292ms/step - loss: 0.6931 - accuracy: 0.5039 - val_loss: 0.6935 - val_accuracy: 0.4843\n",
            "Epoch 64/100\n",
            "125/125 [==============================] - 36s 291ms/step - loss: 0.6931 - accuracy: 0.5039 - val_loss: 0.6934 - val_accuracy: 0.4843\n",
            "Epoch 65/100\n",
            "125/125 [==============================] - 37s 292ms/step - loss: 0.6931 - accuracy: 0.5039 - val_loss: 0.6934 - val_accuracy: 0.4843\n",
            "Epoch 66/100\n",
            "125/125 [==============================] - 36s 292ms/step - loss: 0.6931 - accuracy: 0.5039 - val_loss: 0.6934 - val_accuracy: 0.4843\n",
            "Epoch 67/100\n",
            "125/125 [==============================] - 37s 292ms/step - loss: 0.6931 - accuracy: 0.5039 - val_loss: 0.6934 - val_accuracy: 0.4843\n",
            "Epoch 68/100\n",
            "125/125 [==============================] - 36s 292ms/step - loss: 0.6931 - accuracy: 0.5039 - val_loss: 0.6934 - val_accuracy: 0.4843\n",
            "Epoch 69/100\n",
            "125/125 [==============================] - 36s 292ms/step - loss: 0.6931 - accuracy: 0.5039 - val_loss: 0.6933 - val_accuracy: 0.4843\n",
            "Epoch 70/100\n",
            "125/125 [==============================] - 36s 292ms/step - loss: 0.6931 - accuracy: 0.5039 - val_loss: 0.6934 - val_accuracy: 0.4843\n",
            "Epoch 71/100\n",
            "125/125 [==============================] - 36s 292ms/step - loss: 0.6931 - accuracy: 0.5039 - val_loss: 0.6934 - val_accuracy: 0.4843\n",
            "Epoch 72/100\n",
            "125/125 [==============================] - 36s 292ms/step - loss: 0.6931 - accuracy: 0.5039 - val_loss: 0.6935 - val_accuracy: 0.4843\n",
            "Epoch 73/100\n",
            "125/125 [==============================] - 37s 292ms/step - loss: 0.6931 - accuracy: 0.5039 - val_loss: 0.6935 - val_accuracy: 0.4843\n",
            "Epoch 74/100\n",
            "125/125 [==============================] - 36s 292ms/step - loss: 0.6931 - accuracy: 0.5039 - val_loss: 0.6934 - val_accuracy: 0.4843\n",
            "Epoch 75/100\n",
            "125/125 [==============================] - 37s 292ms/step - loss: 0.6931 - accuracy: 0.5039 - val_loss: 0.6935 - val_accuracy: 0.4843\n",
            "Epoch 76/100\n",
            "125/125 [==============================] - 36s 292ms/step - loss: 0.6931 - accuracy: 0.5039 - val_loss: 0.6935 - val_accuracy: 0.4843\n",
            "Epoch 77/100\n",
            "125/125 [==============================] - 37s 292ms/step - loss: 0.6931 - accuracy: 0.5039 - val_loss: 0.6935 - val_accuracy: 0.4843\n",
            "Epoch 78/100\n",
            "125/125 [==============================] - 36s 292ms/step - loss: 0.6931 - accuracy: 0.5039 - val_loss: 0.6934 - val_accuracy: 0.4843\n",
            "Epoch 79/100\n",
            "125/125 [==============================] - 37s 292ms/step - loss: 0.6931 - accuracy: 0.5039 - val_loss: 0.6934 - val_accuracy: 0.4843\n",
            "Epoch 80/100\n",
            "125/125 [==============================] - 36s 292ms/step - loss: 0.6931 - accuracy: 0.5039 - val_loss: 0.6935 - val_accuracy: 0.4843\n",
            "Epoch 81/100\n",
            "125/125 [==============================] - 37s 292ms/step - loss: 0.6931 - accuracy: 0.5039 - val_loss: 0.6935 - val_accuracy: 0.4843\n",
            "Epoch 82/100\n",
            "125/125 [==============================] - 37s 292ms/step - loss: 0.6931 - accuracy: 0.5039 - val_loss: 0.6935 - val_accuracy: 0.4843\n",
            "Epoch 83/100\n",
            "125/125 [==============================] - 37s 293ms/step - loss: 0.6931 - accuracy: 0.5039 - val_loss: 0.6934 - val_accuracy: 0.4843\n",
            "Epoch 84/100\n",
            "125/125 [==============================] - 37s 292ms/step - loss: 0.6931 - accuracy: 0.5039 - val_loss: 0.6933 - val_accuracy: 0.4843\n",
            "Epoch 85/100\n",
            "125/125 [==============================] - 37s 292ms/step - loss: 0.6931 - accuracy: 0.5039 - val_loss: 0.6934 - val_accuracy: 0.4843\n",
            "Epoch 86/100\n",
            "125/125 [==============================] - 37s 292ms/step - loss: 0.6931 - accuracy: 0.5039 - val_loss: 0.6933 - val_accuracy: 0.4843\n",
            "Epoch 87/100\n",
            "125/125 [==============================] - 36s 286ms/step - loss: 0.6931 - accuracy: 0.5039 - val_loss: 0.6933 - val_accuracy: 0.4843\n",
            "Epoch 88/100\n",
            "125/125 [==============================] - 35s 276ms/step - loss: 0.6931 - accuracy: 0.5039 - val_loss: 0.6934 - val_accuracy: 0.4843\n",
            "Epoch 89/100\n",
            "125/125 [==============================] - 35s 281ms/step - loss: 0.6931 - accuracy: 0.5039 - val_loss: 0.6933 - val_accuracy: 0.4843\n",
            "Epoch 90/100\n",
            "125/125 [==============================] - 34s 275ms/step - loss: 0.6931 - accuracy: 0.5039 - val_loss: 0.6934 - val_accuracy: 0.4843\n",
            "Epoch 91/100\n",
            "125/125 [==============================] - 34s 276ms/step - loss: 0.6931 - accuracy: 0.5039 - val_loss: 0.6933 - val_accuracy: 0.4843\n",
            "Epoch 92/100\n",
            "125/125 [==============================] - 34s 275ms/step - loss: 0.6931 - accuracy: 0.5039 - val_loss: 0.6934 - val_accuracy: 0.4843\n",
            "Epoch 93/100\n",
            "125/125 [==============================] - 35s 276ms/step - loss: 0.6931 - accuracy: 0.5039 - val_loss: 0.6934 - val_accuracy: 0.4843\n",
            "Epoch 94/100\n",
            "125/125 [==============================] - 34s 276ms/step - loss: 0.6931 - accuracy: 0.5039 - val_loss: 0.6934 - val_accuracy: 0.4843\n",
            "Epoch 95/100\n",
            "125/125 [==============================] - 34s 276ms/step - loss: 0.6931 - accuracy: 0.5039 - val_loss: 0.6934 - val_accuracy: 0.4843\n",
            "Epoch 96/100\n",
            "125/125 [==============================] - 34s 275ms/step - loss: 0.6931 - accuracy: 0.5039 - val_loss: 0.6934 - val_accuracy: 0.4843\n",
            "Epoch 97/100\n",
            "125/125 [==============================] - 34s 276ms/step - loss: 0.6931 - accuracy: 0.5039 - val_loss: 0.6934 - val_accuracy: 0.4843\n",
            "Epoch 98/100\n",
            "125/125 [==============================] - 34s 275ms/step - loss: 0.6931 - accuracy: 0.5039 - val_loss: 0.6934 - val_accuracy: 0.4843\n",
            "Epoch 99/100\n",
            "125/125 [==============================] - 35s 276ms/step - loss: 0.6931 - accuracy: 0.5039 - val_loss: 0.6934 - val_accuracy: 0.4843\n",
            "Epoch 100/100\n",
            "125/125 [==============================] - 34s 276ms/step - loss: 0.6931 - accuracy: 0.5039 - val_loss: 0.6934 - val_accuracy: 0.4843\n"
          ],
          "name": "stdout"
        }
      ]
    },
    {
      "cell_type": "code",
      "metadata": {
        "id": "RVOg3AkP40iF",
        "colab": {
          "base_uri": "https://localhost:8080/",
          "height": 265
        },
        "outputId": "014d7ea4-864e-42d6-8639-79ed3e179051"
      },
      "source": [
        "plt.plot(history.history['accuracy'], label='Training accuracy')\n",
        "plt.plot(history.history['val_accuracy'], label='Validation Accuracy')\n",
        "plt.show()"
      ],
      "execution_count": null,
      "outputs": [
        {
          "output_type": "display_data",
          "data": {
            "image/png": "[encoded data removed]",
            "text/plain": [
              "<Figure size 432x288 with 1 Axes>"
            ]
          },
          "metadata": {
            "tags": [],
            "needs_background": "light"
          }
        }
      ]
    },
    {
      "cell_type": "markdown",
      "metadata": {
        "id": "anc67H1QIEvp"
      },
      "source": [
        "BiDirectional LSTM"
      ]
    },
    {
      "cell_type": "code",
      "metadata": {
        "id": "BLqFvTHkH8km"
      },
      "source": [
        "def BiDir_LSTM():\n",
        "  inp = Input(shape=[max_len])\n",
        "  x = Embedding(max_words,50,input_length=max_len)(inp)\n",
        "  for i in range(0,5):\n",
        "    x = Bidirectional(LSTM(256, return_sequences=True, dropout=0.25, recurrent_dropout=0))(x)\n",
        "    x = Bidirectional(LSTM(256, return_sequences=True, dropout=0.25, recurrent_dropout=0))(x)\n",
        "  x = GlobalMaxPool1D()(x)\n",
        "  x = Dense(256, activation=\"relu\")(x)\n",
        "  x = Dropout(0.2)(x)\n",
        "  x = Dense(1, activation=\"sigmoid\")(x)\n",
        "  model = Model(inputs=inp, outputs=x)\n",
        "  return model"
      ],
      "execution_count": null,
      "outputs": []
    },
    {
      "cell_type": "code",
      "metadata": {
        "id": "VRdN1VyuIY2k",
        "colab": {
          "base_uri": "https://localhost:8080/"
        },
        "outputId": "050da517-b2a6-4d87-e8d5-7c10b8e3f479"
      },
      "source": [
        "model = BiDir_LSTM()\n",
        "model.summary()\n",
        "model.compile(loss='binary_crossentropy',optimizer=RMSprop(),metrics=['accuracy'])"
      ],
      "execution_count": null,
      "outputs": [
        {
          "output_type": "stream",
          "text": [
            "Model: \"functional_15\"\n",
            "_________________________________________________________________\n",
            "Layer (type)                 Output Shape              Param #   \n",
            "=================================================================\n",
            "input_15 (InputLayer)        [(None, 150)]             0         \n",
            "_________________________________________________________________\n",
            "embedding_14 (Embedding)     (None, 150, 50)           500000    \n",
            "_________________________________________________________________\n",
            "bidirectional_9 (Bidirection (None, 150, 512)          628736    \n",
            "_________________________________________________________________\n",
            "bidirectional_10 (Bidirectio (None, 150, 512)          1574912   \n",
            "_________________________________________________________________\n",
            "bidirectional_11 (Bidirectio (None, 150, 512)          1574912   \n",
            "_________________________________________________________________\n",
            "bidirectional_12 (Bidirectio (None, 150, 512)          1574912   \n",
            "_________________________________________________________________\n",
            "bidirectional_13 (Bidirectio (None, 150, 512)          1574912   \n",
            "_________________________________________________________________\n",
            "bidirectional_14 (Bidirectio (None, 150, 512)          1574912   \n",
            "_________________________________________________________________\n",
            "bidirectional_15 (Bidirectio (None, 150, 512)          1574912   \n",
            "_________________________________________________________________\n",
            "bidirectional_16 (Bidirectio (None, 150, 512)          1574912   \n",
            "_________________________________________________________________\n",
            "bidirectional_17 (Bidirectio (None, 150, 512)          1574912   \n",
            "_________________________________________________________________\n",
            "bidirectional_18 (Bidirectio (None, 150, 512)          1574912   \n",
            "_________________________________________________________________\n",
            "global_max_pooling1d_7 (Glob (None, 512)               0         \n",
            "_________________________________________________________________\n",
            "dense_17 (Dense)             (None, 256)               131328    \n",
            "_________________________________________________________________\n",
            "dropout_31 (Dropout)         (None, 256)               0         \n",
            "_________________________________________________________________\n",
            "dense_18 (Dense)             (None, 1)                 257       \n",
            "=================================================================\n",
            "Total params: 15,434,529\n",
            "Trainable params: 15,434,529\n",
            "Non-trainable params: 0\n",
            "_________________________________________________________________\n"
          ],
          "name": "stdout"
        }
      ]
    },
    {
      "cell_type": "code",
      "metadata": {
        "id": "sdi2IENDIi8d",
        "colab": {
          "base_uri": "https://localhost:8080/"
        },
        "outputId": "4392ed4a-f6de-463a-e7c4-4aedb7ec6247"
      },
      "source": [
        "history = model.fit(sequences_matrix, Y,validation_split=0.2, batch_size=128, epochs=100)"
      ],
      "execution_count": null,
      "outputs": [
        {
          "output_type": "stream",
          "text": [
            "Epoch 1/100\n",
            "125/125 [==============================] - 106s 851ms/step - loss: 0.7171 - accuracy: 0.4956 - val_loss: 0.6927 - val_accuracy: 0.5157\n",
            "Epoch 2/100\n",
            "125/125 [==============================] - 100s 803ms/step - loss: 0.6940 - accuracy: 0.5066 - val_loss: 0.6938 - val_accuracy: 0.4843\n",
            "Epoch 3/100\n",
            "125/125 [==============================] - 100s 801ms/step - loss: 0.6937 - accuracy: 0.4988 - val_loss: 0.6938 - val_accuracy: 0.4843\n",
            "Epoch 4/100\n",
            "125/125 [==============================] - 100s 801ms/step - loss: 0.6938 - accuracy: 0.5006 - val_loss: 0.6935 - val_accuracy: 0.4843\n",
            "Epoch 5/100\n",
            "125/125 [==============================] - 100s 801ms/step - loss: 0.6937 - accuracy: 0.4980 - val_loss: 0.6949 - val_accuracy: 0.4843\n",
            "Epoch 6/100\n",
            "125/125 [==============================] - 100s 803ms/step - loss: 0.6934 - accuracy: 0.4999 - val_loss: 0.6927 - val_accuracy: 0.5157\n",
            "Epoch 7/100\n",
            "125/125 [==============================] - 100s 801ms/step - loss: 0.7060 - accuracy: 0.5020 - val_loss: 0.6944 - val_accuracy: 0.4843\n",
            "Epoch 8/100\n",
            "125/125 [==============================] - 100s 801ms/step - loss: 0.6935 - accuracy: 0.4954 - val_loss: 0.6930 - val_accuracy: 0.5157\n",
            "Epoch 9/100\n",
            "125/125 [==============================] - 100s 800ms/step - loss: 0.6933 - accuracy: 0.5043 - val_loss: 0.6936 - val_accuracy: 0.4843\n",
            "Epoch 10/100\n",
            "125/125 [==============================] - 100s 801ms/step - loss: 0.6935 - accuracy: 0.4968 - val_loss: 0.6931 - val_accuracy: 0.5157\n",
            "Epoch 11/100\n",
            "125/125 [==============================] - 100s 802ms/step - loss: 0.6934 - accuracy: 0.5029 - val_loss: 0.6942 - val_accuracy: 0.4843\n",
            "Epoch 12/100\n",
            "125/125 [==============================] - 100s 801ms/step - loss: 0.6932 - accuracy: 0.5032 - val_loss: 0.6937 - val_accuracy: 0.4843\n",
            "Epoch 13/100\n",
            "125/125 [==============================] - 100s 800ms/step - loss: 0.6935 - accuracy: 0.4956 - val_loss: 0.6940 - val_accuracy: 0.4843\n",
            "Epoch 14/100\n",
            "125/125 [==============================] - 100s 801ms/step - loss: 0.6936 - accuracy: 0.4990 - val_loss: 0.6956 - val_accuracy: 0.4843\n",
            "Epoch 15/100\n",
            "125/125 [==============================] - 100s 800ms/step - loss: 0.6933 - accuracy: 0.5067 - val_loss: 0.6937 - val_accuracy: 0.4843\n",
            "Epoch 16/100\n",
            "125/125 [==============================] - 100s 799ms/step - loss: 0.6932 - accuracy: 0.5054 - val_loss: 0.6930 - val_accuracy: 0.5157\n",
            "Epoch 17/100\n",
            "125/125 [==============================] - 100s 799ms/step - loss: 0.6932 - accuracy: 0.5006 - val_loss: 0.6932 - val_accuracy: 0.4843\n",
            "Epoch 18/100\n",
            "125/125 [==============================] - 100s 799ms/step - loss: 0.6931 - accuracy: 0.5001 - val_loss: 0.6933 - val_accuracy: 0.4843\n",
            "Epoch 19/100\n",
            "125/125 [==============================] - 100s 799ms/step - loss: 0.6930 - accuracy: 0.5011 - val_loss: 0.6932 - val_accuracy: 0.4843\n",
            "Epoch 20/100\n",
            "125/125 [==============================] - 100s 801ms/step - loss: 0.6930 - accuracy: 0.5047 - val_loss: 0.6934 - val_accuracy: 0.4843\n",
            "Epoch 21/100\n",
            "125/125 [==============================] - 100s 800ms/step - loss: 0.6931 - accuracy: 0.4975 - val_loss: 0.6934 - val_accuracy: 0.4843\n",
            "Epoch 22/100\n",
            "125/125 [==============================] - 100s 800ms/step - loss: 0.6931 - accuracy: 0.5021 - val_loss: 0.6933 - val_accuracy: 0.4843\n",
            "Epoch 23/100\n",
            "125/125 [==============================] - 100s 799ms/step - loss: 0.6931 - accuracy: 0.4973 - val_loss: 0.6936 - val_accuracy: 0.4843\n",
            "Epoch 24/100\n",
            "125/125 [==============================] - 100s 799ms/step - loss: 0.6930 - accuracy: 0.5040 - val_loss: 0.6936 - val_accuracy: 0.4843\n",
            "Epoch 25/100\n",
            "125/125 [==============================] - 100s 799ms/step - loss: 0.6931 - accuracy: 0.5035 - val_loss: 0.6934 - val_accuracy: 0.4843\n",
            "Epoch 26/100\n",
            "125/125 [==============================] - 100s 799ms/step - loss: 0.6930 - accuracy: 0.5036 - val_loss: 0.6934 - val_accuracy: 0.4843\n",
            "Epoch 27/100\n",
            "125/125 [==============================] - 100s 799ms/step - loss: 0.6930 - accuracy: 0.5041 - val_loss: 0.6933 - val_accuracy: 0.4843\n",
            "Epoch 28/100\n",
            "125/125 [==============================] - 100s 800ms/step - loss: 0.6930 - accuracy: 0.5037 - val_loss: 0.6934 - val_accuracy: 0.4843\n",
            "Epoch 29/100\n",
            "125/125 [==============================] - 100s 799ms/step - loss: 0.6930 - accuracy: 0.5034 - val_loss: 0.6936 - val_accuracy: 0.4843\n",
            "Epoch 30/100\n",
            "125/125 [==============================] - 100s 799ms/step - loss: 0.6930 - accuracy: 0.5036 - val_loss: 0.6935 - val_accuracy: 0.4843\n",
            "Epoch 31/100\n",
            "125/125 [==============================] - 100s 798ms/step - loss: 0.6931 - accuracy: 0.5017 - val_loss: 0.6935 - val_accuracy: 0.4843\n",
            "Epoch 32/100\n",
            "125/125 [==============================] - 100s 798ms/step - loss: 0.6930 - accuracy: 0.5057 - val_loss: 0.6936 - val_accuracy: 0.4843\n",
            "Epoch 33/100\n",
            "125/125 [==============================] - 100s 798ms/step - loss: 0.6931 - accuracy: 0.5025 - val_loss: 0.6936 - val_accuracy: 0.4843\n",
            "Epoch 34/100\n",
            "125/125 [==============================] - 100s 800ms/step - loss: 0.6930 - accuracy: 0.5042 - val_loss: 0.6937 - val_accuracy: 0.4843\n",
            "Epoch 35/100\n",
            "125/125 [==============================] - 100s 800ms/step - loss: 0.6930 - accuracy: 0.5041 - val_loss: 0.6934 - val_accuracy: 0.4843\n",
            "Epoch 36/100\n",
            "125/125 [==============================] - 100s 801ms/step - loss: 0.6930 - accuracy: 0.5038 - val_loss: 0.6935 - val_accuracy: 0.4843\n",
            "Epoch 37/100\n",
            "125/125 [==============================] - 100s 799ms/step - loss: 0.6930 - accuracy: 0.5040 - val_loss: 0.6935 - val_accuracy: 0.4843\n",
            "Epoch 38/100\n",
            "125/125 [==============================] - 100s 799ms/step - loss: 0.6930 - accuracy: 0.5032 - val_loss: 0.6933 - val_accuracy: 0.4843\n",
            "Epoch 39/100\n",
            "125/125 [==============================] - 100s 799ms/step - loss: 0.6930 - accuracy: 0.5021 - val_loss: 0.6935 - val_accuracy: 0.4843\n",
            "Epoch 40/100\n",
            "125/125 [==============================] - 100s 799ms/step - loss: 0.6930 - accuracy: 0.5046 - val_loss: 0.6935 - val_accuracy: 0.4843\n",
            "Epoch 41/100\n",
            "125/125 [==============================] - 100s 799ms/step - loss: 0.6930 - accuracy: 0.5041 - val_loss: 0.6934 - val_accuracy: 0.4843\n",
            "Epoch 42/100\n",
            "125/125 [==============================] - 100s 799ms/step - loss: 0.6930 - accuracy: 0.5037 - val_loss: 0.6934 - val_accuracy: 0.4843\n",
            "Epoch 43/100\n",
            "125/125 [==============================] - 100s 800ms/step - loss: 0.6930 - accuracy: 0.5038 - val_loss: 0.6933 - val_accuracy: 0.4843\n",
            "Epoch 44/100\n",
            "125/125 [==============================] - 100s 800ms/step - loss: 0.6930 - accuracy: 0.5033 - val_loss: 0.6935 - val_accuracy: 0.4843\n",
            "Epoch 45/100\n",
            "125/125 [==============================] - 100s 798ms/step - loss: 0.6930 - accuracy: 0.5041 - val_loss: 0.6934 - val_accuracy: 0.4843\n",
            "Epoch 46/100\n",
            "125/125 [==============================] - 100s 800ms/step - loss: 0.6930 - accuracy: 0.5025 - val_loss: 0.6934 - val_accuracy: 0.4843\n",
            "Epoch 47/100\n",
            "125/125 [==============================] - 100s 799ms/step - loss: 0.6930 - accuracy: 0.5022 - val_loss: 0.6935 - val_accuracy: 0.4843\n",
            "Epoch 48/100\n",
            "125/125 [==============================] - 100s 801ms/step - loss: 0.6930 - accuracy: 0.5039 - val_loss: 0.6934 - val_accuracy: 0.4843\n",
            "Epoch 49/100\n",
            "125/125 [==============================] - 100s 801ms/step - loss: 0.6930 - accuracy: 0.5040 - val_loss: 0.6934 - val_accuracy: 0.4843\n",
            "Epoch 50/100\n",
            "125/125 [==============================] - 100s 801ms/step - loss: 0.6930 - accuracy: 0.5031 - val_loss: 0.6934 - val_accuracy: 0.4843\n",
            "Epoch 51/100\n",
            "125/125 [==============================] - 100s 799ms/step - loss: 0.6930 - accuracy: 0.5041 - val_loss: 0.6934 - val_accuracy: 0.4843\n",
            "Epoch 52/100\n",
            "125/125 [==============================] - 100s 799ms/step - loss: 0.6930 - accuracy: 0.5040 - val_loss: 0.6934 - val_accuracy: 0.4843\n",
            "Epoch 53/100\n",
            "125/125 [==============================] - 100s 800ms/step - loss: 0.6930 - accuracy: 0.5039 - val_loss: 0.6933 - val_accuracy: 0.4843\n",
            "Epoch 54/100\n",
            "125/125 [==============================] - 100s 801ms/step - loss: 0.6930 - accuracy: 0.5014 - val_loss: 0.6934 - val_accuracy: 0.4843\n",
            "Epoch 55/100\n",
            "125/125 [==============================] - 100s 801ms/step - loss: 0.6930 - accuracy: 0.5041 - val_loss: 0.6934 - val_accuracy: 0.4843\n",
            "Epoch 56/100\n",
            "125/125 [==============================] - 100s 800ms/step - loss: 0.6930 - accuracy: 0.5025 - val_loss: 0.6934 - val_accuracy: 0.4843\n",
            "Epoch 57/100\n",
            "125/125 [==============================] - 100s 798ms/step - loss: 0.6930 - accuracy: 0.5024 - val_loss: 0.6934 - val_accuracy: 0.4843\n",
            "Epoch 58/100\n",
            "125/125 [==============================] - 100s 799ms/step - loss: 0.6930 - accuracy: 0.5043 - val_loss: 0.6935 - val_accuracy: 0.4843\n",
            "Epoch 59/100\n",
            "125/125 [==============================] - 100s 800ms/step - loss: 0.6930 - accuracy: 0.5039 - val_loss: 0.6934 - val_accuracy: 0.4843\n",
            "Epoch 60/100\n",
            "125/125 [==============================] - 100s 798ms/step - loss: 0.6930 - accuracy: 0.5038 - val_loss: 0.6933 - val_accuracy: 0.4843\n",
            "Epoch 61/100\n",
            "125/125 [==============================] - 100s 799ms/step - loss: 0.6930 - accuracy: 0.5032 - val_loss: 0.6933 - val_accuracy: 0.4843\n",
            "Epoch 62/100\n",
            "125/125 [==============================] - 100s 801ms/step - loss: 0.6930 - accuracy: 0.5019 - val_loss: 0.6934 - val_accuracy: 0.4843\n",
            "Epoch 63/100\n",
            "125/125 [==============================] - 100s 800ms/step - loss: 0.6930 - accuracy: 0.5040 - val_loss: 0.6935 - val_accuracy: 0.4843\n",
            "Epoch 64/100\n",
            "125/125 [==============================] - 100s 800ms/step - loss: 0.6930 - accuracy: 0.5024 - val_loss: 0.6934 - val_accuracy: 0.4843\n",
            "Epoch 65/100\n",
            "125/125 [==============================] - 100s 799ms/step - loss: 0.6930 - accuracy: 0.5031 - val_loss: 0.6934 - val_accuracy: 0.4843\n",
            "Epoch 66/100\n",
            "125/125 [==============================] - 100s 799ms/step - loss: 0.6930 - accuracy: 0.5055 - val_loss: 0.6935 - val_accuracy: 0.4843\n",
            "Epoch 67/100\n",
            "125/125 [==============================] - 100s 799ms/step - loss: 0.6930 - accuracy: 0.5040 - val_loss: 0.6933 - val_accuracy: 0.4843\n",
            "Epoch 68/100\n",
            "125/125 [==============================] - 100s 800ms/step - loss: 0.6930 - accuracy: 0.5022 - val_loss: 0.6935 - val_accuracy: 0.4843\n",
            "Epoch 69/100\n",
            "125/125 [==============================] - 100s 801ms/step - loss: 0.6930 - accuracy: 0.5042 - val_loss: 0.6936 - val_accuracy: 0.4843\n",
            "Epoch 70/100\n",
            "125/125 [==============================] - 100s 801ms/step - loss: 0.6930 - accuracy: 0.5039 - val_loss: 0.6934 - val_accuracy: 0.4843\n",
            "Epoch 71/100\n",
            "125/125 [==============================] - 100s 799ms/step - loss: 0.6930 - accuracy: 0.5042 - val_loss: 0.6935 - val_accuracy: 0.4843\n",
            "Epoch 72/100\n",
            "125/125 [==============================] - 100s 799ms/step - loss: 0.6930 - accuracy: 0.5039 - val_loss: 0.6935 - val_accuracy: 0.4843\n",
            "Epoch 73/100\n",
            "125/125 [==============================] - 100s 798ms/step - loss: 0.6930 - accuracy: 0.5044 - val_loss: 0.6935 - val_accuracy: 0.4843\n",
            "Epoch 74/100\n",
            "125/125 [==============================] - 100s 798ms/step - loss: 0.6930 - accuracy: 0.5037 - val_loss: 0.6934 - val_accuracy: 0.4843\n",
            "Epoch 75/100\n",
            "125/125 [==============================] - 100s 800ms/step - loss: 0.6930 - accuracy: 0.5024 - val_loss: 0.6934 - val_accuracy: 0.4843\n",
            "Epoch 76/100\n",
            "125/125 [==============================] - 100s 800ms/step - loss: 0.6930 - accuracy: 0.5027 - val_loss: 0.6935 - val_accuracy: 0.4843\n",
            "Epoch 77/100\n",
            "125/125 [==============================] - 100s 798ms/step - loss: 0.6930 - accuracy: 0.5036 - val_loss: 0.6935 - val_accuracy: 0.4843\n",
            "Epoch 78/100\n",
            "125/125 [==============================] - 100s 798ms/step - loss: 0.6930 - accuracy: 0.5039 - val_loss: 0.6935 - val_accuracy: 0.4843\n",
            "Epoch 79/100\n",
            "125/125 [==============================] - 100s 799ms/step - loss: 0.6931 - accuracy: 0.5037 - val_loss: 0.6934 - val_accuracy: 0.4843\n",
            "Epoch 80/100\n",
            "125/125 [==============================] - 100s 799ms/step - loss: 0.6930 - accuracy: 0.5032 - val_loss: 0.6935 - val_accuracy: 0.4843\n",
            "Epoch 81/100\n",
            "125/125 [==============================] - 100s 799ms/step - loss: 0.6930 - accuracy: 0.5004 - val_loss: 0.6935 - val_accuracy: 0.4843\n",
            "Epoch 82/100\n",
            "125/125 [==============================] - 100s 799ms/step - loss: 0.6930 - accuracy: 0.5039 - val_loss: 0.6934 - val_accuracy: 0.4843\n",
            "Epoch 83/100\n",
            "125/125 [==============================] - 100s 799ms/step - loss: 0.6930 - accuracy: 0.5029 - val_loss: 0.6935 - val_accuracy: 0.4843\n",
            "Epoch 84/100\n",
            "125/125 [==============================] - 100s 800ms/step - loss: 0.6930 - accuracy: 0.5039 - val_loss: 0.6934 - val_accuracy: 0.4843\n",
            "Epoch 85/100\n",
            "125/125 [==============================] - 100s 799ms/step - loss: 0.6930 - accuracy: 0.5039 - val_loss: 0.6935 - val_accuracy: 0.4843\n",
            "Epoch 86/100\n",
            "125/125 [==============================] - 100s 798ms/step - loss: 0.6930 - accuracy: 0.5038 - val_loss: 0.6935 - val_accuracy: 0.4843\n",
            "Epoch 87/100\n",
            "125/125 [==============================] - 100s 797ms/step - loss: 0.6930 - accuracy: 0.5037 - val_loss: 0.6935 - val_accuracy: 0.4843\n",
            "Epoch 88/100\n",
            "125/125 [==============================] - 100s 799ms/step - loss: 0.6930 - accuracy: 0.5039 - val_loss: 0.6934 - val_accuracy: 0.4843\n",
            "Epoch 89/100\n",
            "125/125 [==============================] - 100s 799ms/step - loss: 0.6930 - accuracy: 0.5048 - val_loss: 0.6933 - val_accuracy: 0.4843\n",
            "Epoch 90/100\n",
            "125/125 [==============================] - 100s 800ms/step - loss: 0.6930 - accuracy: 0.5042 - val_loss: 0.6934 - val_accuracy: 0.4843\n",
            "Epoch 91/100\n",
            "125/125 [==============================] - 100s 800ms/step - loss: 0.6930 - accuracy: 0.5039 - val_loss: 0.6933 - val_accuracy: 0.4843\n",
            "Epoch 92/100\n",
            "125/125 [==============================] - 100s 798ms/step - loss: 0.6930 - accuracy: 0.5050 - val_loss: 0.6934 - val_accuracy: 0.4843\n",
            "Epoch 93/100\n",
            "125/125 [==============================] - 100s 798ms/step - loss: 0.6930 - accuracy: 0.5032 - val_loss: 0.6933 - val_accuracy: 0.4843\n",
            "Epoch 94/100\n",
            "125/125 [==============================] - 100s 799ms/step - loss: 0.6930 - accuracy: 0.5013 - val_loss: 0.6933 - val_accuracy: 0.4843\n",
            "Epoch 95/100\n",
            "125/125 [==============================] - 100s 799ms/step - loss: 0.6930 - accuracy: 0.5026 - val_loss: 0.6933 - val_accuracy: 0.4843\n",
            "Epoch 96/100\n",
            "125/125 [==============================] - 100s 798ms/step - loss: 0.6930 - accuracy: 0.5034 - val_loss: 0.6934 - val_accuracy: 0.4843\n",
            "Epoch 97/100\n",
            "125/125 [==============================] - 100s 798ms/step - loss: 0.6930 - accuracy: 0.5036 - val_loss: 0.6935 - val_accuracy: 0.4843\n",
            "Epoch 98/100\n",
            "125/125 [==============================] - 100s 799ms/step - loss: 0.6930 - accuracy: 0.5039 - val_loss: 0.6934 - val_accuracy: 0.4843\n",
            "Epoch 99/100\n",
            "125/125 [==============================] - 100s 798ms/step - loss: 0.6930 - accuracy: 0.5039 - val_loss: 0.6934 - val_accuracy: 0.4843\n",
            "Epoch 100/100\n",
            "125/125 [==============================] - 100s 799ms/step - loss: 0.6930 - accuracy: 0.5036 - val_loss: 0.6934 - val_accuracy: 0.4843\n"
          ],
          "name": "stdout"
        }
      ]
    },
    {
      "cell_type": "code",
      "metadata": {
        "id": "Z6xXVPpnJP1r",
        "colab": {
          "base_uri": "https://localhost:8080/",
          "height": 265
        },
        "outputId": "d9d54ebf-17d2-452f-b5f9-b65dd6ef4e83"
      },
      "source": [
        "plt.plot(history.history['accuracy'], label='Training accuracy')\n",
        "plt.plot(history.history['val_accuracy'], label='Validation Accuracy')\n",
        "plt.show()"
      ],
      "execution_count": null,
      "outputs": [
        {
          "output_type": "display_data",
          "data": {
            "image/png": "[encoded data removed]",
            "text/plain": [
              "<Figure size 432x288 with 1 Axes>"
            ]
          },
          "metadata": {
            "tags": [],
            "needs_background": "light"
          }
        }
      ]
    },
    {
      "cell_type": "markdown",
      "metadata": {
        "id": "FbD5SRCmwD4m"
      },
      "source": [
        ""
      ]
    },
    {
      "cell_type": "code",
      "metadata": {
        "id": "Jv9f47zBv72R"
      },
      "source": [
        "def BiDir_LSTM_single_layer():\n",
        "  inp = Input(shape=[max_len])\n",
        "  x = Embedding(max_words,50,input_length=max_len)(inp)\n",
        "  x = Bidirectional(LSTM(256, return_sequences=True, dropout=0.25, recurrent_dropout=0))(x)\n",
        "  x = Bidirectional(LSTM(256, return_sequences=True, dropout=0.25, recurrent_dropout=0))(x)\n",
        "  x = GlobalMaxPool1D()(x)\n",
        "  x = Dense(256, activation=\"relu\")(x)\n",
        "  x = Dropout(0.2)(x)\n",
        "  x = Dense(1, activation=\"sigmoid\")(x)\n",
        "  model = Model(inputs=inp, outputs=x)\n",
        "  return model"
      ],
      "execution_count": null,
      "outputs": []
    },
    {
      "cell_type": "code",
      "metadata": {
        "id": "cy9d0tmlwQWf",
        "colab": {
          "base_uri": "https://localhost:8080/"
        },
        "outputId": "d19d000c-63de-4128-a5cd-b2c4b19ed103"
      },
      "source": [
        "model = BiDir_LSTM_single_layer()\n",
        "model.summary()\n",
        "model.compile(loss='binary_crossentropy',optimizer=RMSprop(),metrics=['accuracy'])"
      ],
      "execution_count": null,
      "outputs": [
        {
          "output_type": "stream",
          "text": [
            "Model: \"functional_19\"\n",
            "_________________________________________________________________\n",
            "Layer (type)                 Output Shape              Param #   \n",
            "=================================================================\n",
            "input_17 (InputLayer)        [(None, 150)]             0         \n",
            "_________________________________________________________________\n",
            "embedding_16 (Embedding)     (None, 150, 50)           500000    \n",
            "_________________________________________________________________\n",
            "bidirectional_29 (Bidirectio (None, 150, 512)          628736    \n",
            "_________________________________________________________________\n",
            "bidirectional_30 (Bidirectio (None, 150, 512)          1574912   \n",
            "_________________________________________________________________\n",
            "global_max_pooling1d_9 (Glob (None, 512)               0         \n",
            "_________________________________________________________________\n",
            "dense_21 (Dense)             (None, 256)               131328    \n",
            "_________________________________________________________________\n",
            "dropout_38 (Dropout)         (None, 256)               0         \n",
            "_________________________________________________________________\n",
            "dense_22 (Dense)             (None, 1)                 257       \n",
            "=================================================================\n",
            "Total params: 2,835,233\n",
            "Trainable params: 2,835,233\n",
            "Non-trainable params: 0\n",
            "_________________________________________________________________\n"
          ],
          "name": "stdout"
        }
      ]
    },
    {
      "cell_type": "code",
      "metadata": {
        "id": "wm4bZSI1wapn",
        "colab": {
          "base_uri": "https://localhost:8080/"
        },
        "outputId": "8791e20b-7496-482f-ede5-f78dff653b03"
      },
      "source": [
        "history = model.fit(sequences_matrix, Y,validation_split=0.2, batch_size=128, epochs=100)"
      ],
      "execution_count": null,
      "outputs": [
        {
          "output_type": "stream",
          "text": [
            "Epoch 1/100\n",
            "125/125 [==============================] - 18s 147ms/step - loss: 0.6271 - accuracy: 0.6932 - val_loss: 0.5129 - val_accuracy: 0.7588\n",
            "Epoch 2/100\n",
            "125/125 [==============================] - 17s 139ms/step - loss: 0.4869 - accuracy: 0.7773 - val_loss: 0.5149 - val_accuracy: 0.7563\n",
            "Epoch 3/100\n",
            "125/125 [==============================] - 17s 136ms/step - loss: 0.4243 - accuracy: 0.8143 - val_loss: 0.5033 - val_accuracy: 0.7520\n",
            "Epoch 4/100\n",
            "125/125 [==============================] - 17s 134ms/step - loss: 0.3764 - accuracy: 0.8369 - val_loss: 0.5377 - val_accuracy: 0.7510\n",
            "Epoch 5/100\n",
            "125/125 [==============================] - 17s 135ms/step - loss: 0.3379 - accuracy: 0.8544 - val_loss: 0.5765 - val_accuracy: 0.7628\n",
            "Epoch 6/100\n",
            "125/125 [==============================] - 17s 136ms/step - loss: 0.2967 - accuracy: 0.8750 - val_loss: 0.6045 - val_accuracy: 0.7517\n",
            "Epoch 7/100\n",
            "125/125 [==============================] - 17s 137ms/step - loss: 0.2552 - accuracy: 0.8931 - val_loss: 0.6137 - val_accuracy: 0.7318\n",
            "Epoch 8/100\n",
            "125/125 [==============================] - 17s 136ms/step - loss: 0.2165 - accuracy: 0.9129 - val_loss: 0.7065 - val_accuracy: 0.7487\n",
            "Epoch 9/100\n",
            "125/125 [==============================] - 17s 136ms/step - loss: 0.1829 - accuracy: 0.9282 - val_loss: 0.7307 - val_accuracy: 0.7398\n",
            "Epoch 10/100\n",
            "125/125 [==============================] - 17s 136ms/step - loss: 0.1539 - accuracy: 0.9410 - val_loss: 0.7801 - val_accuracy: 0.7165\n",
            "Epoch 11/100\n",
            "125/125 [==============================] - 17s 136ms/step - loss: 0.1299 - accuracy: 0.9488 - val_loss: 0.9172 - val_accuracy: 0.7390\n",
            "Epoch 12/100\n",
            "125/125 [==============================] - 17s 136ms/step - loss: 0.1102 - accuracy: 0.9587 - val_loss: 1.0482 - val_accuracy: 0.7220\n",
            "Epoch 13/100\n",
            "125/125 [==============================] - 17s 136ms/step - loss: 0.0954 - accuracy: 0.9627 - val_loss: 1.0558 - val_accuracy: 0.6950\n",
            "Epoch 14/100\n",
            "125/125 [==============================] - 17s 136ms/step - loss: 0.0790 - accuracy: 0.9694 - val_loss: 1.2599 - val_accuracy: 0.7330\n",
            "Epoch 15/100\n",
            "125/125 [==============================] - 17s 136ms/step - loss: 0.0682 - accuracy: 0.9744 - val_loss: 1.3968 - val_accuracy: 0.7107\n",
            "Epoch 16/100\n",
            "125/125 [==============================] - 17s 136ms/step - loss: 0.0598 - accuracy: 0.9773 - val_loss: 1.4087 - val_accuracy: 0.7210\n",
            "Epoch 17/100\n",
            "125/125 [==============================] - 17s 136ms/step - loss: 0.0502 - accuracy: 0.9822 - val_loss: 1.3887 - val_accuracy: 0.6950\n",
            "Epoch 18/100\n",
            "125/125 [==============================] - 17s 136ms/step - loss: 0.0415 - accuracy: 0.9838 - val_loss: 1.8096 - val_accuracy: 0.7287\n",
            "Epoch 19/100\n",
            "125/125 [==============================] - 17s 136ms/step - loss: 0.0384 - accuracy: 0.9862 - val_loss: 1.6335 - val_accuracy: 0.7205\n",
            "Epoch 20/100\n",
            "125/125 [==============================] - 17s 137ms/step - loss: 0.0309 - accuracy: 0.9888 - val_loss: 1.9867 - val_accuracy: 0.7088\n",
            "Epoch 21/100\n",
            "125/125 [==============================] - 17s 136ms/step - loss: 0.0277 - accuracy: 0.9895 - val_loss: 2.2405 - val_accuracy: 0.7090\n",
            "Epoch 22/100\n",
            "125/125 [==============================] - 17s 137ms/step - loss: 0.0226 - accuracy: 0.9915 - val_loss: 2.3138 - val_accuracy: 0.6980\n",
            "Epoch 23/100\n",
            "125/125 [==============================] - 17s 137ms/step - loss: 0.0219 - accuracy: 0.9925 - val_loss: 2.4551 - val_accuracy: 0.7153\n",
            "Epoch 24/100\n",
            "125/125 [==============================] - 17s 136ms/step - loss: 0.0202 - accuracy: 0.9933 - val_loss: 2.3584 - val_accuracy: 0.7135\n",
            "Epoch 25/100\n",
            "125/125 [==============================] - 17s 136ms/step - loss: 0.0138 - accuracy: 0.9954 - val_loss: 2.3344 - val_accuracy: 0.7157\n",
            "Epoch 26/100\n",
            "125/125 [==============================] - 17s 136ms/step - loss: 0.0129 - accuracy: 0.9954 - val_loss: 3.4258 - val_accuracy: 0.7197\n",
            "Epoch 27/100\n",
            "125/125 [==============================] - 17s 136ms/step - loss: 0.0131 - accuracy: 0.9957 - val_loss: 2.7601 - val_accuracy: 0.7053\n",
            "Epoch 28/100\n",
            "125/125 [==============================] - 17s 136ms/step - loss: 0.0119 - accuracy: 0.9955 - val_loss: 2.7895 - val_accuracy: 0.7232\n",
            "Epoch 29/100\n",
            "125/125 [==============================] - 17s 136ms/step - loss: 0.0127 - accuracy: 0.9962 - val_loss: 2.7654 - val_accuracy: 0.7168\n",
            "Epoch 30/100\n",
            "125/125 [==============================] - 17s 136ms/step - loss: 0.0085 - accuracy: 0.9969 - val_loss: 3.3676 - val_accuracy: 0.7080\n",
            "Epoch 31/100\n",
            "125/125 [==============================] - 17s 136ms/step - loss: 0.0100 - accuracy: 0.9967 - val_loss: 3.5747 - val_accuracy: 0.6982\n",
            "Epoch 32/100\n",
            "125/125 [==============================] - 17s 136ms/step - loss: 0.0102 - accuracy: 0.9966 - val_loss: 3.1788 - val_accuracy: 0.7107\n",
            "Epoch 33/100\n",
            "125/125 [==============================] - 17s 136ms/step - loss: 0.0070 - accuracy: 0.9977 - val_loss: 3.5160 - val_accuracy: 0.7185\n",
            "Epoch 34/100\n",
            "125/125 [==============================] - 17s 136ms/step - loss: 0.0109 - accuracy: 0.9976 - val_loss: 2.9936 - val_accuracy: 0.7105\n",
            "Epoch 35/100\n",
            "125/125 [==============================] - 17s 137ms/step - loss: 0.0089 - accuracy: 0.9967 - val_loss: 3.2934 - val_accuracy: 0.7082\n",
            "Epoch 36/100\n",
            "125/125 [==============================] - 17s 135ms/step - loss: 0.0056 - accuracy: 0.9982 - val_loss: 3.5014 - val_accuracy: 0.7030\n",
            "Epoch 37/100\n",
            "125/125 [==============================] - 17s 135ms/step - loss: 0.0069 - accuracy: 0.9977 - val_loss: 3.8900 - val_accuracy: 0.7020\n",
            "Epoch 38/100\n",
            "125/125 [==============================] - 17s 136ms/step - loss: 0.0062 - accuracy: 0.9981 - val_loss: 3.9187 - val_accuracy: 0.7315\n",
            "Epoch 39/100\n",
            "125/125 [==============================] - 17s 136ms/step - loss: 0.0062 - accuracy: 0.9977 - val_loss: 4.1875 - val_accuracy: 0.7090\n",
            "Epoch 40/100\n",
            "125/125 [==============================] - 17s 136ms/step - loss: 0.0051 - accuracy: 0.9984 - val_loss: 4.8234 - val_accuracy: 0.6985\n",
            "Epoch 41/100\n",
            "125/125 [==============================] - 17s 135ms/step - loss: 0.0059 - accuracy: 0.9986 - val_loss: 3.7791 - val_accuracy: 0.6885\n",
            "Epoch 42/100\n",
            "125/125 [==============================] - 17s 135ms/step - loss: 0.0042 - accuracy: 0.9986 - val_loss: 4.3218 - val_accuracy: 0.7035\n",
            "Epoch 43/100\n",
            "125/125 [==============================] - 17s 135ms/step - loss: 0.0072 - accuracy: 0.9975 - val_loss: 3.8045 - val_accuracy: 0.7075\n",
            "Epoch 44/100\n",
            "125/125 [==============================] - 17s 135ms/step - loss: 0.0024 - accuracy: 0.9992 - val_loss: 4.3457 - val_accuracy: 0.7055\n",
            "Epoch 45/100\n",
            "125/125 [==============================] - 17s 135ms/step - loss: 0.0060 - accuracy: 0.9986 - val_loss: 4.9386 - val_accuracy: 0.7078\n",
            "Epoch 46/100\n",
            "125/125 [==============================] - 17s 135ms/step - loss: 0.0061 - accuracy: 0.9986 - val_loss: 4.1902 - val_accuracy: 0.7005\n",
            "Epoch 47/100\n",
            "125/125 [==============================] - 17s 136ms/step - loss: 0.0068 - accuracy: 0.9983 - val_loss: 4.0820 - val_accuracy: 0.7145\n",
            "Epoch 48/100\n",
            "125/125 [==============================] - 17s 135ms/step - loss: 0.0061 - accuracy: 0.9983 - val_loss: 4.9518 - val_accuracy: 0.7065\n",
            "Epoch 49/100\n",
            "125/125 [==============================] - 17s 135ms/step - loss: 0.0051 - accuracy: 0.9981 - val_loss: 4.1886 - val_accuracy: 0.7197\n",
            "Epoch 50/100\n",
            "125/125 [==============================] - 17s 135ms/step - loss: 0.0038 - accuracy: 0.9990 - val_loss: 4.6630 - val_accuracy: 0.7100\n",
            "Epoch 51/100\n",
            "125/125 [==============================] - 17s 135ms/step - loss: 0.0064 - accuracy: 0.9984 - val_loss: 4.7191 - val_accuracy: 0.6938\n",
            "Epoch 52/100\n",
            "125/125 [==============================] - 17s 135ms/step - loss: 0.0040 - accuracy: 0.9988 - val_loss: 4.7787 - val_accuracy: 0.7145\n",
            "Epoch 53/100\n",
            "125/125 [==============================] - 17s 135ms/step - loss: 0.0040 - accuracy: 0.9986 - val_loss: 5.2614 - val_accuracy: 0.7090\n",
            "Epoch 54/100\n",
            "125/125 [==============================] - 17s 134ms/step - loss: 0.0051 - accuracy: 0.9989 - val_loss: 4.8931 - val_accuracy: 0.7078\n",
            "Epoch 55/100\n",
            "125/125 [==============================] - 17s 135ms/step - loss: 0.0027 - accuracy: 0.9989 - val_loss: 5.2599 - val_accuracy: 0.7003\n",
            "Epoch 56/100\n",
            "125/125 [==============================] - 17s 134ms/step - loss: 0.0015 - accuracy: 0.9996 - val_loss: 6.8288 - val_accuracy: 0.6977\n",
            "Epoch 57/100\n",
            "125/125 [==============================] - 17s 134ms/step - loss: 0.0034 - accuracy: 0.9993 - val_loss: 6.5863 - val_accuracy: 0.7128\n",
            "Epoch 58/100\n",
            "125/125 [==============================] - 17s 134ms/step - loss: 0.0046 - accuracy: 0.9987 - val_loss: 5.5452 - val_accuracy: 0.6970\n",
            "Epoch 59/100\n",
            "125/125 [==============================] - 17s 135ms/step - loss: 0.0068 - accuracy: 0.9984 - val_loss: 4.9422 - val_accuracy: 0.7097\n",
            "Epoch 60/100\n",
            "125/125 [==============================] - 17s 135ms/step - loss: 0.0047 - accuracy: 0.9988 - val_loss: 4.6848 - val_accuracy: 0.7120\n",
            "Epoch 61/100\n",
            "125/125 [==============================] - 17s 135ms/step - loss: 0.0041 - accuracy: 0.9987 - val_loss: 5.7552 - val_accuracy: 0.6952\n",
            "Epoch 62/100\n",
            "125/125 [==============================] - 17s 135ms/step - loss: 0.0036 - accuracy: 0.9981 - val_loss: 5.2964 - val_accuracy: 0.6923\n",
            "Epoch 63/100\n",
            "125/125 [==============================] - 17s 135ms/step - loss: 0.0034 - accuracy: 0.9989 - val_loss: 5.7055 - val_accuracy: 0.7117\n",
            "Epoch 64/100\n",
            "125/125 [==============================] - 17s 134ms/step - loss: 0.0041 - accuracy: 0.9992 - val_loss: 6.5609 - val_accuracy: 0.6820\n",
            "Epoch 65/100\n",
            "125/125 [==============================] - 17s 135ms/step - loss: 0.0032 - accuracy: 0.9988 - val_loss: 5.8690 - val_accuracy: 0.7080\n",
            "Epoch 66/100\n",
            "125/125 [==============================] - 17s 134ms/step - loss: 0.0039 - accuracy: 0.9986 - val_loss: 5.8305 - val_accuracy: 0.7107\n",
            "Epoch 67/100\n",
            "125/125 [==============================] - 17s 135ms/step - loss: 0.0025 - accuracy: 0.9991 - val_loss: 5.6790 - val_accuracy: 0.6975\n",
            "Epoch 68/100\n",
            "125/125 [==============================] - 17s 134ms/step - loss: 0.0028 - accuracy: 0.9992 - val_loss: 5.9328 - val_accuracy: 0.7020\n",
            "Epoch 69/100\n",
            "125/125 [==============================] - 17s 135ms/step - loss: 0.0030 - accuracy: 0.9992 - val_loss: 6.0831 - val_accuracy: 0.6963\n",
            "Epoch 70/100\n",
            "125/125 [==============================] - 17s 134ms/step - loss: 0.0059 - accuracy: 0.9991 - val_loss: 5.8636 - val_accuracy: 0.7023\n",
            "Epoch 71/100\n",
            "125/125 [==============================] - 17s 134ms/step - loss: 0.0024 - accuracy: 0.9994 - val_loss: 6.2405 - val_accuracy: 0.6880\n",
            "Epoch 72/100\n",
            "125/125 [==============================] - 17s 134ms/step - loss: 0.0045 - accuracy: 0.9989 - val_loss: 4.7874 - val_accuracy: 0.7020\n",
            "Epoch 73/100\n",
            "125/125 [==============================] - 17s 134ms/step - loss: 0.0033 - accuracy: 0.9994 - val_loss: 5.7737 - val_accuracy: 0.7032\n",
            "Epoch 74/100\n",
            "125/125 [==============================] - 17s 135ms/step - loss: 0.0019 - accuracy: 0.9994 - val_loss: 6.8600 - val_accuracy: 0.6982\n",
            "Epoch 75/100\n",
            "125/125 [==============================] - 17s 134ms/step - loss: 0.0047 - accuracy: 0.9992 - val_loss: 6.5948 - val_accuracy: 0.6925\n",
            "Epoch 76/100\n",
            "125/125 [==============================] - 17s 135ms/step - loss: 0.0037 - accuracy: 0.9990 - val_loss: 7.8727 - val_accuracy: 0.6905\n",
            "Epoch 77/100\n",
            "125/125 [==============================] - 17s 135ms/step - loss: 0.0058 - accuracy: 0.9988 - val_loss: 4.8061 - val_accuracy: 0.7080\n",
            "Epoch 78/100\n",
            "125/125 [==============================] - 17s 135ms/step - loss: 0.0030 - accuracy: 0.9996 - val_loss: 5.9234 - val_accuracy: 0.6920\n",
            "Epoch 79/100\n",
            "125/125 [==============================] - 17s 134ms/step - loss: 0.0032 - accuracy: 0.9991 - val_loss: 5.5209 - val_accuracy: 0.6930\n",
            "Epoch 80/100\n",
            "125/125 [==============================] - 17s 135ms/step - loss: 0.0038 - accuracy: 0.9988 - val_loss: 5.4186 - val_accuracy: 0.6925\n",
            "Epoch 81/100\n",
            "125/125 [==============================] - 17s 135ms/step - loss: 0.0022 - accuracy: 0.9994 - val_loss: 5.9245 - val_accuracy: 0.7023\n",
            "Epoch 82/100\n",
            "125/125 [==============================] - 17s 134ms/step - loss: 0.0020 - accuracy: 0.9996 - val_loss: 6.3338 - val_accuracy: 0.7053\n",
            "Epoch 83/100\n",
            "125/125 [==============================] - 17s 135ms/step - loss: 0.0022 - accuracy: 0.9991 - val_loss: 6.0636 - val_accuracy: 0.7057\n",
            "Epoch 84/100\n",
            "125/125 [==============================] - 17s 135ms/step - loss: 0.0034 - accuracy: 0.9994 - val_loss: 6.2558 - val_accuracy: 0.6960\n",
            "Epoch 85/100\n",
            "125/125 [==============================] - 17s 134ms/step - loss: 0.0026 - accuracy: 0.9992 - val_loss: 6.6578 - val_accuracy: 0.7115\n",
            "Epoch 86/100\n",
            "125/125 [==============================] - 17s 134ms/step - loss: 0.0031 - accuracy: 0.9993 - val_loss: 6.6168 - val_accuracy: 0.6957\n",
            "Epoch 87/100\n",
            "125/125 [==============================] - 17s 134ms/step - loss: 0.0040 - accuracy: 0.9989 - val_loss: 6.8663 - val_accuracy: 0.7075\n",
            "Epoch 88/100\n",
            "125/125 [==============================] - 17s 134ms/step - loss: 0.0033 - accuracy: 0.9991 - val_loss: 7.1908 - val_accuracy: 0.7007\n",
            "Epoch 89/100\n",
            "125/125 [==============================] - 17s 135ms/step - loss: 0.0036 - accuracy: 0.9988 - val_loss: 5.6101 - val_accuracy: 0.7130\n",
            "Epoch 90/100\n",
            "125/125 [==============================] - 17s 134ms/step - loss: 0.0031 - accuracy: 0.9993 - val_loss: 6.2367 - val_accuracy: 0.7017\n",
            "Epoch 91/100\n",
            "125/125 [==============================] - 17s 133ms/step - loss: 0.0035 - accuracy: 0.9992 - val_loss: 7.1951 - val_accuracy: 0.7048\n",
            "Epoch 92/100\n",
            "125/125 [==============================] - 17s 134ms/step - loss: 0.0035 - accuracy: 0.9990 - val_loss: 6.7216 - val_accuracy: 0.7053\n",
            "Epoch 93/100\n",
            "125/125 [==============================] - 17s 133ms/step - loss: 0.0031 - accuracy: 0.9994 - val_loss: 6.3938 - val_accuracy: 0.7080\n",
            "Epoch 94/100\n",
            "125/125 [==============================] - 17s 134ms/step - loss: 0.0042 - accuracy: 0.9989 - val_loss: 5.9510 - val_accuracy: 0.7030\n",
            "Epoch 95/100\n",
            "125/125 [==============================] - 17s 134ms/step - loss: 0.0022 - accuracy: 0.9995 - val_loss: 6.3451 - val_accuracy: 0.6877\n",
            "Epoch 96/100\n",
            "125/125 [==============================] - 17s 134ms/step - loss: 0.0039 - accuracy: 0.9998 - val_loss: 6.8613 - val_accuracy: 0.6965\n",
            "Epoch 97/100\n",
            "125/125 [==============================] - 17s 134ms/step - loss: 0.0026 - accuracy: 0.9993 - val_loss: 6.7533 - val_accuracy: 0.6960\n",
            "Epoch 98/100\n",
            "125/125 [==============================] - 17s 134ms/step - loss: 0.0023 - accuracy: 0.9992 - val_loss: 6.7129 - val_accuracy: 0.7007\n",
            "Epoch 99/100\n",
            "125/125 [==============================] - 17s 134ms/step - loss: 0.0024 - accuracy: 0.9995 - val_loss: 6.6179 - val_accuracy: 0.6837\n",
            "Epoch 100/100\n",
            "125/125 [==============================] - 17s 133ms/step - loss: 0.0033 - accuracy: 0.9991 - val_loss: 7.5676 - val_accuracy: 0.6840\n"
          ],
          "name": "stdout"
        }
      ]
    },
    {
      "cell_type": "code",
      "metadata": {
        "id": "8XRxWaq2wzGT",
        "colab": {
          "base_uri": "https://localhost:8080/",
          "height": 265
        },
        "outputId": "c40cbab8-449c-4569-9f8a-3dfb93a7eeda"
      },
      "source": [
        "plt.plot(history.history['accuracy'], label='Training accuracy')\n",
        "plt.plot(history.history['val_accuracy'], label='Validation Accuracy')\n",
        "plt.show()"
      ],
      "execution_count": null,
      "outputs": [
        {
          "output_type": "display_data",
          "data": {
            "image/png": "[encoded data removed]",
            "text/plain": [
              "<Figure size 432x288 with 1 Axes>"
            ]
          },
          "metadata": {
            "tags": [],
            "needs_background": "light"
          }
        }
      ]
    },
    {
      "cell_type": "markdown",
      "metadata": {
        "id": "JNRxDBUX4wJd"
      },
      "source": [
        "BiDirectional LSTM with regulariziers"
      ]
    },
    {
      "cell_type": "code",
      "metadata": {
        "id": "0WMKmTQc3eqF"
      },
      "source": [
        "def BiDir_LSTM_regularization():\n",
        "  inp = Input(shape=[max_len])\n",
        "  x = Embedding(max_words,50,input_length=max_len)(inp)\n",
        "  x = Bidirectional(LSTM(256,kernel_regularizer=l2(0.01),recurrent_regularizer=l2(0.01), bias_regularizer=l2(0.01), return_sequences=True, dropout=0.25, recurrent_dropout=0))(x)\n",
        "  x = Bidirectional(LSTM(256, return_sequences=True, dropout=0.25, recurrent_dropout=0))(x)\n",
        "  x = GlobalMaxPool1D()(x)\n",
        "  x = Dense(256, activation=\"relu\")(x)\n",
        "  x = Dropout(0.2)(x)\n",
        "  x = Dense(1, activation=\"sigmoid\")(x)\n",
        "  model = Model(inputs=inp, outputs=x)\n",
        "  return model"
      ],
      "execution_count": null,
      "outputs": []
    },
    {
      "cell_type": "code",
      "metadata": {
        "id": "rGl9D-_N5IO2",
        "colab": {
          "base_uri": "https://localhost:8080/",
          "height": 425
        },
        "outputId": "29dafd21-b50c-47a7-fcfb-81541dba2e08"
      },
      "source": [
        "model = BiDir_LSTM_regularization()\n",
        "model.summary()\n",
        "model.compile(loss='binary_crossentropy',optimizer=RMSprop(),metrics=['accuracy'])"
      ],
      "execution_count": null,
      "outputs": [
        {
          "output_type": "stream",
          "text": [
            "Model: \"functional_1\"\n",
            "_________________________________________________________________\n",
            "Layer (type)                 Output Shape              Param #   \n",
            "=================================================================\n",
            "input_1 (InputLayer)         [(None, 150)]             0         \n",
            "_________________________________________________________________\n",
            "embedding (Embedding)        (None, 150, 50)           500000    \n",
            "_________________________________________________________________\n",
            "bidirectional (Bidirectional (None, 150, 512)          628736    \n",
            "_________________________________________________________________\n",
            "bidirectional_1 (Bidirection (None, 150, 512)          1574912   \n",
            "_________________________________________________________________\n",
            "global_max_pooling1d (Global (None, 512)               0         \n",
            "_________________________________________________________________\n",
            "dense (Dense)                (None, 256)               131328    \n",
            "_________________________________________________________________\n",
            "dropout (Dropout)            (None, 256)               0         \n",
            "_________________________________________________________________\n",
            "dense_1 (Dense)              (None, 1)                 257       \n",
            "=================================================================\n",
            "Total params: 2,835,233\n",
            "Trainable params: 2,835,233\n",
            "Non-trainable params: 0\n",
            "_________________________________________________________________\n"
          ],
          "name": "stdout"
        }
      ]
    },
    {
      "cell_type": "code",
      "metadata": {
        "id": "IJrHYpSl5VVJ",
        "colab": {
          "base_uri": "https://localhost:8080/",
          "height": 357
        },
        "outputId": "1fd1e83b-ad6d-429b-b4cd-bbfa54e5bc22"
      },
      "source": [
        "history = model.fit(sequences_matrix, Y,validation_split=0.2, batch_size=128, epochs=10)"
      ],
      "execution_count": null,
      "outputs": [
        {
          "output_type": "stream",
          "text": [
            "Epoch 1/10\n",
            "125/125 [==============================] - 18s 141ms/step - loss: 5.8335 - accuracy: 0.7123 - val_loss: 4.3898 - val_accuracy: 0.7567\n",
            "Epoch 2/10\n",
            "125/125 [==============================] - 17s 133ms/step - loss: 3.8401 - accuracy: 0.7708 - val_loss: 3.3509 - val_accuracy: 0.7585\n",
            "Epoch 3/10\n",
            "125/125 [==============================] - 16s 132ms/step - loss: 2.8513 - accuracy: 0.8026 - val_loss: 2.4798 - val_accuracy: 0.7713\n",
            "Epoch 4/10\n",
            "125/125 [==============================] - 16s 132ms/step - loss: 2.0257 - accuracy: 0.8210 - val_loss: 1.8365 - val_accuracy: 0.7558\n",
            "Epoch 5/10\n",
            "125/125 [==============================] - 16s 132ms/step - loss: 1.3764 - accuracy: 0.8337 - val_loss: 1.2608 - val_accuracy: 0.7495\n",
            "Epoch 6/10\n",
            "125/125 [==============================] - 16s 132ms/step - loss: 0.8918 - accuracy: 0.8443 - val_loss: 0.8811 - val_accuracy: 0.7605\n",
            "Epoch 7/10\n",
            "125/125 [==============================] - 16s 132ms/step - loss: 0.5637 - accuracy: 0.8509 - val_loss: 0.6425 - val_accuracy: 0.7573\n",
            "Epoch 8/10\n",
            "125/125 [==============================] - 16s 132ms/step - loss: 0.3913 - accuracy: 0.8547 - val_loss: 0.6006 - val_accuracy: 0.7448\n",
            "Epoch 9/10\n",
            "125/125 [==============================] - 16s 132ms/step - loss: 0.3379 - accuracy: 0.8617 - val_loss: 0.5837 - val_accuracy: 0.7490\n",
            "Epoch 10/10\n",
            "125/125 [==============================] - 16s 132ms/step - loss: 0.3253 - accuracy: 0.8678 - val_loss: 0.6360 - val_accuracy: 0.7337\n"
          ],
          "name": "stdout"
        }
      ]
    },
    {
      "cell_type": "code",
      "metadata": {
        "id": "XqyoltSJ76oo",
        "colab": {
          "base_uri": "https://localhost:8080/",
          "height": 265
        },
        "outputId": "d5d4ef38-1a47-4a42-fb90-d2d430d628ca"
      },
      "source": [
        "plt.plot(history.history['accuracy'], label='Training accuracy')\n",
        "plt.plot(history.history['val_accuracy'], label='Validation Accuracy')\n",
        "plt.show()"
      ],
      "execution_count": null,
      "outputs": [
        {
          "output_type": "display_data",
          "data": {
            "image/png": "[encoded data removed]",
            "text/plain": [
              "<Figure size 432x288 with 1 Axes>"
            ]
          },
          "metadata": {
            "tags": [],
            "needs_background": "light"
          }
        }
      ]
    },
    {
      "cell_type": "code",
      "metadata": {
        "id": "VXDswOk69RG4"
      },
      "source": [
        "def BiDir_LSTM_l1_regularization():\n",
        "  inp = Input(shape=[max_len])\n",
        "  x = Embedding(max_words,50,input_length=max_len)(inp)\n",
        "  x = Bidirectional(LSTM(256,kernel_regularizer=l1(0.01),recurrent_regularizer=l1(0.01), bias_regularizer=l1(0.01), return_sequences=True, dropout=0.25, recurrent_dropout=0))(x)\n",
        "  x = Bidirectional(LSTM(256, return_sequences=True, dropout=0.25, recurrent_dropout=0))(x)\n",
        "  x = GlobalMaxPool1D()(x)\n",
        "  x = Dense(256, activation=\"relu\")(x)\n",
        "  x = Dropout(0.2)(x)\n",
        "  x = Dense(1, activation=\"sigmoid\")(x)\n",
        "  model = Model(inputs=inp, outputs=x)\n",
        "  return model"
      ],
      "execution_count": null,
      "outputs": []
    },
    {
      "cell_type": "code",
      "metadata": {
        "id": "SKE8cSLP-ozm",
        "colab": {
          "base_uri": "https://localhost:8080/",
          "height": 425
        },
        "outputId": "3bdb108d-0e02-4211-85a6-71d19781daaf"
      },
      "source": [
        "model = BiDir_LSTM_l1_regularization()\n",
        "model.summary()\n",
        "model.compile(loss='binary_crossentropy',optimizer=RMSprop(),metrics=['accuracy'])"
      ],
      "execution_count": null,
      "outputs": [
        {
          "output_type": "stream",
          "text": [
            "Model: \"functional_3\"\n",
            "_________________________________________________________________\n",
            "Layer (type)                 Output Shape              Param #   \n",
            "=================================================================\n",
            "input_2 (InputLayer)         [(None, 150)]             0         \n",
            "_________________________________________________________________\n",
            "embedding_1 (Embedding)      (None, 150, 50)           500000    \n",
            "_________________________________________________________________\n",
            "bidirectional_2 (Bidirection (None, 150, 512)          628736    \n",
            "_________________________________________________________________\n",
            "bidirectional_3 (Bidirection (None, 150, 512)          1574912   \n",
            "_________________________________________________________________\n",
            "global_max_pooling1d_1 (Glob (None, 512)               0         \n",
            "_________________________________________________________________\n",
            "dense_2 (Dense)              (None, 256)               131328    \n",
            "_________________________________________________________________\n",
            "dropout_1 (Dropout)          (None, 256)               0         \n",
            "_________________________________________________________________\n",
            "dense_3 (Dense)              (None, 1)                 257       \n",
            "=================================================================\n",
            "Total params: 2,835,233\n",
            "Trainable params: 2,835,233\n",
            "Non-trainable params: 0\n",
            "_________________________________________________________________\n"
          ],
          "name": "stdout"
        }
      ]
    },
    {
      "cell_type": "code",
      "metadata": {
        "id": "Pi6sxmfa-w1y",
        "colab": {
          "base_uri": "https://localhost:8080/",
          "height": 357
        },
        "outputId": "b1dce474-77cf-4ccd-d316-4f34ea70e270"
      },
      "source": [
        "history = model.fit(sequences_matrix, Y,validation_split=0.2, batch_size=128, epochs=10)"
      ],
      "execution_count": null,
      "outputs": [
        {
          "output_type": "stream",
          "text": [
            "Epoch 1/10\n",
            "125/125 [==============================] - 17s 135ms/step - loss: 28.5055 - accuracy: 0.6833 - val_loss: 8.1967 - val_accuracy: 0.7540\n",
            "Epoch 2/10\n",
            "125/125 [==============================] - 16s 128ms/step - loss: 7.8423 - accuracy: 0.7337 - val_loss: 7.4966 - val_accuracy: 0.7007\n",
            "Epoch 3/10\n",
            "125/125 [==============================] - 16s 129ms/step - loss: 7.1705 - accuracy: 0.7547 - val_loss: 6.8621 - val_accuracy: 0.7640\n",
            "Epoch 4/10\n",
            "125/125 [==============================] - 16s 131ms/step - loss: 6.5035 - accuracy: 0.7752 - val_loss: 6.1808 - val_accuracy: 0.7402\n",
            "Epoch 5/10\n",
            "125/125 [==============================] - 16s 131ms/step - loss: 5.8242 - accuracy: 0.7997 - val_loss: 5.5787 - val_accuracy: 0.7738\n",
            "Epoch 6/10\n",
            "125/125 [==============================] - 16s 131ms/step - loss: 5.1563 - accuracy: 0.8151 - val_loss: 4.8832 - val_accuracy: 0.7508\n",
            "Epoch 7/10\n",
            "125/125 [==============================] - 16s 131ms/step - loss: 4.4977 - accuracy: 0.8241 - val_loss: 4.3197 - val_accuracy: 0.7653\n",
            "Epoch 8/10\n",
            "125/125 [==============================] - 16s 131ms/step - loss: 3.8484 - accuracy: 0.8283 - val_loss: 3.6678 - val_accuracy: 0.7570\n",
            "Epoch 9/10\n",
            "125/125 [==============================] - 16s 131ms/step - loss: 3.5552 - accuracy: 0.8367 - val_loss: 3.7332 - val_accuracy: 0.7427\n",
            "Epoch 10/10\n",
            "125/125 [==============================] - 16s 132ms/step - loss: 3.5380 - accuracy: 0.8427 - val_loss: 3.6988 - val_accuracy: 0.7437\n"
          ],
          "name": "stdout"
        }
      ]
    },
    {
      "cell_type": "code",
      "metadata": {
        "id": "X5TENAhV-2m1",
        "colab": {
          "base_uri": "https://localhost:8080/",
          "height": 265
        },
        "outputId": "f1b48ba7-29a3-444b-c773-f5292c4e9bb9"
      },
      "source": [
        "plt.plot(history.history['accuracy'], label='Training accuracy')\n",
        "plt.plot(history.history['val_accuracy'], label='Validation Accuracy')\n",
        "plt.show()"
      ],
      "execution_count": null,
      "outputs": [
        {
          "output_type": "display_data",
          "data": {
            "image/png": "[encoded data removed]",
            "text/plain": [
              "<Figure size 432x288 with 1 Axes>"
            ]
          },
          "metadata": {
            "tags": [],
            "needs_background": "light"
          }
        }
      ]
    },
    {
      "cell_type": "code",
      "metadata": {
        "id": "F_kKJsb6_hlY"
      },
      "source": [
        ""
      ],
      "execution_count": null,
      "outputs": []
    },
    {
      "cell_type": "code",
      "metadata": {
        "id": "X9bo1YxJAJiL"
      },
      "source": [
        "def BiDir_LSTM_l1_regularization2():\n",
        "  inp = Input(shape=[max_len])\n",
        "  x = Embedding(max_words,50,input_length=max_len)(inp)\n",
        "  x = Bidirectional(LSTM(256,kernel_regularizer=l1(0.01),recurrent_regularizer=l1(0.01), bias_regularizer=l1(0.01), return_sequences=True, dropout=0.25, recurrent_dropout=0))(x)\n",
        "  x = Bidirectional(LSTM(256, return_sequences=True, dropout=0.25, recurrent_dropout=0))(x)\n",
        "  x = GlobalMaxPool1D()(x)\n",
        "  x = Dense(256,kernel_regularizer=regularizers.l2(0.01), activation=\"relu\")(x)\n",
        "  x = Dropout(0.2)(x)\n",
        "  x = Dense(1, activation=\"sigmoid\")(x)\n",
        "  model = Model(inputs=inp, outputs=x)\n",
        "  return model"
      ],
      "execution_count": null,
      "outputs": []
    },
    {
      "cell_type": "code",
      "metadata": {
        "id": "zyfdIEGjB1c_",
        "colab": {
          "base_uri": "https://localhost:8080/",
          "height": 425
        },
        "outputId": "856c052a-0ade-4f8f-9cac-589fc5097d87"
      },
      "source": [
        "model = BiDir_LSTM_l1_regularization2()\n",
        "model.summary()\n",
        "model.compile(loss='binary_crossentropy',optimizer=RMSprop(),metrics=['accuracy'])"
      ],
      "execution_count": null,
      "outputs": [
        {
          "output_type": "stream",
          "text": [
            "Model: \"functional_5\"\n",
            "_________________________________________________________________\n",
            "Layer (type)                 Output Shape              Param #   \n",
            "=================================================================\n",
            "input_4 (InputLayer)         [(None, 150)]             0         \n",
            "_________________________________________________________________\n",
            "embedding_3 (Embedding)      (None, 150, 50)           500000    \n",
            "_________________________________________________________________\n",
            "bidirectional_6 (Bidirection (None, 150, 512)          628736    \n",
            "_________________________________________________________________\n",
            "bidirectional_7 (Bidirection (None, 150, 512)          1574912   \n",
            "_________________________________________________________________\n",
            "global_max_pooling1d_3 (Glob (None, 512)               0         \n",
            "_________________________________________________________________\n",
            "dense_4 (Dense)              (None, 256)               131328    \n",
            "_________________________________________________________________\n",
            "dropout_2 (Dropout)          (None, 256)               0         \n",
            "_________________________________________________________________\n",
            "dense_5 (Dense)              (None, 1)                 257       \n",
            "=================================================================\n",
            "Total params: 2,835,233\n",
            "Trainable params: 2,835,233\n",
            "Non-trainable params: 0\n",
            "_________________________________________________________________\n"
          ],
          "name": "stdout"
        }
      ]
    },
    {
      "cell_type": "code",
      "metadata": {
        "id": "NjE5vQJ0B873",
        "colab": {
          "base_uri": "https://localhost:8080/",
          "height": 357
        },
        "outputId": "c6512565-2b1e-4bed-9bf3-ee488751cdb0"
      },
      "source": [
        "history = model.fit(sequences_matrix, Y,validation_split=0.2, batch_size=128, epochs=10)"
      ],
      "execution_count": null,
      "outputs": [
        {
          "output_type": "stream",
          "text": [
            "Epoch 1/10\n",
            "125/125 [==============================] - 18s 140ms/step - loss: 28.9970 - accuracy: 0.5044 - val_loss: 8.2866 - val_accuracy: 0.4843\n",
            "Epoch 2/10\n",
            "125/125 [==============================] - 16s 132ms/step - loss: 7.9490 - accuracy: 0.4985 - val_loss: 7.5900 - val_accuracy: 0.4843\n",
            "Epoch 3/10\n",
            "125/125 [==============================] - 17s 132ms/step - loss: 7.3066 - accuracy: 0.5031 - val_loss: 7.0165 - val_accuracy: 0.4843\n",
            "Epoch 4/10\n",
            "125/125 [==============================] - 16s 132ms/step - loss: 6.6690 - accuracy: 0.5005 - val_loss: 6.3447 - val_accuracy: 0.4843\n",
            "Epoch 5/10\n",
            "125/125 [==============================] - 16s 132ms/step - loss: 6.0271 - accuracy: 0.5028 - val_loss: 5.7278 - val_accuracy: 0.4843\n",
            "Epoch 6/10\n",
            "125/125 [==============================] - 16s 132ms/step - loss: 5.3889 - accuracy: 0.5054 - val_loss: 5.0319 - val_accuracy: 0.5157\n",
            "Epoch 7/10\n",
            "125/125 [==============================] - 16s 132ms/step - loss: 4.7469 - accuracy: 0.5002 - val_loss: 4.4567 - val_accuracy: 0.4843\n",
            "Epoch 8/10\n",
            "125/125 [==============================] - 16s 132ms/step - loss: 4.1102 - accuracy: 0.5043 - val_loss: 3.8115 - val_accuracy: 0.4843\n",
            "Epoch 9/10\n",
            "125/125 [==============================] - 16s 132ms/step - loss: 3.8340 - accuracy: 0.5061 - val_loss: 3.8530 - val_accuracy: 0.4843\n",
            "Epoch 10/10\n",
            "125/125 [==============================] - 16s 132ms/step - loss: 3.8351 - accuracy: 0.5039 - val_loss: 3.7988 - val_accuracy: 0.4843\n"
          ],
          "name": "stdout"
        }
      ]
    },
    {
      "cell_type": "code",
      "metadata": {
        "id": "RKCny-qnDGOd",
        "colab": {
          "base_uri": "https://localhost:8080/",
          "height": 265
        },
        "outputId": "e75f8f13-2ed1-435d-f50b-ca21a25efbaf"
      },
      "source": [
        "plt.plot(history.history['accuracy'], label='Training accuracy')\n",
        "plt.plot(history.history['val_accuracy'], label='Validation Accuracy')\n",
        "plt.show()"
      ],
      "execution_count": null,
      "outputs": [
        {
          "output_type": "display_data",
          "data": {
            "image/png": "[encoded data removed]",
            "text/plain": [
              "<Figure size 432x288 with 1 Axes>"
            ]
          },
          "metadata": {
            "tags": [],
            "needs_background": "light"
          }
        }
      ]
    },
    {
      "cell_type": "code",
      "metadata": {
        "id": "Z_QHBhUJDHTF"
      },
      "source": [
        ""
      ],
      "execution_count": null,
      "outputs": []
    }
  ]
}